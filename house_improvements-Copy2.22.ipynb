{
 "cells": [
  {
   "cell_type": "markdown",
   "metadata": {},
   "source": [
    "## Final Project Submission\n",
    "\n",
    "Please fill out:\n",
    "* Student name: Jim Petoskey\n",
    "* Student pace: self paced\n",
    "* Scheduled project review date/time: \n",
    "* Instructor name: \n",
    "* Blog post URL:\n"
   ]
  },
  {
   "cell_type": "markdown",
   "metadata": {},
   "source": [
    "## Ideas for project\n",
    "* How much should Redfin pay for a given house? And, are there houses Redfin shouldn't buy?  If so, which ones?\n",
    "    * buy houses with predictable value at 5% below predicted sale value.\n",
    "        * Predictability of sale value determined by low R squared value.\n",
    "    * how many houses did sell for a predicted value based on our model?\n",
    "        * e.g. we use data from 2009-2013 to make model and test it on sales in the 2014-2018 range."
   ]
  },
  {
   "cell_type": "markdown",
   "metadata": {},
   "source": [
    "# Exploring Data"
   ]
  },
  {
   "cell_type": "code",
   "execution_count": 280,
   "metadata": {
    "ExecuteTime": {
     "end_time": "2022-02-22T19:15:39.059214Z",
     "start_time": "2022-02-22T19:15:39.047742Z"
    }
   },
   "outputs": [],
   "source": [
    "# Import standard packages\n",
    "import pandas as pd\n",
    "import numpy as np\n",
    "import matplotlib.pyplot as plt\n",
    "import seaborn as sns\n",
    "import statsmodels.api as sm\n",
    "from sklearn.linear_model import LinearRegression\n",
    "from sklearn.feature_selection import RFE\n",
    "from sklearn.preprocessing import PolynomialFeatures, StandardScaler\n",
    "from sklearn.preprocessing import LabelEncoder\n",
    "from sklearn.impute import MissingIndicator\n",
    "from sklearn.impute import SimpleImputer\n",
    "from sklearn.preprocessing import OneHotEncoder\n",
    "from sklearn.preprocessing import OrdinalEncoder\n",
    "from sklearn.model_selection import cross_validate, ShuffleSplit\n",
    "from sklearn.model_selection import train_test_split\n",
    "from sklearn.metrics import mean_squared_error\n",
    "import random\n",
    "\n",
    "%matplotlib inline"
   ]
  },
  {
   "cell_type": "code",
   "execution_count": 188,
   "metadata": {
    "ExecuteTime": {
     "end_time": "2022-02-22T19:05:05.708904Z",
     "start_time": "2022-02-22T19:05:05.484987Z"
    }
   },
   "outputs": [],
   "source": [
    "house_df = pd.read_csv('data/kc_house_data.csv')\n",
    "#column_names = pd.read_csv('data/column_names.md')"
   ]
  },
  {
   "cell_type": "markdown",
   "metadata": {},
   "source": [
    "## What's in kc_house_data?"
   ]
  },
  {
   "cell_type": "code",
   "execution_count": 189,
   "metadata": {
    "ExecuteTime": {
     "end_time": "2022-02-22T19:05:05.761619Z",
     "start_time": "2022-02-22T19:05:05.719260Z"
    }
   },
   "outputs": [
    {
     "name": "stdout",
     "output_type": "stream",
     "text": [
      "<class 'pandas.core.frame.DataFrame'>\n",
      "RangeIndex: 21597 entries, 0 to 21596\n",
      "Data columns (total 21 columns):\n",
      " #   Column         Non-Null Count  Dtype  \n",
      "---  ------         --------------  -----  \n",
      " 0   id             21597 non-null  int64  \n",
      " 1   date           21597 non-null  object \n",
      " 2   price          21597 non-null  float64\n",
      " 3   bedrooms       21597 non-null  int64  \n",
      " 4   bathrooms      21597 non-null  float64\n",
      " 5   sqft_living    21597 non-null  int64  \n",
      " 6   sqft_lot       21597 non-null  int64  \n",
      " 7   floors         21597 non-null  float64\n",
      " 8   waterfront     19221 non-null  object \n",
      " 9   view           21534 non-null  object \n",
      " 10  condition      21597 non-null  object \n",
      " 11  grade          21597 non-null  object \n",
      " 12  sqft_above     21597 non-null  int64  \n",
      " 13  sqft_basement  21597 non-null  object \n",
      " 14  yr_built       21597 non-null  int64  \n",
      " 15  yr_renovated   17755 non-null  float64\n",
      " 16  zipcode        21597 non-null  int64  \n",
      " 17  lat            21597 non-null  float64\n",
      " 18  long           21597 non-null  float64\n",
      " 19  sqft_living15  21597 non-null  int64  \n",
      " 20  sqft_lot15     21597 non-null  int64  \n",
      "dtypes: float64(6), int64(9), object(6)\n",
      "memory usage: 3.5+ MB\n"
     ]
    }
   ],
   "source": [
    "house_df.info()"
   ]
  },
  {
   "cell_type": "code",
   "execution_count": 190,
   "metadata": {
    "ExecuteTime": {
     "end_time": "2022-02-22T19:05:05.865602Z",
     "start_time": "2022-02-22T19:05:05.767713Z"
    }
   },
   "outputs": [
    {
     "data": {
      "text/html": [
       "<div>\n",
       "<style scoped>\n",
       "    .dataframe tbody tr th:only-of-type {\n",
       "        vertical-align: middle;\n",
       "    }\n",
       "\n",
       "    .dataframe tbody tr th {\n",
       "        vertical-align: top;\n",
       "    }\n",
       "\n",
       "    .dataframe thead th {\n",
       "        text-align: right;\n",
       "    }\n",
       "</style>\n",
       "<table border=\"1\" class=\"dataframe\">\n",
       "  <thead>\n",
       "    <tr style=\"text-align: right;\">\n",
       "      <th></th>\n",
       "      <th>id</th>\n",
       "      <th>date</th>\n",
       "      <th>price</th>\n",
       "      <th>bedrooms</th>\n",
       "      <th>bathrooms</th>\n",
       "      <th>sqft_living</th>\n",
       "      <th>sqft_lot</th>\n",
       "      <th>floors</th>\n",
       "      <th>waterfront</th>\n",
       "      <th>view</th>\n",
       "      <th>...</th>\n",
       "      <th>grade</th>\n",
       "      <th>sqft_above</th>\n",
       "      <th>sqft_basement</th>\n",
       "      <th>yr_built</th>\n",
       "      <th>yr_renovated</th>\n",
       "      <th>zipcode</th>\n",
       "      <th>lat</th>\n",
       "      <th>long</th>\n",
       "      <th>sqft_living15</th>\n",
       "      <th>sqft_lot15</th>\n",
       "    </tr>\n",
       "  </thead>\n",
       "  <tbody>\n",
       "    <tr>\n",
       "      <th>0</th>\n",
       "      <td>7129300520</td>\n",
       "      <td>10/13/2014</td>\n",
       "      <td>221900.0</td>\n",
       "      <td>3</td>\n",
       "      <td>1.00</td>\n",
       "      <td>1180</td>\n",
       "      <td>5650</td>\n",
       "      <td>1.0</td>\n",
       "      <td>NaN</td>\n",
       "      <td>NONE</td>\n",
       "      <td>...</td>\n",
       "      <td>7 Average</td>\n",
       "      <td>1180</td>\n",
       "      <td>0.0</td>\n",
       "      <td>1955</td>\n",
       "      <td>0.0</td>\n",
       "      <td>98178</td>\n",
       "      <td>47.5112</td>\n",
       "      <td>-122.257</td>\n",
       "      <td>1340</td>\n",
       "      <td>5650</td>\n",
       "    </tr>\n",
       "    <tr>\n",
       "      <th>1</th>\n",
       "      <td>6414100192</td>\n",
       "      <td>12/9/2014</td>\n",
       "      <td>538000.0</td>\n",
       "      <td>3</td>\n",
       "      <td>2.25</td>\n",
       "      <td>2570</td>\n",
       "      <td>7242</td>\n",
       "      <td>2.0</td>\n",
       "      <td>NO</td>\n",
       "      <td>NONE</td>\n",
       "      <td>...</td>\n",
       "      <td>7 Average</td>\n",
       "      <td>2170</td>\n",
       "      <td>400.0</td>\n",
       "      <td>1951</td>\n",
       "      <td>1991.0</td>\n",
       "      <td>98125</td>\n",
       "      <td>47.7210</td>\n",
       "      <td>-122.319</td>\n",
       "      <td>1690</td>\n",
       "      <td>7639</td>\n",
       "    </tr>\n",
       "    <tr>\n",
       "      <th>2</th>\n",
       "      <td>5631500400</td>\n",
       "      <td>2/25/2015</td>\n",
       "      <td>180000.0</td>\n",
       "      <td>2</td>\n",
       "      <td>1.00</td>\n",
       "      <td>770</td>\n",
       "      <td>10000</td>\n",
       "      <td>1.0</td>\n",
       "      <td>NO</td>\n",
       "      <td>NONE</td>\n",
       "      <td>...</td>\n",
       "      <td>6 Low Average</td>\n",
       "      <td>770</td>\n",
       "      <td>0.0</td>\n",
       "      <td>1933</td>\n",
       "      <td>NaN</td>\n",
       "      <td>98028</td>\n",
       "      <td>47.7379</td>\n",
       "      <td>-122.233</td>\n",
       "      <td>2720</td>\n",
       "      <td>8062</td>\n",
       "    </tr>\n",
       "    <tr>\n",
       "      <th>3</th>\n",
       "      <td>2487200875</td>\n",
       "      <td>12/9/2014</td>\n",
       "      <td>604000.0</td>\n",
       "      <td>4</td>\n",
       "      <td>3.00</td>\n",
       "      <td>1960</td>\n",
       "      <td>5000</td>\n",
       "      <td>1.0</td>\n",
       "      <td>NO</td>\n",
       "      <td>NONE</td>\n",
       "      <td>...</td>\n",
       "      <td>7 Average</td>\n",
       "      <td>1050</td>\n",
       "      <td>910.0</td>\n",
       "      <td>1965</td>\n",
       "      <td>0.0</td>\n",
       "      <td>98136</td>\n",
       "      <td>47.5208</td>\n",
       "      <td>-122.393</td>\n",
       "      <td>1360</td>\n",
       "      <td>5000</td>\n",
       "    </tr>\n",
       "    <tr>\n",
       "      <th>4</th>\n",
       "      <td>1954400510</td>\n",
       "      <td>2/18/2015</td>\n",
       "      <td>510000.0</td>\n",
       "      <td>3</td>\n",
       "      <td>2.00</td>\n",
       "      <td>1680</td>\n",
       "      <td>8080</td>\n",
       "      <td>1.0</td>\n",
       "      <td>NO</td>\n",
       "      <td>NONE</td>\n",
       "      <td>...</td>\n",
       "      <td>8 Good</td>\n",
       "      <td>1680</td>\n",
       "      <td>0.0</td>\n",
       "      <td>1987</td>\n",
       "      <td>0.0</td>\n",
       "      <td>98074</td>\n",
       "      <td>47.6168</td>\n",
       "      <td>-122.045</td>\n",
       "      <td>1800</td>\n",
       "      <td>7503</td>\n",
       "    </tr>\n",
       "    <tr>\n",
       "      <th>...</th>\n",
       "      <td>...</td>\n",
       "      <td>...</td>\n",
       "      <td>...</td>\n",
       "      <td>...</td>\n",
       "      <td>...</td>\n",
       "      <td>...</td>\n",
       "      <td>...</td>\n",
       "      <td>...</td>\n",
       "      <td>...</td>\n",
       "      <td>...</td>\n",
       "      <td>...</td>\n",
       "      <td>...</td>\n",
       "      <td>...</td>\n",
       "      <td>...</td>\n",
       "      <td>...</td>\n",
       "      <td>...</td>\n",
       "      <td>...</td>\n",
       "      <td>...</td>\n",
       "      <td>...</td>\n",
       "      <td>...</td>\n",
       "      <td>...</td>\n",
       "    </tr>\n",
       "    <tr>\n",
       "      <th>21592</th>\n",
       "      <td>263000018</td>\n",
       "      <td>5/21/2014</td>\n",
       "      <td>360000.0</td>\n",
       "      <td>3</td>\n",
       "      <td>2.50</td>\n",
       "      <td>1530</td>\n",
       "      <td>1131</td>\n",
       "      <td>3.0</td>\n",
       "      <td>NO</td>\n",
       "      <td>NONE</td>\n",
       "      <td>...</td>\n",
       "      <td>8 Good</td>\n",
       "      <td>1530</td>\n",
       "      <td>0.0</td>\n",
       "      <td>2009</td>\n",
       "      <td>0.0</td>\n",
       "      <td>98103</td>\n",
       "      <td>47.6993</td>\n",
       "      <td>-122.346</td>\n",
       "      <td>1530</td>\n",
       "      <td>1509</td>\n",
       "    </tr>\n",
       "    <tr>\n",
       "      <th>21593</th>\n",
       "      <td>6600060120</td>\n",
       "      <td>2/23/2015</td>\n",
       "      <td>400000.0</td>\n",
       "      <td>4</td>\n",
       "      <td>2.50</td>\n",
       "      <td>2310</td>\n",
       "      <td>5813</td>\n",
       "      <td>2.0</td>\n",
       "      <td>NO</td>\n",
       "      <td>NONE</td>\n",
       "      <td>...</td>\n",
       "      <td>8 Good</td>\n",
       "      <td>2310</td>\n",
       "      <td>0.0</td>\n",
       "      <td>2014</td>\n",
       "      <td>0.0</td>\n",
       "      <td>98146</td>\n",
       "      <td>47.5107</td>\n",
       "      <td>-122.362</td>\n",
       "      <td>1830</td>\n",
       "      <td>7200</td>\n",
       "    </tr>\n",
       "    <tr>\n",
       "      <th>21594</th>\n",
       "      <td>1523300141</td>\n",
       "      <td>6/23/2014</td>\n",
       "      <td>402101.0</td>\n",
       "      <td>2</td>\n",
       "      <td>0.75</td>\n",
       "      <td>1020</td>\n",
       "      <td>1350</td>\n",
       "      <td>2.0</td>\n",
       "      <td>NO</td>\n",
       "      <td>NONE</td>\n",
       "      <td>...</td>\n",
       "      <td>7 Average</td>\n",
       "      <td>1020</td>\n",
       "      <td>0.0</td>\n",
       "      <td>2009</td>\n",
       "      <td>0.0</td>\n",
       "      <td>98144</td>\n",
       "      <td>47.5944</td>\n",
       "      <td>-122.299</td>\n",
       "      <td>1020</td>\n",
       "      <td>2007</td>\n",
       "    </tr>\n",
       "    <tr>\n",
       "      <th>21595</th>\n",
       "      <td>291310100</td>\n",
       "      <td>1/16/2015</td>\n",
       "      <td>400000.0</td>\n",
       "      <td>3</td>\n",
       "      <td>2.50</td>\n",
       "      <td>1600</td>\n",
       "      <td>2388</td>\n",
       "      <td>2.0</td>\n",
       "      <td>NaN</td>\n",
       "      <td>NONE</td>\n",
       "      <td>...</td>\n",
       "      <td>8 Good</td>\n",
       "      <td>1600</td>\n",
       "      <td>0.0</td>\n",
       "      <td>2004</td>\n",
       "      <td>0.0</td>\n",
       "      <td>98027</td>\n",
       "      <td>47.5345</td>\n",
       "      <td>-122.069</td>\n",
       "      <td>1410</td>\n",
       "      <td>1287</td>\n",
       "    </tr>\n",
       "    <tr>\n",
       "      <th>21596</th>\n",
       "      <td>1523300157</td>\n",
       "      <td>10/15/2014</td>\n",
       "      <td>325000.0</td>\n",
       "      <td>2</td>\n",
       "      <td>0.75</td>\n",
       "      <td>1020</td>\n",
       "      <td>1076</td>\n",
       "      <td>2.0</td>\n",
       "      <td>NO</td>\n",
       "      <td>NONE</td>\n",
       "      <td>...</td>\n",
       "      <td>7 Average</td>\n",
       "      <td>1020</td>\n",
       "      <td>0.0</td>\n",
       "      <td>2008</td>\n",
       "      <td>0.0</td>\n",
       "      <td>98144</td>\n",
       "      <td>47.5941</td>\n",
       "      <td>-122.299</td>\n",
       "      <td>1020</td>\n",
       "      <td>1357</td>\n",
       "    </tr>\n",
       "  </tbody>\n",
       "</table>\n",
       "<p>21597 rows × 21 columns</p>\n",
       "</div>"
      ],
      "text/plain": [
       "               id        date     price  bedrooms  bathrooms  sqft_living  \\\n",
       "0      7129300520  10/13/2014  221900.0         3       1.00         1180   \n",
       "1      6414100192   12/9/2014  538000.0         3       2.25         2570   \n",
       "2      5631500400   2/25/2015  180000.0         2       1.00          770   \n",
       "3      2487200875   12/9/2014  604000.0         4       3.00         1960   \n",
       "4      1954400510   2/18/2015  510000.0         3       2.00         1680   \n",
       "...           ...         ...       ...       ...        ...          ...   \n",
       "21592   263000018   5/21/2014  360000.0         3       2.50         1530   \n",
       "21593  6600060120   2/23/2015  400000.0         4       2.50         2310   \n",
       "21594  1523300141   6/23/2014  402101.0         2       0.75         1020   \n",
       "21595   291310100   1/16/2015  400000.0         3       2.50         1600   \n",
       "21596  1523300157  10/15/2014  325000.0         2       0.75         1020   \n",
       "\n",
       "       sqft_lot  floors waterfront  view  ...          grade sqft_above  \\\n",
       "0          5650     1.0        NaN  NONE  ...      7 Average       1180   \n",
       "1          7242     2.0         NO  NONE  ...      7 Average       2170   \n",
       "2         10000     1.0         NO  NONE  ...  6 Low Average        770   \n",
       "3          5000     1.0         NO  NONE  ...      7 Average       1050   \n",
       "4          8080     1.0         NO  NONE  ...         8 Good       1680   \n",
       "...         ...     ...        ...   ...  ...            ...        ...   \n",
       "21592      1131     3.0         NO  NONE  ...         8 Good       1530   \n",
       "21593      5813     2.0         NO  NONE  ...         8 Good       2310   \n",
       "21594      1350     2.0         NO  NONE  ...      7 Average       1020   \n",
       "21595      2388     2.0        NaN  NONE  ...         8 Good       1600   \n",
       "21596      1076     2.0         NO  NONE  ...      7 Average       1020   \n",
       "\n",
       "       sqft_basement yr_built  yr_renovated  zipcode      lat     long  \\\n",
       "0                0.0     1955           0.0    98178  47.5112 -122.257   \n",
       "1              400.0     1951        1991.0    98125  47.7210 -122.319   \n",
       "2                0.0     1933           NaN    98028  47.7379 -122.233   \n",
       "3              910.0     1965           0.0    98136  47.5208 -122.393   \n",
       "4                0.0     1987           0.0    98074  47.6168 -122.045   \n",
       "...              ...      ...           ...      ...      ...      ...   \n",
       "21592            0.0     2009           0.0    98103  47.6993 -122.346   \n",
       "21593            0.0     2014           0.0    98146  47.5107 -122.362   \n",
       "21594            0.0     2009           0.0    98144  47.5944 -122.299   \n",
       "21595            0.0     2004           0.0    98027  47.5345 -122.069   \n",
       "21596            0.0     2008           0.0    98144  47.5941 -122.299   \n",
       "\n",
       "       sqft_living15  sqft_lot15  \n",
       "0               1340        5650  \n",
       "1               1690        7639  \n",
       "2               2720        8062  \n",
       "3               1360        5000  \n",
       "4               1800        7503  \n",
       "...              ...         ...  \n",
       "21592           1530        1509  \n",
       "21593           1830        7200  \n",
       "21594           1020        2007  \n",
       "21595           1410        1287  \n",
       "21596           1020        1357  \n",
       "\n",
       "[21597 rows x 21 columns]"
      ]
     },
     "execution_count": 190,
     "metadata": {},
     "output_type": "execute_result"
    }
   ],
   "source": [
    "house_df"
   ]
  },
  {
   "cell_type": "markdown",
   "metadata": {},
   "source": [
    "# First Model - Baseline"
   ]
  },
  {
   "cell_type": "markdown",
   "metadata": {},
   "source": [
    "## Use 3-4 predictors from numerical data in the King County Housing data set to create baseline model."
   ]
  },
  {
   "cell_type": "code",
   "execution_count": 191,
   "metadata": {
    "ExecuteTime": {
     "end_time": "2022-02-22T19:05:05.905964Z",
     "start_time": "2022-02-22T19:05:05.875686Z"
    }
   },
   "outputs": [
    {
     "data": {
      "text/html": [
       "<div>\n",
       "<style scoped>\n",
       "    .dataframe tbody tr th:only-of-type {\n",
       "        vertical-align: middle;\n",
       "    }\n",
       "\n",
       "    .dataframe tbody tr th {\n",
       "        vertical-align: top;\n",
       "    }\n",
       "\n",
       "    .dataframe thead th {\n",
       "        text-align: right;\n",
       "    }\n",
       "</style>\n",
       "<table border=\"1\" class=\"dataframe\">\n",
       "  <thead>\n",
       "    <tr style=\"text-align: right;\">\n",
       "      <th></th>\n",
       "      <th>bedrooms</th>\n",
       "      <th>bathrooms</th>\n",
       "      <th>sqft_living</th>\n",
       "      <th>sqft_lot</th>\n",
       "      <th>floors</th>\n",
       "      <th>sqft_above</th>\n",
       "      <th>yr_built</th>\n",
       "      <th>yr_renovated</th>\n",
       "      <th>zipcode</th>\n",
       "      <th>sqft_living15</th>\n",
       "      <th>sqft_lot15</th>\n",
       "    </tr>\n",
       "  </thead>\n",
       "  <tbody>\n",
       "    <tr>\n",
       "      <th>0</th>\n",
       "      <td>3</td>\n",
       "      <td>1.00</td>\n",
       "      <td>1180</td>\n",
       "      <td>5650</td>\n",
       "      <td>1.0</td>\n",
       "      <td>1180</td>\n",
       "      <td>1955</td>\n",
       "      <td>0.0</td>\n",
       "      <td>98178</td>\n",
       "      <td>1340</td>\n",
       "      <td>5650</td>\n",
       "    </tr>\n",
       "    <tr>\n",
       "      <th>1</th>\n",
       "      <td>3</td>\n",
       "      <td>2.25</td>\n",
       "      <td>2570</td>\n",
       "      <td>7242</td>\n",
       "      <td>2.0</td>\n",
       "      <td>2170</td>\n",
       "      <td>1951</td>\n",
       "      <td>1991.0</td>\n",
       "      <td>98125</td>\n",
       "      <td>1690</td>\n",
       "      <td>7639</td>\n",
       "    </tr>\n",
       "    <tr>\n",
       "      <th>2</th>\n",
       "      <td>2</td>\n",
       "      <td>1.00</td>\n",
       "      <td>770</td>\n",
       "      <td>10000</td>\n",
       "      <td>1.0</td>\n",
       "      <td>770</td>\n",
       "      <td>1933</td>\n",
       "      <td>NaN</td>\n",
       "      <td>98028</td>\n",
       "      <td>2720</td>\n",
       "      <td>8062</td>\n",
       "    </tr>\n",
       "    <tr>\n",
       "      <th>3</th>\n",
       "      <td>4</td>\n",
       "      <td>3.00</td>\n",
       "      <td>1960</td>\n",
       "      <td>5000</td>\n",
       "      <td>1.0</td>\n",
       "      <td>1050</td>\n",
       "      <td>1965</td>\n",
       "      <td>0.0</td>\n",
       "      <td>98136</td>\n",
       "      <td>1360</td>\n",
       "      <td>5000</td>\n",
       "    </tr>\n",
       "    <tr>\n",
       "      <th>4</th>\n",
       "      <td>3</td>\n",
       "      <td>2.00</td>\n",
       "      <td>1680</td>\n",
       "      <td>8080</td>\n",
       "      <td>1.0</td>\n",
       "      <td>1680</td>\n",
       "      <td>1987</td>\n",
       "      <td>0.0</td>\n",
       "      <td>98074</td>\n",
       "      <td>1800</td>\n",
       "      <td>7503</td>\n",
       "    </tr>\n",
       "  </tbody>\n",
       "</table>\n",
       "</div>"
      ],
      "text/plain": [
       "   bedrooms  bathrooms  sqft_living  sqft_lot  floors  sqft_above  yr_built  \\\n",
       "0         3       1.00         1180      5650     1.0        1180      1955   \n",
       "1         3       2.25         2570      7242     2.0        2170      1951   \n",
       "2         2       1.00          770     10000     1.0         770      1933   \n",
       "3         4       3.00         1960      5000     1.0        1050      1965   \n",
       "4         3       2.00         1680      8080     1.0        1680      1987   \n",
       "\n",
       "   yr_renovated  zipcode  sqft_living15  sqft_lot15  \n",
       "0           0.0    98178           1340        5650  \n",
       "1        1991.0    98125           1690        7639  \n",
       "2           NaN    98028           2720        8062  \n",
       "3           0.0    98136           1360        5000  \n",
       "4           0.0    98074           1800        7503  "
      ]
     },
     "execution_count": 191,
     "metadata": {},
     "output_type": "execute_result"
    }
   ],
   "source": [
    "# set numerical data in new data frame\n",
    "numericals = house_df[['bedrooms', \n",
    "                       'bathrooms', \n",
    "                       'sqft_living', \n",
    "                       'sqft_lot', \n",
    "                       'floors',\n",
    "                       'sqft_above',\n",
    "                       'yr_built',\n",
    "                       'yr_renovated',\n",
    "                       'zipcode', \n",
    "                       'sqft_living15', \n",
    "                       'sqft_lot15']]\n",
    "\n",
    "# set target column\n",
    "y = house_df['price']\n",
    "\n",
    "numericals.head()"
   ]
  },
  {
   "cell_type": "code",
   "execution_count": 192,
   "metadata": {
    "ExecuteTime": {
     "end_time": "2022-02-22T19:05:07.421111Z",
     "start_time": "2022-02-22T19:05:05.911885Z"
    }
   },
   "outputs": [
    {
     "data": {
      "image/png": "[encoded data removed]",
      "text/plain": [
       "<Figure size 360x576 with 2 Axes>"
      ]
     },
     "metadata": {
      "needs_background": "light"
     },
     "output_type": "display_data"
    }
   ],
   "source": [
    "# Create a df with the target as the first column,\n",
    "# then compute the correlation matrix\n",
    "heatmap_data = pd.concat([numericals, y], axis=1)\n",
    "corr = heatmap_data.corr()\n",
    "\n",
    "# Set up figure and axes\n",
    "fig, ax = plt.subplots(figsize=(5, 8))\n",
    "\n",
    "# Plot a heatmap of the correlation matrix, with both\n",
    "# numbers and colors indicating the correlations\n",
    "sns.heatmap(\n",
    "    # Specifies the data to be plotted\n",
    "    data=corr,\n",
    "    # The mask means we only show half the values,\n",
    "    # instead of showing duplicates. It's optional.\n",
    "    mask=np.triu(np.ones_like(corr, dtype=bool)),\n",
    "    # Specifies that we should use the existing axes\n",
    "    ax=ax,\n",
    "    # Specifies that we want labels, not just colors\n",
    "    annot=True,\n",
    "    # Customizes colorbar appearance\n",
    "    cbar_kws={\"label\": \"Correlation\", \"orientation\": \"horizontal\", \"pad\": .2, \"extend\": \"both\"}\n",
    ")\n",
    "\n",
    "# Customize the plot appearance\n",
    "ax.set_title(\"Heatmap of Correlation Between Attributes (Including Target)\");"
   ]
  },
  {
   "cell_type": "markdown",
   "metadata": {},
   "source": [
    "### Build a model with the top three numerical values, then I will examine and likely add-in categoricals after one-hot-encoding the non-numericals.\n",
    "\n",
    "* The top three predictors are: sqft_living, (dropping sqft_above and sqft_living15 - see explanation below), bathrooms, and bedrooms.\n",
    "\n",
    "* I will drop two of the three sqft_living, sqft_living15, and sqft_above because they  exhibit strong correlation to each other and likely strong multicollinearity.  Considering sqft_living has a stronger correlation to price, which is our target, I will drop sqft_living15 and sqft_above."
   ]
  },
  {
   "cell_type": "code",
   "execution_count": 193,
   "metadata": {
    "ExecuteTime": {
     "end_time": "2022-02-22T19:05:10.796853Z",
     "start_time": "2022-02-22T19:05:07.424376Z"
    }
   },
   "outputs": [
    {
     "data": {
      "image/png": "[encoded data removed]",
      "text/plain": [
       "<Figure size 576x576 with 4 Axes>"
      ]
     },
     "metadata": {
      "needs_background": "light"
     },
     "output_type": "display_data"
    }
   ],
   "source": [
    "# Set top three numerical values\n",
    "t3_numericals = house_df[['sqft_living', 'bathrooms', 'bedrooms', 'price']]\n",
    "\n",
    "# Look at histograms for patterns\n",
    "t3_numericals.hist(figsize = [8, 8], bins='auto');"
   ]
  },
  {
   "cell_type": "markdown",
   "metadata": {},
   "source": [
    "### Remove outliers later - especially in the bedrooms and sqft_living categories."
   ]
  },
  {
   "cell_type": "code",
   "execution_count": 194,
   "metadata": {
    "ExecuteTime": {
     "end_time": "2022-02-22T19:05:12.919841Z",
     "start_time": "2022-02-22T19:05:10.801417Z"
    }
   },
   "outputs": [
    {
     "data": {
      "image/png": "[encoded data removed]",
      "text/plain": [
       "<Figure size 720x720 with 4 Axes>"
      ]
     },
     "metadata": {
      "needs_background": "light"
     },
     "output_type": "display_data"
    }
   ],
   "source": [
    "# Perform log transformations for t3_numericals \n",
    "\n",
    "log_names = [f'{column}_log' for column in t3_numericals.columns]\n",
    "\n",
    "house_log = np.log(t3_numericals)\n",
    "house_log.columns = log_names\n",
    "house_log.hist(figsize=(10, 10), bins='auto')\n",
    "fig.tight_layout();"
   ]
  },
  {
   "cell_type": "markdown",
   "metadata": {},
   "source": [
    "### Skewness from outliers reduced with the log function performed."
   ]
  },
  {
   "cell_type": "code",
   "execution_count": 195,
   "metadata": {
    "ExecuteTime": {
     "end_time": "2022-02-22T19:05:13.704620Z",
     "start_time": "2022-02-22T19:05:12.924344Z"
    }
   },
   "outputs": [
    {
     "data": {
      "image/png": "[encoded data removed]",
      "text/plain": [
       "<Figure size 576x576 with 4 Axes>"
      ]
     },
     "metadata": {
      "needs_background": "light"
     },
     "output_type": "display_data"
    }
   ],
   "source": [
    "# Standardize the log features\n",
    "\n",
    "def normalize(feature):\n",
    "    return (feature - feature.mean()) / feature.std()\n",
    "\n",
    "features_final = house_log.apply(normalize)\n",
    "\n",
    "features_final.hist(figsize  = [8, 8]);"
   ]
  },
  {
   "cell_type": "code",
   "execution_count": 196,
   "metadata": {
    "ExecuteTime": {
     "end_time": "2022-02-22T19:05:13.732149Z",
     "start_time": "2022-02-22T19:05:13.715457Z"
    }
   },
   "outputs": [
    {
     "data": {
      "text/html": [
       "<div>\n",
       "<style scoped>\n",
       "    .dataframe tbody tr th:only-of-type {\n",
       "        vertical-align: middle;\n",
       "    }\n",
       "\n",
       "    .dataframe tbody tr th {\n",
       "        vertical-align: top;\n",
       "    }\n",
       "\n",
       "    .dataframe thead th {\n",
       "        text-align: right;\n",
       "    }\n",
       "</style>\n",
       "<table border=\"1\" class=\"dataframe\">\n",
       "  <thead>\n",
       "    <tr style=\"text-align: right;\">\n",
       "      <th></th>\n",
       "      <th>sqft_living_log</th>\n",
       "      <th>bathrooms_log</th>\n",
       "      <th>bedrooms_log</th>\n",
       "      <th>price_log</th>\n",
       "    </tr>\n",
       "  </thead>\n",
       "  <tbody>\n",
       "    <tr>\n",
       "      <th>0</th>\n",
       "      <td>-1.125556</td>\n",
       "      <td>-1.726509</td>\n",
       "      <td>-0.279718</td>\n",
       "      <td>-1.401998</td>\n",
       "    </tr>\n",
       "    <tr>\n",
       "      <th>1</th>\n",
       "      <td>0.709446</td>\n",
       "      <td>0.339653</td>\n",
       "      <td>-0.279718</td>\n",
       "      <td>0.279938</td>\n",
       "    </tr>\n",
       "    <tr>\n",
       "      <th>2</th>\n",
       "      <td>-2.131893</td>\n",
       "      <td>-1.726509</td>\n",
       "      <td>-1.711611</td>\n",
       "      <td>-1.799430</td>\n",
       "    </tr>\n",
       "    <tr>\n",
       "      <th>3</th>\n",
       "      <td>0.070674</td>\n",
       "      <td>1.072635</td>\n",
       "      <td>0.736226</td>\n",
       "      <td>0.499698</td>\n",
       "    </tr>\n",
       "    <tr>\n",
       "      <th>4</th>\n",
       "      <td>-0.292725</td>\n",
       "      <td>0.039555</td>\n",
       "      <td>-0.279718</td>\n",
       "      <td>0.178434</td>\n",
       "    </tr>\n",
       "  </tbody>\n",
       "</table>\n",
       "</div>"
      ],
      "text/plain": [
       "   sqft_living_log  bathrooms_log  bedrooms_log  price_log\n",
       "0        -1.125556      -1.726509     -0.279718  -1.401998\n",
       "1         0.709446       0.339653     -0.279718   0.279938\n",
       "2        -2.131893      -1.726509     -1.711611  -1.799430\n",
       "3         0.070674       1.072635      0.736226   0.499698\n",
       "4        -0.292725       0.039555     -0.279718   0.178434"
      ]
     },
     "execution_count": 196,
     "metadata": {},
     "output_type": "execute_result"
    }
   ],
   "source": [
    "features_final.head()"
   ]
  },
  {
   "cell_type": "code",
   "execution_count": 197,
   "metadata": {
    "ExecuteTime": {
     "end_time": "2022-02-22T19:05:13.812917Z",
     "start_time": "2022-02-22T19:05:13.735608Z"
    }
   },
   "outputs": [
    {
     "data": {
      "text/html": [
       "<table class=\"simpletable\">\n",
       "<caption>OLS Regression Results</caption>\n",
       "<tr>\n",
       "  <th>Dep. Variable:</th>        <td>price_log</td>    <th>  R-squared:         </th> <td>   0.471</td> \n",
       "</tr>\n",
       "<tr>\n",
       "  <th>Model:</th>                   <td>OLS</td>       <th>  Adj. R-squared:    </th> <td>   0.471</td> \n",
       "</tr>\n",
       "<tr>\n",
       "  <th>Method:</th>             <td>Least Squares</td>  <th>  F-statistic:       </th> <td>   6414.</td> \n",
       "</tr>\n",
       "<tr>\n",
       "  <th>Date:</th>             <td>Tue, 22 Feb 2022</td> <th>  Prob (F-statistic):</th>  <td>  0.00</td>  \n",
       "</tr>\n",
       "<tr>\n",
       "  <th>Time:</th>                 <td>12:05:13</td>     <th>  Log-Likelihood:    </th> <td> -23764.</td> \n",
       "</tr>\n",
       "<tr>\n",
       "  <th>No. Observations:</th>      <td> 21597</td>      <th>  AIC:               </th> <td>4.754e+04</td>\n",
       "</tr>\n",
       "<tr>\n",
       "  <th>Df Residuals:</th>          <td> 21593</td>      <th>  BIC:               </th> <td>4.757e+04</td>\n",
       "</tr>\n",
       "<tr>\n",
       "  <th>Df Model:</th>              <td>     3</td>      <th>                     </th>     <td> </td>    \n",
       "</tr>\n",
       "<tr>\n",
       "  <th>Covariance Type:</th>      <td>nonrobust</td>    <th>                     </th>     <td> </td>    \n",
       "</tr>\n",
       "</table>\n",
       "<table class=\"simpletable\">\n",
       "<tr>\n",
       "         <td></td>            <th>coef</th>     <th>std err</th>      <th>t</th>      <th>P>|t|</th>  <th>[0.025</th>    <th>0.975]</th>  \n",
       "</tr>\n",
       "<tr>\n",
       "  <th>const</th>           <td> 1.343e-15</td> <td>    0.005</td> <td> 2.71e-13</td> <td> 1.000</td> <td>   -0.010</td> <td>    0.010</td>\n",
       "</tr>\n",
       "<tr>\n",
       "  <th>sqft_living_log</th> <td>    0.7572</td> <td>    0.008</td> <td>   89.141</td> <td> 0.000</td> <td>    0.741</td> <td>    0.774</td>\n",
       "</tr>\n",
       "<tr>\n",
       "  <th>bathrooms_log</th>   <td>    0.0325</td> <td>    0.008</td> <td>    4.244</td> <td> 0.000</td> <td>    0.017</td> <td>    0.047</td>\n",
       "</tr>\n",
       "<tr>\n",
       "  <th>bedrooms_log</th>    <td>   -0.1652</td> <td>    0.007</td> <td>  -25.342</td> <td> 0.000</td> <td>   -0.178</td> <td>   -0.152</td>\n",
       "</tr>\n",
       "</table>\n",
       "<table class=\"simpletable\">\n",
       "<tr>\n",
       "  <th>Omnibus:</th>       <td>104.465</td> <th>  Durbin-Watson:     </th> <td>   1.980</td>\n",
       "</tr>\n",
       "<tr>\n",
       "  <th>Prob(Omnibus):</th> <td> 0.000</td>  <th>  Jarque-Bera (JB):  </th> <td>  99.162</td>\n",
       "</tr>\n",
       "<tr>\n",
       "  <th>Skew:</th>          <td> 0.139</td>  <th>  Prob(JB):          </th> <td>2.93e-22</td>\n",
       "</tr>\n",
       "<tr>\n",
       "  <th>Kurtosis:</th>      <td> 2.820</td>  <th>  Cond. No.          </th> <td>    3.24</td>\n",
       "</tr>\n",
       "</table><br/><br/>Notes:<br/>[1] Standard Errors assume that the covariance matrix of the errors is correctly specified."
      ],
      "text/plain": [
       "<class 'statsmodels.iolib.summary.Summary'>\n",
       "\"\"\"\n",
       "                            OLS Regression Results                            \n",
       "==============================================================================\n",
       "Dep. Variable:              price_log   R-squared:                       0.471\n",
       "Model:                            OLS   Adj. R-squared:                  0.471\n",
       "Method:                 Least Squares   F-statistic:                     6414.\n",
       "Date:                Tue, 22 Feb 2022   Prob (F-statistic):               0.00\n",
       "Time:                        12:05:13   Log-Likelihood:                -23764.\n",
       "No. Observations:               21597   AIC:                         4.754e+04\n",
       "Df Residuals:                   21593   BIC:                         4.757e+04\n",
       "Df Model:                           3                                         \n",
       "Covariance Type:            nonrobust                                         \n",
       "===================================================================================\n",
       "                      coef    std err          t      P>|t|      [0.025      0.975]\n",
       "-----------------------------------------------------------------------------------\n",
       "const            1.343e-15      0.005   2.71e-13      1.000      -0.010       0.010\n",
       "sqft_living_log     0.7572      0.008     89.141      0.000       0.741       0.774\n",
       "bathrooms_log       0.0325      0.008      4.244      0.000       0.017       0.047\n",
       "bedrooms_log       -0.1652      0.007    -25.342      0.000      -0.178      -0.152\n",
       "==============================================================================\n",
       "Omnibus:                      104.465   Durbin-Watson:                   1.980\n",
       "Prob(Omnibus):                  0.000   Jarque-Bera (JB):               99.162\n",
       "Skew:                           0.139   Prob(JB):                     2.93e-22\n",
       "Kurtosis:                       2.820   Cond. No.                         3.24\n",
       "==============================================================================\n",
       "\n",
       "Notes:\n",
       "[1] Standard Errors assume that the covariance matrix of the errors is correctly specified.\n",
       "\"\"\""
      ]
     },
     "execution_count": 197,
     "metadata": {},
     "output_type": "execute_result"
    }
   ],
   "source": [
    "# Model Summary\n",
    "X = features_final.drop(['price_log'], axis=1)\n",
    "y = features_final['price_log']\n",
    "\n",
    "X_int = sm.add_constant(X)\n",
    "model = sm.OLS(y,X_int).fit()\n",
    "model.summary()"
   ]
  },
  {
   "cell_type": "markdown",
   "metadata": {},
   "source": [
    "## Baseline Model - moderate R-squared value, good p-values, condition number, and identical Adjusted R-squared value.\n",
    "\n",
    "* The R-squared value is not very high, but hopefully it will increase after I modify some of the data and include categorical variables.  This seems like a solid baseline model to work from as the p-values for the predictors fall far below the threshold of 5%, the condition number is low, indicating low multicollinearity, the standard errors are all far lower than the values of the coefficients, and the adjusted R-squared value is identical to the R-squared value, indicating we have a very low bias.\n",
    "\n",
    "* As I alter the model, likely increasing complexity in order to increase the predictive capacity of the model, the adjusted R-squared value will probably not maintain equality or near-equality with the R-squared value."
   ]
  },
  {
   "cell_type": "markdown",
   "metadata": {},
   "source": [
    "# Preprocess Categorical Variables"
   ]
  },
  {
   "cell_type": "markdown",
   "metadata": {},
   "source": [
    "Variable Descriptions for Categorical Variables."
   ]
  },
  {
   "cell_type": "code",
   "execution_count": 198,
   "metadata": {
    "ExecuteTime": {
     "end_time": "2022-02-22T19:05:13.831915Z",
     "start_time": "2022-02-22T19:05:13.819137Z"
    }
   },
   "outputs": [],
   "source": [
    "# create categorical variable data set\n",
    "categoricals = house_df[['waterfront', \n",
    "                         'view', \n",
    "                         'condition', \n",
    "                         'grade'\n",
    "]]"
   ]
  },
  {
   "cell_type": "markdown",
   "metadata": {},
   "source": [
    "## Dropped columns - id, date, sqft_basement.\n",
    "* I dropped these columns because sqft_living is already incorporated into the model and other sqft categories had strong correlation with each other and would likely cause issues due to multicollinarity."
   ]
  },
  {
   "cell_type": "code",
   "execution_count": 199,
   "metadata": {
    "ExecuteTime": {
     "end_time": "2022-02-22T19:05:13.868115Z",
     "start_time": "2022-02-22T19:05:13.835365Z"
    }
   },
   "outputs": [
    {
     "data": {
      "text/plain": [
       "<bound method NDFrame.describe of       waterfront  view  condition          grade\n",
       "0            NaN  NONE    Average      7 Average\n",
       "1             NO  NONE    Average      7 Average\n",
       "2             NO  NONE    Average  6 Low Average\n",
       "3             NO  NONE  Very Good      7 Average\n",
       "4             NO  NONE    Average         8 Good\n",
       "...          ...   ...        ...            ...\n",
       "21592         NO  NONE    Average         8 Good\n",
       "21593         NO  NONE    Average         8 Good\n",
       "21594         NO  NONE    Average      7 Average\n",
       "21595        NaN  NONE    Average         8 Good\n",
       "21596         NO  NONE    Average      7 Average\n",
       "\n",
       "[21597 rows x 4 columns]>"
      ]
     },
     "execution_count": 199,
     "metadata": {},
     "output_type": "execute_result"
    }
   ],
   "source": [
    "categoricals.describe"
   ]
  },
  {
   "cell_type": "markdown",
   "metadata": {},
   "source": [
    "## Plot categoricals to look for correlation to price."
   ]
  },
  {
   "cell_type": "code",
   "execution_count": 200,
   "metadata": {
    "ExecuteTime": {
     "end_time": "2022-02-22T19:05:14.896326Z",
     "start_time": "2022-02-22T19:05:13.872485Z"
    }
   },
   "outputs": [
    {
     "data": {
      "image/png": "[encoded data removed]",
      "text/plain": [
       "<Figure size 1152x720 with 4 Axes>"
      ]
     },
     "metadata": {
      "needs_background": "light"
     },
     "output_type": "display_data"
    }
   ],
   "source": [
    "fig, axes = plt.subplots(nrows=2, ncols=2, figsize=(16,10), sharey=True)\n",
    "\n",
    "for col, ax in zip(categoricals, axes.flatten()):\n",
    "    (house_df.groupby(col)               # group values together by column of interest\n",
    "         .mean()['price']        # take the mean of the saleprice for each group\n",
    "         .sort_values()              # sort the groups in ascending order\n",
    "         .plot\n",
    "         .bar(ax=ax))                # create a bar graph on the ax\n",
    "    \n",
    "    ax.set_title(col)                # Make the title the name of the column\n",
    "    \n",
    "fig.tight_layout()"
   ]
  },
  {
   "cell_type": "markdown",
   "metadata": {},
   "source": [
    "### Promising Predictors - seem to correlate well with price from a visual inspection."
   ]
  },
  {
   "cell_type": "markdown",
   "metadata": {},
   "source": [
    "## Investigate nan values"
   ]
  },
  {
   "cell_type": "code",
   "execution_count": 201,
   "metadata": {
    "ExecuteTime": {
     "end_time": "2022-02-22T19:05:14.923848Z",
     "start_time": "2022-02-22T19:05:14.899143Z"
    }
   },
   "outputs": [
    {
     "data": {
      "text/plain": [
       "waterfront    2376\n",
       "view            63\n",
       "condition        0\n",
       "grade            0\n",
       "dtype: int64"
      ]
     },
     "execution_count": 201,
     "metadata": {},
     "output_type": "execute_result"
    }
   ],
   "source": [
    "categoricals.isnull().sum()"
   ]
  },
  {
   "cell_type": "code",
   "execution_count": 202,
   "metadata": {
    "ExecuteTime": {
     "end_time": "2022-02-22T19:05:14.948106Z",
     "start_time": "2022-02-22T19:05:14.930535Z"
    },
    "scrolled": true
   },
   "outputs": [
    {
     "data": {
      "text/plain": [
       "NONE         19422\n",
       "AVERAGE        957\n",
       "GOOD           508\n",
       "FAIR           330\n",
       "EXCELLENT      317\n",
       "NaN             63\n",
       "Name: view, dtype: int64"
      ]
     },
     "execution_count": 202,
     "metadata": {},
     "output_type": "execute_result"
    }
   ],
   "source": [
    "# checking for nan values from categoricals['view']\n",
    "categoricals['view'].value_counts(dropna=False)"
   ]
  },
  {
   "cell_type": "code",
   "execution_count": 203,
   "metadata": {
    "ExecuteTime": {
     "end_time": "2022-02-22T19:05:14.966126Z",
     "start_time": "2022-02-22T19:05:14.951112Z"
    }
   },
   "outputs": [],
   "source": [
    "# drops the whole row - removing some important data from other categories\n",
    "# categoricals.dropna(subset=['waterfront'], inplace=True)"
   ]
  },
  {
   "cell_type": "code",
   "execution_count": 204,
   "metadata": {
    "ExecuteTime": {
     "end_time": "2022-02-22T19:05:14.999282Z",
     "start_time": "2022-02-22T19:05:14.969485Z"
    }
   },
   "outputs": [
    {
     "data": {
      "text/plain": [
       "waterfront    2376\n",
       "view            63\n",
       "condition        0\n",
       "grade            0\n",
       "dtype: int64"
      ]
     },
     "execution_count": 204,
     "metadata": {},
     "output_type": "execute_result"
    }
   ],
   "source": [
    "categoricals.isnull().sum()"
   ]
  },
  {
   "cell_type": "markdown",
   "metadata": {},
   "source": [
    "### Investigate nan values - waterfront"
   ]
  },
  {
   "cell_type": "code",
   "execution_count": 205,
   "metadata": {
    "ExecuteTime": {
     "end_time": "2022-02-22T19:05:15.027169Z",
     "start_time": "2022-02-22T19:05:15.005634Z"
    }
   },
   "outputs": [
    {
     "data": {
      "text/plain": [
       "NO     19075\n",
       "NaN     2376\n",
       "YES      146\n",
       "Name: waterfront, dtype: int64"
      ]
     },
     "execution_count": 205,
     "metadata": {},
     "output_type": "execute_result"
    }
   ],
   "source": [
    "categoricals['waterfront'].value_counts(dropna=False)"
   ]
  },
  {
   "cell_type": "markdown",
   "metadata": {},
   "source": [
    "#### Create Missing Values Column - waterfront\n",
    "* Saves nan information in the case that it is valuable later."
   ]
  },
  {
   "cell_type": "code",
   "execution_count": 206,
   "metadata": {
    "ExecuteTime": {
     "end_time": "2022-02-22T19:05:15.050860Z",
     "start_time": "2022-02-22T19:05:15.030179Z"
    }
   },
   "outputs": [
    {
     "data": {
      "text/plain": [
       "array([[ True],\n",
       "       [False],\n",
       "       [False],\n",
       "       ...,\n",
       "       [False],\n",
       "       [ True],\n",
       "       [False]])"
      ]
     },
     "execution_count": 206,
     "metadata": {},
     "output_type": "execute_result"
    }
   ],
   "source": [
    "# (1) Identify data to be transformed\n",
    "# We only want missing indicators for LotFrontage\n",
    "waterfront_train = categoricals[[\"waterfront\"]]\n",
    "\n",
    "# (2) Instantiate the transformer object\n",
    "missing_indicator = MissingIndicator()\n",
    "\n",
    "# (3) Fit the transformer object on waterfront_train\n",
    "missing_indicator.fit(waterfront_train)\n",
    "\n",
    "# (4) Transform waterfront_train and assign the result\n",
    "# to waterfront_missing_train\n",
    "waterfront_missing_train = missing_indicator.transform(waterfront_train)\n",
    "\n",
    "# Visually inspect waterfront_missing_train\n",
    "waterfront_missing_train"
   ]
  },
  {
   "cell_type": "markdown",
   "metadata": {},
   "source": [
    "##### Ensure waterfront_train is array of arrays containing True/False."
   ]
  },
  {
   "cell_type": "code",
   "execution_count": 207,
   "metadata": {
    "ExecuteTime": {
     "end_time": "2022-02-22T19:05:15.066487Z",
     "start_time": "2022-02-22T19:05:15.055309Z"
    }
   },
   "outputs": [],
   "source": [
    "# waterfront_missing_train should be a NumPy array\n",
    "assert type(waterfront_missing_train) == np.ndarray\n",
    "\n",
    "# We should have the same number of rows as the full X_train\n",
    "assert waterfront_missing_train.shape[0] == categoricals.shape[0]\n",
    "\n",
    "# But we should only have 1 column\n",
    "assert waterfront_missing_train.shape[1] == 1"
   ]
  },
  {
   "cell_type": "code",
   "execution_count": 208,
   "metadata": {
    "ExecuteTime": {
     "end_time": "2022-02-22T19:05:15.097780Z",
     "start_time": "2022-02-22T19:05:15.069486Z"
    }
   },
   "outputs": [
    {
     "name": "stderr",
     "output_type": "stream",
     "text": [
      "<ipython-input-208-088c5258e668>:2: SettingWithCopyWarning: \n",
      "A value is trying to be set on a copy of a slice from a DataFrame.\n",
      "Try using .loc[row_indexer,col_indexer] = value instead\n",
      "\n",
      "See the caveats in the documentation: https://pandas.pydata.org/pandas-docs/stable/user_guide/indexing.html#returning-a-view-versus-a-copy\n",
      "  categoricals[\"waterfront_missing\"] = waterfront_missing_train\n"
     ]
    },
    {
     "data": {
      "text/html": [
       "<div>\n",
       "<style scoped>\n",
       "    .dataframe tbody tr th:only-of-type {\n",
       "        vertical-align: middle;\n",
       "    }\n",
       "\n",
       "    .dataframe tbody tr th {\n",
       "        vertical-align: top;\n",
       "    }\n",
       "\n",
       "    .dataframe thead th {\n",
       "        text-align: right;\n",
       "    }\n",
       "</style>\n",
       "<table border=\"1\" class=\"dataframe\">\n",
       "  <thead>\n",
       "    <tr style=\"text-align: right;\">\n",
       "      <th></th>\n",
       "      <th>waterfront</th>\n",
       "      <th>view</th>\n",
       "      <th>condition</th>\n",
       "      <th>grade</th>\n",
       "      <th>waterfront_missing</th>\n",
       "    </tr>\n",
       "  </thead>\n",
       "  <tbody>\n",
       "    <tr>\n",
       "      <th>0</th>\n",
       "      <td>NaN</td>\n",
       "      <td>NONE</td>\n",
       "      <td>Average</td>\n",
       "      <td>7 Average</td>\n",
       "      <td>True</td>\n",
       "    </tr>\n",
       "    <tr>\n",
       "      <th>1</th>\n",
       "      <td>NO</td>\n",
       "      <td>NONE</td>\n",
       "      <td>Average</td>\n",
       "      <td>7 Average</td>\n",
       "      <td>False</td>\n",
       "    </tr>\n",
       "    <tr>\n",
       "      <th>2</th>\n",
       "      <td>NO</td>\n",
       "      <td>NONE</td>\n",
       "      <td>Average</td>\n",
       "      <td>6 Low Average</td>\n",
       "      <td>False</td>\n",
       "    </tr>\n",
       "    <tr>\n",
       "      <th>3</th>\n",
       "      <td>NO</td>\n",
       "      <td>NONE</td>\n",
       "      <td>Very Good</td>\n",
       "      <td>7 Average</td>\n",
       "      <td>False</td>\n",
       "    </tr>\n",
       "    <tr>\n",
       "      <th>4</th>\n",
       "      <td>NO</td>\n",
       "      <td>NONE</td>\n",
       "      <td>Average</td>\n",
       "      <td>8 Good</td>\n",
       "      <td>False</td>\n",
       "    </tr>\n",
       "    <tr>\n",
       "      <th>...</th>\n",
       "      <td>...</td>\n",
       "      <td>...</td>\n",
       "      <td>...</td>\n",
       "      <td>...</td>\n",
       "      <td>...</td>\n",
       "    </tr>\n",
       "    <tr>\n",
       "      <th>21592</th>\n",
       "      <td>NO</td>\n",
       "      <td>NONE</td>\n",
       "      <td>Average</td>\n",
       "      <td>8 Good</td>\n",
       "      <td>False</td>\n",
       "    </tr>\n",
       "    <tr>\n",
       "      <th>21593</th>\n",
       "      <td>NO</td>\n",
       "      <td>NONE</td>\n",
       "      <td>Average</td>\n",
       "      <td>8 Good</td>\n",
       "      <td>False</td>\n",
       "    </tr>\n",
       "    <tr>\n",
       "      <th>21594</th>\n",
       "      <td>NO</td>\n",
       "      <td>NONE</td>\n",
       "      <td>Average</td>\n",
       "      <td>7 Average</td>\n",
       "      <td>False</td>\n",
       "    </tr>\n",
       "    <tr>\n",
       "      <th>21595</th>\n",
       "      <td>NaN</td>\n",
       "      <td>NONE</td>\n",
       "      <td>Average</td>\n",
       "      <td>8 Good</td>\n",
       "      <td>True</td>\n",
       "    </tr>\n",
       "    <tr>\n",
       "      <th>21596</th>\n",
       "      <td>NO</td>\n",
       "      <td>NONE</td>\n",
       "      <td>Average</td>\n",
       "      <td>7 Average</td>\n",
       "      <td>False</td>\n",
       "    </tr>\n",
       "  </tbody>\n",
       "</table>\n",
       "<p>21597 rows × 5 columns</p>\n",
       "</div>"
      ],
      "text/plain": [
       "      waterfront  view  condition          grade  waterfront_missing\n",
       "0            NaN  NONE    Average      7 Average                True\n",
       "1             NO  NONE    Average      7 Average               False\n",
       "2             NO  NONE    Average  6 Low Average               False\n",
       "3             NO  NONE  Very Good      7 Average               False\n",
       "4             NO  NONE    Average         8 Good               False\n",
       "...          ...   ...        ...            ...                 ...\n",
       "21592         NO  NONE    Average         8 Good               False\n",
       "21593         NO  NONE    Average         8 Good               False\n",
       "21594         NO  NONE    Average      7 Average               False\n",
       "21595        NaN  NONE    Average         8 Good                True\n",
       "21596         NO  NONE    Average      7 Average               False\n",
       "\n",
       "[21597 rows x 5 columns]"
      ]
     },
     "execution_count": 208,
     "metadata": {},
     "output_type": "execute_result"
    }
   ],
   "source": [
    "# add the transformed data to the categorical data\n",
    "categoricals[\"waterfront_missing\"] = waterfront_missing_train\n",
    "categoricals"
   ]
  },
  {
   "cell_type": "markdown",
   "metadata": {},
   "source": [
    "### Impute missing values for waterfront"
   ]
  },
  {
   "cell_type": "code",
   "execution_count": 209,
   "metadata": {
    "ExecuteTime": {
     "end_time": "2022-02-22T19:05:15.169069Z",
     "start_time": "2022-02-22T19:05:15.107022Z"
    }
   },
   "outputs": [
    {
     "data": {
      "text/plain": [
       "array([['NO'],\n",
       "       ['NO'],\n",
       "       ['NO'],\n",
       "       ...,\n",
       "       ['NO'],\n",
       "       ['NO'],\n",
       "       ['NO']], dtype=object)"
      ]
     },
     "execution_count": 209,
     "metadata": {},
     "output_type": "execute_result"
    }
   ],
   "source": [
    "# (1) waterfront_train was created previously, so we don't\n",
    "# need to extract the relevant data again\n",
    "\n",
    "# (2) Instantiate a SimpleImputer with strategy=\"most_frequent\"\n",
    "# use most_frequent due to non-numerical data\n",
    "imputer = SimpleImputer(strategy=\"most_frequent\")\n",
    "\n",
    "# (3) Fit the imputer on waterfront_train\n",
    "imputer.fit(waterfront_train)\n",
    "\n",
    "# (4) Transform frontage_train using the imputer and\n",
    "# assign the result to waterfront_imputed_train\n",
    "waterfront_imputed_train = imputer.transform(waterfront_train)\n",
    "\n",
    "# Visually inspect frontage_imputed_train\n",
    "waterfront_imputed_train"
   ]
  },
  {
   "cell_type": "markdown",
   "metadata": {},
   "source": [
    "#### Replace original value of waterfront in categoricals with new values in waterfront_imputed_train."
   ]
  },
  {
   "cell_type": "code",
   "execution_count": 210,
   "metadata": {
    "ExecuteTime": {
     "end_time": "2022-02-22T19:05:15.200177Z",
     "start_time": "2022-02-22T19:05:15.175236Z"
    }
   },
   "outputs": [
    {
     "name": "stderr",
     "output_type": "stream",
     "text": [
      "<ipython-input-210-76fe86732dd5>:2: SettingWithCopyWarning: \n",
      "A value is trying to be set on a copy of a slice from a DataFrame.\n",
      "Try using .loc[row_indexer,col_indexer] = value instead\n",
      "\n",
      "See the caveats in the documentation: https://pandas.pydata.org/pandas-docs/stable/user_guide/indexing.html#returning-a-view-versus-a-copy\n",
      "  categoricals[\"waterfront\"] = waterfront_imputed_train\n"
     ]
    },
    {
     "data": {
      "text/html": [
       "<div>\n",
       "<style scoped>\n",
       "    .dataframe tbody tr th:only-of-type {\n",
       "        vertical-align: middle;\n",
       "    }\n",
       "\n",
       "    .dataframe tbody tr th {\n",
       "        vertical-align: top;\n",
       "    }\n",
       "\n",
       "    .dataframe thead th {\n",
       "        text-align: right;\n",
       "    }\n",
       "</style>\n",
       "<table border=\"1\" class=\"dataframe\">\n",
       "  <thead>\n",
       "    <tr style=\"text-align: right;\">\n",
       "      <th></th>\n",
       "      <th>waterfront</th>\n",
       "      <th>view</th>\n",
       "      <th>condition</th>\n",
       "      <th>grade</th>\n",
       "      <th>waterfront_missing</th>\n",
       "    </tr>\n",
       "  </thead>\n",
       "  <tbody>\n",
       "    <tr>\n",
       "      <th>0</th>\n",
       "      <td>NO</td>\n",
       "      <td>NONE</td>\n",
       "      <td>Average</td>\n",
       "      <td>7 Average</td>\n",
       "      <td>True</td>\n",
       "    </tr>\n",
       "    <tr>\n",
       "      <th>1</th>\n",
       "      <td>NO</td>\n",
       "      <td>NONE</td>\n",
       "      <td>Average</td>\n",
       "      <td>7 Average</td>\n",
       "      <td>False</td>\n",
       "    </tr>\n",
       "    <tr>\n",
       "      <th>2</th>\n",
       "      <td>NO</td>\n",
       "      <td>NONE</td>\n",
       "      <td>Average</td>\n",
       "      <td>6 Low Average</td>\n",
       "      <td>False</td>\n",
       "    </tr>\n",
       "    <tr>\n",
       "      <th>3</th>\n",
       "      <td>NO</td>\n",
       "      <td>NONE</td>\n",
       "      <td>Very Good</td>\n",
       "      <td>7 Average</td>\n",
       "      <td>False</td>\n",
       "    </tr>\n",
       "    <tr>\n",
       "      <th>4</th>\n",
       "      <td>NO</td>\n",
       "      <td>NONE</td>\n",
       "      <td>Average</td>\n",
       "      <td>8 Good</td>\n",
       "      <td>False</td>\n",
       "    </tr>\n",
       "    <tr>\n",
       "      <th>...</th>\n",
       "      <td>...</td>\n",
       "      <td>...</td>\n",
       "      <td>...</td>\n",
       "      <td>...</td>\n",
       "      <td>...</td>\n",
       "    </tr>\n",
       "    <tr>\n",
       "      <th>21592</th>\n",
       "      <td>NO</td>\n",
       "      <td>NONE</td>\n",
       "      <td>Average</td>\n",
       "      <td>8 Good</td>\n",
       "      <td>False</td>\n",
       "    </tr>\n",
       "    <tr>\n",
       "      <th>21593</th>\n",
       "      <td>NO</td>\n",
       "      <td>NONE</td>\n",
       "      <td>Average</td>\n",
       "      <td>8 Good</td>\n",
       "      <td>False</td>\n",
       "    </tr>\n",
       "    <tr>\n",
       "      <th>21594</th>\n",
       "      <td>NO</td>\n",
       "      <td>NONE</td>\n",
       "      <td>Average</td>\n",
       "      <td>7 Average</td>\n",
       "      <td>False</td>\n",
       "    </tr>\n",
       "    <tr>\n",
       "      <th>21595</th>\n",
       "      <td>NO</td>\n",
       "      <td>NONE</td>\n",
       "      <td>Average</td>\n",
       "      <td>8 Good</td>\n",
       "      <td>True</td>\n",
       "    </tr>\n",
       "    <tr>\n",
       "      <th>21596</th>\n",
       "      <td>NO</td>\n",
       "      <td>NONE</td>\n",
       "      <td>Average</td>\n",
       "      <td>7 Average</td>\n",
       "      <td>False</td>\n",
       "    </tr>\n",
       "  </tbody>\n",
       "</table>\n",
       "<p>21597 rows × 5 columns</p>\n",
       "</div>"
      ],
      "text/plain": [
       "      waterfront  view  condition          grade  waterfront_missing\n",
       "0             NO  NONE    Average      7 Average                True\n",
       "1             NO  NONE    Average      7 Average               False\n",
       "2             NO  NONE    Average  6 Low Average               False\n",
       "3             NO  NONE  Very Good      7 Average               False\n",
       "4             NO  NONE    Average         8 Good               False\n",
       "...          ...   ...        ...            ...                 ...\n",
       "21592         NO  NONE    Average         8 Good               False\n",
       "21593         NO  NONE    Average         8 Good               False\n",
       "21594         NO  NONE    Average      7 Average               False\n",
       "21595         NO  NONE    Average         8 Good                True\n",
       "21596         NO  NONE    Average      7 Average               False\n",
       "\n",
       "[21597 rows x 5 columns]"
      ]
     },
     "execution_count": 210,
     "metadata": {},
     "output_type": "execute_result"
    }
   ],
   "source": [
    "# (5) Replace value of LotFrontage\n",
    "categoricals[\"waterfront\"] = waterfront_imputed_train\n",
    "\n",
    "# Visually inspect X_train\n",
    "categoricals"
   ]
  },
  {
   "cell_type": "markdown",
   "metadata": {},
   "source": [
    "#### Check nan values for waterfront replaced."
   ]
  },
  {
   "cell_type": "code",
   "execution_count": 211,
   "metadata": {
    "ExecuteTime": {
     "end_time": "2022-02-22T19:05:15.240957Z",
     "start_time": "2022-02-22T19:05:15.203385Z"
    }
   },
   "outputs": [
    {
     "data": {
      "text/plain": [
       "waterfront             0\n",
       "view                  63\n",
       "condition              0\n",
       "grade                  0\n",
       "waterfront_missing     0\n",
       "dtype: int64"
      ]
     },
     "execution_count": 211,
     "metadata": {},
     "output_type": "execute_result"
    }
   ],
   "source": [
    "categoricals.isnull().sum()"
   ]
  },
  {
   "cell_type": "markdown",
   "metadata": {},
   "source": [
    "### Impute missing values for view"
   ]
  },
  {
   "cell_type": "code",
   "execution_count": 212,
   "metadata": {
    "ExecuteTime": {
     "end_time": "2022-02-22T19:05:15.369217Z",
     "start_time": "2022-02-22T19:05:15.244574Z"
    }
   },
   "outputs": [
    {
     "data": {
      "text/plain": [
       "array([['NONE'],\n",
       "       ['NONE'],\n",
       "       ['NONE'],\n",
       "       ...,\n",
       "       ['NONE'],\n",
       "       ['NONE'],\n",
       "       ['NONE']], dtype=object)"
      ]
     },
     "execution_count": 212,
     "metadata": {},
     "output_type": "execute_result"
    }
   ],
   "source": [
    "# (1) create view_train\n",
    "view_train = categoricals[['view']]\n",
    "\n",
    "# (2) Instantiate a SimpleImputer with strategy=\"most_frequent\"\n",
    "# use most_frequent due to non-numerical data\n",
    "imputer = SimpleImputer(strategy=\"most_frequent\")\n",
    "\n",
    "# (3) Fit the imputer on waterfront_train\n",
    "imputer.fit(view_train)\n",
    "\n",
    "# (4) Transform frontage_train using the imputer and\n",
    "# assign the result to waterfront_imputed_train\n",
    "view_imputed_train = imputer.transform(view_train)\n",
    "\n",
    "# Visually inspect frontage_imputed_train\n",
    "view_imputed_train"
   ]
  },
  {
   "cell_type": "code",
   "execution_count": 213,
   "metadata": {
    "ExecuteTime": {
     "end_time": "2022-02-22T19:05:15.400222Z",
     "start_time": "2022-02-22T19:05:15.372349Z"
    }
   },
   "outputs": [
    {
     "name": "stderr",
     "output_type": "stream",
     "text": [
      "<ipython-input-213-7ff8ed9cd7c7>:2: SettingWithCopyWarning: \n",
      "A value is trying to be set on a copy of a slice from a DataFrame.\n",
      "Try using .loc[row_indexer,col_indexer] = value instead\n",
      "\n",
      "See the caveats in the documentation: https://pandas.pydata.org/pandas-docs/stable/user_guide/indexing.html#returning-a-view-versus-a-copy\n",
      "  categoricals[\"view\"] = view_imputed_train\n"
     ]
    },
    {
     "data": {
      "text/html": [
       "<div>\n",
       "<style scoped>\n",
       "    .dataframe tbody tr th:only-of-type {\n",
       "        vertical-align: middle;\n",
       "    }\n",
       "\n",
       "    .dataframe tbody tr th {\n",
       "        vertical-align: top;\n",
       "    }\n",
       "\n",
       "    .dataframe thead th {\n",
       "        text-align: right;\n",
       "    }\n",
       "</style>\n",
       "<table border=\"1\" class=\"dataframe\">\n",
       "  <thead>\n",
       "    <tr style=\"text-align: right;\">\n",
       "      <th></th>\n",
       "      <th>waterfront</th>\n",
       "      <th>view</th>\n",
       "      <th>condition</th>\n",
       "      <th>grade</th>\n",
       "      <th>waterfront_missing</th>\n",
       "    </tr>\n",
       "  </thead>\n",
       "  <tbody>\n",
       "    <tr>\n",
       "      <th>0</th>\n",
       "      <td>NO</td>\n",
       "      <td>NONE</td>\n",
       "      <td>Average</td>\n",
       "      <td>7 Average</td>\n",
       "      <td>True</td>\n",
       "    </tr>\n",
       "    <tr>\n",
       "      <th>1</th>\n",
       "      <td>NO</td>\n",
       "      <td>NONE</td>\n",
       "      <td>Average</td>\n",
       "      <td>7 Average</td>\n",
       "      <td>False</td>\n",
       "    </tr>\n",
       "    <tr>\n",
       "      <th>2</th>\n",
       "      <td>NO</td>\n",
       "      <td>NONE</td>\n",
       "      <td>Average</td>\n",
       "      <td>6 Low Average</td>\n",
       "      <td>False</td>\n",
       "    </tr>\n",
       "    <tr>\n",
       "      <th>3</th>\n",
       "      <td>NO</td>\n",
       "      <td>NONE</td>\n",
       "      <td>Very Good</td>\n",
       "      <td>7 Average</td>\n",
       "      <td>False</td>\n",
       "    </tr>\n",
       "    <tr>\n",
       "      <th>4</th>\n",
       "      <td>NO</td>\n",
       "      <td>NONE</td>\n",
       "      <td>Average</td>\n",
       "      <td>8 Good</td>\n",
       "      <td>False</td>\n",
       "    </tr>\n",
       "    <tr>\n",
       "      <th>...</th>\n",
       "      <td>...</td>\n",
       "      <td>...</td>\n",
       "      <td>...</td>\n",
       "      <td>...</td>\n",
       "      <td>...</td>\n",
       "    </tr>\n",
       "    <tr>\n",
       "      <th>21592</th>\n",
       "      <td>NO</td>\n",
       "      <td>NONE</td>\n",
       "      <td>Average</td>\n",
       "      <td>8 Good</td>\n",
       "      <td>False</td>\n",
       "    </tr>\n",
       "    <tr>\n",
       "      <th>21593</th>\n",
       "      <td>NO</td>\n",
       "      <td>NONE</td>\n",
       "      <td>Average</td>\n",
       "      <td>8 Good</td>\n",
       "      <td>False</td>\n",
       "    </tr>\n",
       "    <tr>\n",
       "      <th>21594</th>\n",
       "      <td>NO</td>\n",
       "      <td>NONE</td>\n",
       "      <td>Average</td>\n",
       "      <td>7 Average</td>\n",
       "      <td>False</td>\n",
       "    </tr>\n",
       "    <tr>\n",
       "      <th>21595</th>\n",
       "      <td>NO</td>\n",
       "      <td>NONE</td>\n",
       "      <td>Average</td>\n",
       "      <td>8 Good</td>\n",
       "      <td>True</td>\n",
       "    </tr>\n",
       "    <tr>\n",
       "      <th>21596</th>\n",
       "      <td>NO</td>\n",
       "      <td>NONE</td>\n",
       "      <td>Average</td>\n",
       "      <td>7 Average</td>\n",
       "      <td>False</td>\n",
       "    </tr>\n",
       "  </tbody>\n",
       "</table>\n",
       "<p>21597 rows × 5 columns</p>\n",
       "</div>"
      ],
      "text/plain": [
       "      waterfront  view  condition          grade  waterfront_missing\n",
       "0             NO  NONE    Average      7 Average                True\n",
       "1             NO  NONE    Average      7 Average               False\n",
       "2             NO  NONE    Average  6 Low Average               False\n",
       "3             NO  NONE  Very Good      7 Average               False\n",
       "4             NO  NONE    Average         8 Good               False\n",
       "...          ...   ...        ...            ...                 ...\n",
       "21592         NO  NONE    Average         8 Good               False\n",
       "21593         NO  NONE    Average         8 Good               False\n",
       "21594         NO  NONE    Average      7 Average               False\n",
       "21595         NO  NONE    Average         8 Good                True\n",
       "21596         NO  NONE    Average      7 Average               False\n",
       "\n",
       "[21597 rows x 5 columns]"
      ]
     },
     "execution_count": 213,
     "metadata": {},
     "output_type": "execute_result"
    }
   ],
   "source": [
    "# (5) Replace value of view\n",
    "categoricals[\"view\"] = view_imputed_train\n",
    "\n",
    "# Visually inspect X_train\n",
    "categoricals"
   ]
  },
  {
   "cell_type": "code",
   "execution_count": 214,
   "metadata": {
    "ExecuteTime": {
     "end_time": "2022-02-22T19:05:15.419060Z",
     "start_time": "2022-02-22T19:05:15.403341Z"
    }
   },
   "outputs": [
    {
     "data": {
      "text/plain": [
       "waterfront            0\n",
       "view                  0\n",
       "condition             0\n",
       "grade                 0\n",
       "waterfront_missing    0\n",
       "dtype: int64"
      ]
     },
     "execution_count": 214,
     "metadata": {},
     "output_type": "execute_result"
    }
   ],
   "source": [
    "# nan values replaced with 'NONE'?\n",
    "categoricals.isnull().sum()"
   ]
  },
  {
   "cell_type": "code",
   "execution_count": 215,
   "metadata": {
    "ExecuteTime": {
     "end_time": "2022-02-22T19:05:15.429214Z",
     "start_time": "2022-02-22T19:05:15.423738Z"
    }
   },
   "outputs": [],
   "source": [
    "preprocessed = categoricals"
   ]
  },
  {
   "cell_type": "markdown",
   "metadata": {},
   "source": [
    "## One-hot-encode Categoricals\n",
    "* waterfront, view, condition, grade"
   ]
  },
  {
   "cell_type": "markdown",
   "metadata": {},
   "source": [
    "### ohe waterfront"
   ]
  },
  {
   "cell_type": "code",
   "execution_count": 216,
   "metadata": {
    "ExecuteTime": {
     "end_time": "2022-02-22T19:05:15.451938Z",
     "start_time": "2022-02-22T19:05:15.433181Z"
    }
   },
   "outputs": [
    {
     "data": {
      "text/plain": [
       "array(['NO', 'YES'], dtype=object)"
      ]
     },
     "execution_count": 216,
     "metadata": {},
     "output_type": "execute_result"
    }
   ],
   "source": [
    "# (1) Create a variable street_train that contains the\n",
    "# relevant column from X_train\n",
    "# (Use double brackets [[]] to get the appropriate shape)\n",
    "waterfront_train = categoricals[[\"waterfront\"]]\n",
    "\n",
    "# (2) Instantiate an OrdinalEncoder\n",
    "encoder_waterfront = OrdinalEncoder()\n",
    "\n",
    "# (3) Fit the encoder on street_train\n",
    "encoder_waterfront.fit(waterfront_train)\n",
    "\n",
    "# Inspect the categories of the fitted encoder\n",
    "encoder_waterfront.categories_[0]"
   ]
  },
  {
   "cell_type": "code",
   "execution_count": 217,
   "metadata": {
    "ExecuteTime": {
     "end_time": "2022-02-22T19:05:15.499877Z",
     "start_time": "2022-02-22T19:05:15.454825Z"
    }
   },
   "outputs": [
    {
     "name": "stderr",
     "output_type": "stream",
     "text": [
      "<ipython-input-217-f7275cd5cd86>:4: SettingWithCopyWarning: \n",
      "A value is trying to be set on a copy of a slice from a DataFrame.\n",
      "Try using .loc[row_indexer,col_indexer] = value instead\n",
      "\n",
      "See the caveats in the documentation: https://pandas.pydata.org/pandas-docs/stable/user_guide/indexing.html#returning-a-view-versus-a-copy\n",
      "  categoricals[\"waterfront\"] = waterfront_encoded_test\n"
     ]
    },
    {
     "data": {
      "text/html": [
       "<div>\n",
       "<style scoped>\n",
       "    .dataframe tbody tr th:only-of-type {\n",
       "        vertical-align: middle;\n",
       "    }\n",
       "\n",
       "    .dataframe tbody tr th {\n",
       "        vertical-align: top;\n",
       "    }\n",
       "\n",
       "    .dataframe thead th {\n",
       "        text-align: right;\n",
       "    }\n",
       "</style>\n",
       "<table border=\"1\" class=\"dataframe\">\n",
       "  <thead>\n",
       "    <tr style=\"text-align: right;\">\n",
       "      <th></th>\n",
       "      <th>waterfront</th>\n",
       "      <th>view</th>\n",
       "      <th>condition</th>\n",
       "      <th>grade</th>\n",
       "      <th>waterfront_missing</th>\n",
       "    </tr>\n",
       "  </thead>\n",
       "  <tbody>\n",
       "    <tr>\n",
       "      <th>0</th>\n",
       "      <td>0.0</td>\n",
       "      <td>NONE</td>\n",
       "      <td>Average</td>\n",
       "      <td>7 Average</td>\n",
       "      <td>True</td>\n",
       "    </tr>\n",
       "    <tr>\n",
       "      <th>1</th>\n",
       "      <td>0.0</td>\n",
       "      <td>NONE</td>\n",
       "      <td>Average</td>\n",
       "      <td>7 Average</td>\n",
       "      <td>False</td>\n",
       "    </tr>\n",
       "    <tr>\n",
       "      <th>2</th>\n",
       "      <td>0.0</td>\n",
       "      <td>NONE</td>\n",
       "      <td>Average</td>\n",
       "      <td>6 Low Average</td>\n",
       "      <td>False</td>\n",
       "    </tr>\n",
       "    <tr>\n",
       "      <th>3</th>\n",
       "      <td>0.0</td>\n",
       "      <td>NONE</td>\n",
       "      <td>Very Good</td>\n",
       "      <td>7 Average</td>\n",
       "      <td>False</td>\n",
       "    </tr>\n",
       "    <tr>\n",
       "      <th>4</th>\n",
       "      <td>0.0</td>\n",
       "      <td>NONE</td>\n",
       "      <td>Average</td>\n",
       "      <td>8 Good</td>\n",
       "      <td>False</td>\n",
       "    </tr>\n",
       "    <tr>\n",
       "      <th>...</th>\n",
       "      <td>...</td>\n",
       "      <td>...</td>\n",
       "      <td>...</td>\n",
       "      <td>...</td>\n",
       "      <td>...</td>\n",
       "    </tr>\n",
       "    <tr>\n",
       "      <th>21592</th>\n",
       "      <td>0.0</td>\n",
       "      <td>NONE</td>\n",
       "      <td>Average</td>\n",
       "      <td>8 Good</td>\n",
       "      <td>False</td>\n",
       "    </tr>\n",
       "    <tr>\n",
       "      <th>21593</th>\n",
       "      <td>0.0</td>\n",
       "      <td>NONE</td>\n",
       "      <td>Average</td>\n",
       "      <td>8 Good</td>\n",
       "      <td>False</td>\n",
       "    </tr>\n",
       "    <tr>\n",
       "      <th>21594</th>\n",
       "      <td>0.0</td>\n",
       "      <td>NONE</td>\n",
       "      <td>Average</td>\n",
       "      <td>7 Average</td>\n",
       "      <td>False</td>\n",
       "    </tr>\n",
       "    <tr>\n",
       "      <th>21595</th>\n",
       "      <td>0.0</td>\n",
       "      <td>NONE</td>\n",
       "      <td>Average</td>\n",
       "      <td>8 Good</td>\n",
       "      <td>True</td>\n",
       "    </tr>\n",
       "    <tr>\n",
       "      <th>21596</th>\n",
       "      <td>0.0</td>\n",
       "      <td>NONE</td>\n",
       "      <td>Average</td>\n",
       "      <td>7 Average</td>\n",
       "      <td>False</td>\n",
       "    </tr>\n",
       "  </tbody>\n",
       "</table>\n",
       "<p>21597 rows × 5 columns</p>\n",
       "</div>"
      ],
      "text/plain": [
       "       waterfront  view  condition          grade  waterfront_missing\n",
       "0             0.0  NONE    Average      7 Average                True\n",
       "1             0.0  NONE    Average      7 Average               False\n",
       "2             0.0  NONE    Average  6 Low Average               False\n",
       "3             0.0  NONE  Very Good      7 Average               False\n",
       "4             0.0  NONE    Average         8 Good               False\n",
       "...           ...   ...        ...            ...                 ...\n",
       "21592         0.0  NONE    Average         8 Good               False\n",
       "21593         0.0  NONE    Average         8 Good               False\n",
       "21594         0.0  NONE    Average      7 Average               False\n",
       "21595         0.0  NONE    Average         8 Good                True\n",
       "21596         0.0  NONE    Average      7 Average               False\n",
       "\n",
       "[21597 rows x 5 columns]"
      ]
     },
     "execution_count": 217,
     "metadata": {},
     "output_type": "execute_result"
    }
   ],
   "source": [
    "# Encode waterfront type\n",
    "waterfront_test = categoricals[[\"waterfront\"]]\n",
    "waterfront_encoded_test = encoder_waterfront.transform(waterfront_test).flatten()\n",
    "categoricals[\"waterfront\"] = waterfront_encoded_test\n",
    "\n",
    "# Visually inspect categoricals\n",
    "categoricals"
   ]
  },
  {
   "cell_type": "code",
   "execution_count": 218,
   "metadata": {
    "ExecuteTime": {
     "end_time": "2022-02-22T19:05:15.522936Z",
     "start_time": "2022-02-22T19:05:15.503623Z"
    }
   },
   "outputs": [
    {
     "name": "stdout",
     "output_type": "stream",
     "text": [
      "<class 'pandas.core.frame.DataFrame'>\n",
      "RangeIndex: 21597 entries, 0 to 21596\n",
      "Data columns (total 5 columns):\n",
      " #   Column              Non-Null Count  Dtype  \n",
      "---  ------              --------------  -----  \n",
      " 0   waterfront          21597 non-null  float64\n",
      " 1   view                21597 non-null  object \n",
      " 2   condition           21597 non-null  object \n",
      " 3   grade               21597 non-null  object \n",
      " 4   waterfront_missing  21597 non-null  bool   \n",
      "dtypes: bool(1), float64(1), object(3)\n",
      "memory usage: 696.1+ KB\n"
     ]
    }
   ],
   "source": [
    "# visually inspect waterfront is a float64 data type\n",
    "categoricals.info()"
   ]
  },
  {
   "cell_type": "markdown",
   "metadata": {},
   "source": [
    "### ohe view"
   ]
  },
  {
   "cell_type": "code",
   "execution_count": 219,
   "metadata": {
    "ExecuteTime": {
     "end_time": "2022-02-22T19:05:15.545659Z",
     "start_time": "2022-02-22T19:05:15.525773Z"
    }
   },
   "outputs": [
    {
     "data": {
      "text/plain": [
       "[array(['AVERAGE', 'EXCELLENT', 'FAIR', 'GOOD', 'NONE'], dtype=object)]"
      ]
     },
     "execution_count": 219,
     "metadata": {},
     "output_type": "execute_result"
    }
   ],
   "source": [
    "# (1) Create a variable view_train\n",
    "# extracted from categoricals\n",
    "# (double brackets due to shape expected by OHE)\n",
    "view_train = categoricals[[\"view\"]]\n",
    "\n",
    "# (2) Instantiate a OneHotEncoder with categories=\"auto\",\n",
    "# sparse=False, and handle_unknown=\"ignore\"\n",
    "ohe = OneHotEncoder(categories=\"auto\", sparse=False, handle_unknown=\"ignore\")\n",
    "\n",
    "# (3) Fit the encoder on fireplace_qu_train\n",
    "ohe.fit(view_train)\n",
    "\n",
    "# Inspect the categories of the fitted encoder\n",
    "ohe.categories_"
   ]
  },
  {
   "cell_type": "code",
   "execution_count": 220,
   "metadata": {
    "ExecuteTime": {
     "end_time": "2022-02-22T19:05:15.581458Z",
     "start_time": "2022-02-22T19:05:15.553014Z"
    }
   },
   "outputs": [
    {
     "data": {
      "text/plain": [
       "array([[0., 0., 0., 0., 1.],\n",
       "       [0., 0., 0., 0., 1.],\n",
       "       [0., 0., 0., 0., 1.],\n",
       "       ...,\n",
       "       [0., 0., 0., 0., 1.],\n",
       "       [0., 0., 0., 0., 1.],\n",
       "       [0., 0., 0., 0., 1.]])"
      ]
     },
     "execution_count": 220,
     "metadata": {},
     "output_type": "execute_result"
    }
   ],
   "source": [
    "# (4) Transform view_train using the encoder and\n",
    "# assign the result to view_encoded_train\n",
    "view_encoded_train = ohe.transform(view_train)\n",
    "\n",
    "# Visually inspect view_encoded_train\n",
    "view_encoded_train"
   ]
  },
  {
   "cell_type": "code",
   "execution_count": 221,
   "metadata": {
    "ExecuteTime": {
     "end_time": "2022-02-22T19:05:15.610481Z",
     "start_time": "2022-02-22T19:05:15.584346Z"
    }
   },
   "outputs": [
    {
     "data": {
      "text/html": [
       "<div>\n",
       "<style scoped>\n",
       "    .dataframe tbody tr th:only-of-type {\n",
       "        vertical-align: middle;\n",
       "    }\n",
       "\n",
       "    .dataframe tbody tr th {\n",
       "        vertical-align: top;\n",
       "    }\n",
       "\n",
       "    .dataframe thead th {\n",
       "        text-align: right;\n",
       "    }\n",
       "</style>\n",
       "<table border=\"1\" class=\"dataframe\">\n",
       "  <thead>\n",
       "    <tr style=\"text-align: right;\">\n",
       "      <th></th>\n",
       "      <th>AVERAGE</th>\n",
       "      <th>EXCELLENT</th>\n",
       "      <th>FAIR</th>\n",
       "      <th>GOOD</th>\n",
       "      <th>NONE</th>\n",
       "    </tr>\n",
       "  </thead>\n",
       "  <tbody>\n",
       "    <tr>\n",
       "      <th>0</th>\n",
       "      <td>0.0</td>\n",
       "      <td>0.0</td>\n",
       "      <td>0.0</td>\n",
       "      <td>0.0</td>\n",
       "      <td>1.0</td>\n",
       "    </tr>\n",
       "    <tr>\n",
       "      <th>1</th>\n",
       "      <td>0.0</td>\n",
       "      <td>0.0</td>\n",
       "      <td>0.0</td>\n",
       "      <td>0.0</td>\n",
       "      <td>1.0</td>\n",
       "    </tr>\n",
       "    <tr>\n",
       "      <th>2</th>\n",
       "      <td>0.0</td>\n",
       "      <td>0.0</td>\n",
       "      <td>0.0</td>\n",
       "      <td>0.0</td>\n",
       "      <td>1.0</td>\n",
       "    </tr>\n",
       "    <tr>\n",
       "      <th>3</th>\n",
       "      <td>0.0</td>\n",
       "      <td>0.0</td>\n",
       "      <td>0.0</td>\n",
       "      <td>0.0</td>\n",
       "      <td>1.0</td>\n",
       "    </tr>\n",
       "    <tr>\n",
       "      <th>4</th>\n",
       "      <td>0.0</td>\n",
       "      <td>0.0</td>\n",
       "      <td>0.0</td>\n",
       "      <td>0.0</td>\n",
       "      <td>1.0</td>\n",
       "    </tr>\n",
       "    <tr>\n",
       "      <th>...</th>\n",
       "      <td>...</td>\n",
       "      <td>...</td>\n",
       "      <td>...</td>\n",
       "      <td>...</td>\n",
       "      <td>...</td>\n",
       "    </tr>\n",
       "    <tr>\n",
       "      <th>21592</th>\n",
       "      <td>0.0</td>\n",
       "      <td>0.0</td>\n",
       "      <td>0.0</td>\n",
       "      <td>0.0</td>\n",
       "      <td>1.0</td>\n",
       "    </tr>\n",
       "    <tr>\n",
       "      <th>21593</th>\n",
       "      <td>0.0</td>\n",
       "      <td>0.0</td>\n",
       "      <td>0.0</td>\n",
       "      <td>0.0</td>\n",
       "      <td>1.0</td>\n",
       "    </tr>\n",
       "    <tr>\n",
       "      <th>21594</th>\n",
       "      <td>0.0</td>\n",
       "      <td>0.0</td>\n",
       "      <td>0.0</td>\n",
       "      <td>0.0</td>\n",
       "      <td>1.0</td>\n",
       "    </tr>\n",
       "    <tr>\n",
       "      <th>21595</th>\n",
       "      <td>0.0</td>\n",
       "      <td>0.0</td>\n",
       "      <td>0.0</td>\n",
       "      <td>0.0</td>\n",
       "      <td>1.0</td>\n",
       "    </tr>\n",
       "    <tr>\n",
       "      <th>21596</th>\n",
       "      <td>0.0</td>\n",
       "      <td>0.0</td>\n",
       "      <td>0.0</td>\n",
       "      <td>0.0</td>\n",
       "      <td>1.0</td>\n",
       "    </tr>\n",
       "  </tbody>\n",
       "</table>\n",
       "<p>21597 rows × 5 columns</p>\n",
       "</div>"
      ],
      "text/plain": [
       "       AVERAGE  EXCELLENT  FAIR  GOOD  NONE\n",
       "0          0.0        0.0   0.0   0.0   1.0\n",
       "1          0.0        0.0   0.0   0.0   1.0\n",
       "2          0.0        0.0   0.0   0.0   1.0\n",
       "3          0.0        0.0   0.0   0.0   1.0\n",
       "4          0.0        0.0   0.0   0.0   1.0\n",
       "...        ...        ...   ...   ...   ...\n",
       "21592      0.0        0.0   0.0   0.0   1.0\n",
       "21593      0.0        0.0   0.0   0.0   1.0\n",
       "21594      0.0        0.0   0.0   0.0   1.0\n",
       "21595      0.0        0.0   0.0   0.0   1.0\n",
       "21596      0.0        0.0   0.0   0.0   1.0\n",
       "\n",
       "[21597 rows x 5 columns]"
      ]
     },
     "execution_count": 221,
     "metadata": {},
     "output_type": "execute_result"
    }
   ],
   "source": [
    "# (5a) Make the transformed data into a dataframe\n",
    "view_encoded_train = pd.DataFrame(\n",
    "    # Pass in NumPy array\n",
    "    view_encoded_train,\n",
    "    # Set the column names to the categories found by OHE\n",
    "    columns=ohe.categories_[0],\n",
    "    # Set the index to match X_train's index\n",
    "    index=categoricals.index\n",
    ")\n",
    "\n",
    "# Visually inspect new dataframe\n",
    "view_encoded_train"
   ]
  },
  {
   "cell_type": "code",
   "execution_count": 222,
   "metadata": {
    "ExecuteTime": {
     "end_time": "2022-02-22T19:05:15.648061Z",
     "start_time": "2022-02-22T19:05:15.620833Z"
    }
   },
   "outputs": [
    {
     "data": {
      "text/html": [
       "<div>\n",
       "<style scoped>\n",
       "    .dataframe tbody tr th:only-of-type {\n",
       "        vertical-align: middle;\n",
       "    }\n",
       "\n",
       "    .dataframe tbody tr th {\n",
       "        vertical-align: top;\n",
       "    }\n",
       "\n",
       "    .dataframe thead th {\n",
       "        text-align: right;\n",
       "    }\n",
       "</style>\n",
       "<table border=\"1\" class=\"dataframe\">\n",
       "  <thead>\n",
       "    <tr style=\"text-align: right;\">\n",
       "      <th></th>\n",
       "      <th>AVERAGE</th>\n",
       "      <th>View_Excellent</th>\n",
       "      <th>View_Fair</th>\n",
       "      <th>View_Good</th>\n",
       "      <th>No View</th>\n",
       "    </tr>\n",
       "  </thead>\n",
       "  <tbody>\n",
       "    <tr>\n",
       "      <th>0</th>\n",
       "      <td>0.0</td>\n",
       "      <td>0.0</td>\n",
       "      <td>0.0</td>\n",
       "      <td>0.0</td>\n",
       "      <td>1.0</td>\n",
       "    </tr>\n",
       "    <tr>\n",
       "      <th>1</th>\n",
       "      <td>0.0</td>\n",
       "      <td>0.0</td>\n",
       "      <td>0.0</td>\n",
       "      <td>0.0</td>\n",
       "      <td>1.0</td>\n",
       "    </tr>\n",
       "    <tr>\n",
       "      <th>2</th>\n",
       "      <td>0.0</td>\n",
       "      <td>0.0</td>\n",
       "      <td>0.0</td>\n",
       "      <td>0.0</td>\n",
       "      <td>1.0</td>\n",
       "    </tr>\n",
       "    <tr>\n",
       "      <th>3</th>\n",
       "      <td>0.0</td>\n",
       "      <td>0.0</td>\n",
       "      <td>0.0</td>\n",
       "      <td>0.0</td>\n",
       "      <td>1.0</td>\n",
       "    </tr>\n",
       "    <tr>\n",
       "      <th>4</th>\n",
       "      <td>0.0</td>\n",
       "      <td>0.0</td>\n",
       "      <td>0.0</td>\n",
       "      <td>0.0</td>\n",
       "      <td>1.0</td>\n",
       "    </tr>\n",
       "    <tr>\n",
       "      <th>...</th>\n",
       "      <td>...</td>\n",
       "      <td>...</td>\n",
       "      <td>...</td>\n",
       "      <td>...</td>\n",
       "      <td>...</td>\n",
       "    </tr>\n",
       "    <tr>\n",
       "      <th>21592</th>\n",
       "      <td>0.0</td>\n",
       "      <td>0.0</td>\n",
       "      <td>0.0</td>\n",
       "      <td>0.0</td>\n",
       "      <td>1.0</td>\n",
       "    </tr>\n",
       "    <tr>\n",
       "      <th>21593</th>\n",
       "      <td>0.0</td>\n",
       "      <td>0.0</td>\n",
       "      <td>0.0</td>\n",
       "      <td>0.0</td>\n",
       "      <td>1.0</td>\n",
       "    </tr>\n",
       "    <tr>\n",
       "      <th>21594</th>\n",
       "      <td>0.0</td>\n",
       "      <td>0.0</td>\n",
       "      <td>0.0</td>\n",
       "      <td>0.0</td>\n",
       "      <td>1.0</td>\n",
       "    </tr>\n",
       "    <tr>\n",
       "      <th>21595</th>\n",
       "      <td>0.0</td>\n",
       "      <td>0.0</td>\n",
       "      <td>0.0</td>\n",
       "      <td>0.0</td>\n",
       "      <td>1.0</td>\n",
       "    </tr>\n",
       "    <tr>\n",
       "      <th>21596</th>\n",
       "      <td>0.0</td>\n",
       "      <td>0.0</td>\n",
       "      <td>0.0</td>\n",
       "      <td>0.0</td>\n",
       "      <td>1.0</td>\n",
       "    </tr>\n",
       "  </tbody>\n",
       "</table>\n",
       "<p>21597 rows × 5 columns</p>\n",
       "</div>"
      ],
      "text/plain": [
       "       AVERAGE  View_Excellent  View_Fair  View_Good  No View\n",
       "0          0.0             0.0        0.0        0.0      1.0\n",
       "1          0.0             0.0        0.0        0.0      1.0\n",
       "2          0.0             0.0        0.0        0.0      1.0\n",
       "3          0.0             0.0        0.0        0.0      1.0\n",
       "4          0.0             0.0        0.0        0.0      1.0\n",
       "...        ...             ...        ...        ...      ...\n",
       "21592      0.0             0.0        0.0        0.0      1.0\n",
       "21593      0.0             0.0        0.0        0.0      1.0\n",
       "21594      0.0             0.0        0.0        0.0      1.0\n",
       "21595      0.0             0.0        0.0        0.0      1.0\n",
       "21596      0.0             0.0        0.0        0.0      1.0\n",
       "\n",
       "[21597 rows x 5 columns]"
      ]
     },
     "execution_count": 222,
     "metadata": {},
     "output_type": "execute_result"
    }
   ],
   "source": [
    "view_encoded_train = view_encoded_train.rename(columns={'Average':'View_Average',\n",
    "                                        'EXCELLENT':'View_Excellent',\n",
    "                                        'FAIR':'View_Fair',\n",
    "                                        'GOOD':'View_Good',\n",
    "                                        'NONE':'No View'})\n",
    "view_encoded_train"
   ]
  },
  {
   "cell_type": "code",
   "execution_count": 223,
   "metadata": {
    "ExecuteTime": {
     "end_time": "2022-02-22T19:05:15.699207Z",
     "start_time": "2022-02-22T19:05:15.652078Z"
    }
   },
   "outputs": [
    {
     "data": {
      "text/html": [
       "<div>\n",
       "<style scoped>\n",
       "    .dataframe tbody tr th:only-of-type {\n",
       "        vertical-align: middle;\n",
       "    }\n",
       "\n",
       "    .dataframe tbody tr th {\n",
       "        vertical-align: top;\n",
       "    }\n",
       "\n",
       "    .dataframe thead th {\n",
       "        text-align: right;\n",
       "    }\n",
       "</style>\n",
       "<table border=\"1\" class=\"dataframe\">\n",
       "  <thead>\n",
       "    <tr style=\"text-align: right;\">\n",
       "      <th></th>\n",
       "      <th>waterfront</th>\n",
       "      <th>view</th>\n",
       "      <th>condition</th>\n",
       "      <th>grade</th>\n",
       "      <th>waterfront_missing</th>\n",
       "      <th>AVERAGE</th>\n",
       "      <th>View_Excellent</th>\n",
       "      <th>View_Fair</th>\n",
       "      <th>View_Good</th>\n",
       "      <th>No View</th>\n",
       "    </tr>\n",
       "  </thead>\n",
       "  <tbody>\n",
       "    <tr>\n",
       "      <th>0</th>\n",
       "      <td>0.0</td>\n",
       "      <td>NONE</td>\n",
       "      <td>Average</td>\n",
       "      <td>7 Average</td>\n",
       "      <td>True</td>\n",
       "      <td>0.0</td>\n",
       "      <td>0.0</td>\n",
       "      <td>0.0</td>\n",
       "      <td>0.0</td>\n",
       "      <td>1.0</td>\n",
       "    </tr>\n",
       "    <tr>\n",
       "      <th>1</th>\n",
       "      <td>0.0</td>\n",
       "      <td>NONE</td>\n",
       "      <td>Average</td>\n",
       "      <td>7 Average</td>\n",
       "      <td>False</td>\n",
       "      <td>0.0</td>\n",
       "      <td>0.0</td>\n",
       "      <td>0.0</td>\n",
       "      <td>0.0</td>\n",
       "      <td>1.0</td>\n",
       "    </tr>\n",
       "    <tr>\n",
       "      <th>2</th>\n",
       "      <td>0.0</td>\n",
       "      <td>NONE</td>\n",
       "      <td>Average</td>\n",
       "      <td>6 Low Average</td>\n",
       "      <td>False</td>\n",
       "      <td>0.0</td>\n",
       "      <td>0.0</td>\n",
       "      <td>0.0</td>\n",
       "      <td>0.0</td>\n",
       "      <td>1.0</td>\n",
       "    </tr>\n",
       "    <tr>\n",
       "      <th>3</th>\n",
       "      <td>0.0</td>\n",
       "      <td>NONE</td>\n",
       "      <td>Very Good</td>\n",
       "      <td>7 Average</td>\n",
       "      <td>False</td>\n",
       "      <td>0.0</td>\n",
       "      <td>0.0</td>\n",
       "      <td>0.0</td>\n",
       "      <td>0.0</td>\n",
       "      <td>1.0</td>\n",
       "    </tr>\n",
       "    <tr>\n",
       "      <th>4</th>\n",
       "      <td>0.0</td>\n",
       "      <td>NONE</td>\n",
       "      <td>Average</td>\n",
       "      <td>8 Good</td>\n",
       "      <td>False</td>\n",
       "      <td>0.0</td>\n",
       "      <td>0.0</td>\n",
       "      <td>0.0</td>\n",
       "      <td>0.0</td>\n",
       "      <td>1.0</td>\n",
       "    </tr>\n",
       "    <tr>\n",
       "      <th>...</th>\n",
       "      <td>...</td>\n",
       "      <td>...</td>\n",
       "      <td>...</td>\n",
       "      <td>...</td>\n",
       "      <td>...</td>\n",
       "      <td>...</td>\n",
       "      <td>...</td>\n",
       "      <td>...</td>\n",
       "      <td>...</td>\n",
       "      <td>...</td>\n",
       "    </tr>\n",
       "    <tr>\n",
       "      <th>21592</th>\n",
       "      <td>0.0</td>\n",
       "      <td>NONE</td>\n",
       "      <td>Average</td>\n",
       "      <td>8 Good</td>\n",
       "      <td>False</td>\n",
       "      <td>0.0</td>\n",
       "      <td>0.0</td>\n",
       "      <td>0.0</td>\n",
       "      <td>0.0</td>\n",
       "      <td>1.0</td>\n",
       "    </tr>\n",
       "    <tr>\n",
       "      <th>21593</th>\n",
       "      <td>0.0</td>\n",
       "      <td>NONE</td>\n",
       "      <td>Average</td>\n",
       "      <td>8 Good</td>\n",
       "      <td>False</td>\n",
       "      <td>0.0</td>\n",
       "      <td>0.0</td>\n",
       "      <td>0.0</td>\n",
       "      <td>0.0</td>\n",
       "      <td>1.0</td>\n",
       "    </tr>\n",
       "    <tr>\n",
       "      <th>21594</th>\n",
       "      <td>0.0</td>\n",
       "      <td>NONE</td>\n",
       "      <td>Average</td>\n",
       "      <td>7 Average</td>\n",
       "      <td>False</td>\n",
       "      <td>0.0</td>\n",
       "      <td>0.0</td>\n",
       "      <td>0.0</td>\n",
       "      <td>0.0</td>\n",
       "      <td>1.0</td>\n",
       "    </tr>\n",
       "    <tr>\n",
       "      <th>21595</th>\n",
       "      <td>0.0</td>\n",
       "      <td>NONE</td>\n",
       "      <td>Average</td>\n",
       "      <td>8 Good</td>\n",
       "      <td>True</td>\n",
       "      <td>0.0</td>\n",
       "      <td>0.0</td>\n",
       "      <td>0.0</td>\n",
       "      <td>0.0</td>\n",
       "      <td>1.0</td>\n",
       "    </tr>\n",
       "    <tr>\n",
       "      <th>21596</th>\n",
       "      <td>0.0</td>\n",
       "      <td>NONE</td>\n",
       "      <td>Average</td>\n",
       "      <td>7 Average</td>\n",
       "      <td>False</td>\n",
       "      <td>0.0</td>\n",
       "      <td>0.0</td>\n",
       "      <td>0.0</td>\n",
       "      <td>0.0</td>\n",
       "      <td>1.0</td>\n",
       "    </tr>\n",
       "  </tbody>\n",
       "</table>\n",
       "<p>21597 rows × 10 columns</p>\n",
       "</div>"
      ],
      "text/plain": [
       "       waterfront  view  condition          grade  waterfront_missing  \\\n",
       "0             0.0  NONE    Average      7 Average                True   \n",
       "1             0.0  NONE    Average      7 Average               False   \n",
       "2             0.0  NONE    Average  6 Low Average               False   \n",
       "3             0.0  NONE  Very Good      7 Average               False   \n",
       "4             0.0  NONE    Average         8 Good               False   \n",
       "...           ...   ...        ...            ...                 ...   \n",
       "21592         0.0  NONE    Average         8 Good               False   \n",
       "21593         0.0  NONE    Average         8 Good               False   \n",
       "21594         0.0  NONE    Average      7 Average               False   \n",
       "21595         0.0  NONE    Average         8 Good                True   \n",
       "21596         0.0  NONE    Average      7 Average               False   \n",
       "\n",
       "       AVERAGE  View_Excellent  View_Fair  View_Good  No View  \n",
       "0          0.0             0.0        0.0        0.0      1.0  \n",
       "1          0.0             0.0        0.0        0.0      1.0  \n",
       "2          0.0             0.0        0.0        0.0      1.0  \n",
       "3          0.0             0.0        0.0        0.0      1.0  \n",
       "4          0.0             0.0        0.0        0.0      1.0  \n",
       "...        ...             ...        ...        ...      ...  \n",
       "21592      0.0             0.0        0.0        0.0      1.0  \n",
       "21593      0.0             0.0        0.0        0.0      1.0  \n",
       "21594      0.0             0.0        0.0        0.0      1.0  \n",
       "21595      0.0             0.0        0.0        0.0      1.0  \n",
       "21596      0.0             0.0        0.0        0.0      1.0  \n",
       "\n",
       "[21597 rows x 10 columns]"
      ]
     },
     "execution_count": 223,
     "metadata": {},
     "output_type": "execute_result"
    }
   ],
   "source": [
    "# (5b) Concatenate the new dataframe with current categoricals\n",
    "categoricals = pd.concat([categoricals, view_encoded_train], axis=1)\n",
    "\n",
    "# Visually inspect categoricals\n",
    "categoricals"
   ]
  },
  {
   "cell_type": "code",
   "execution_count": 224,
   "metadata": {
    "ExecuteTime": {
     "end_time": "2022-02-22T19:05:15.746678Z",
     "start_time": "2022-02-22T19:05:15.702553Z"
    }
   },
   "outputs": [
    {
     "data": {
      "text/html": [
       "<div>\n",
       "<style scoped>\n",
       "    .dataframe tbody tr th:only-of-type {\n",
       "        vertical-align: middle;\n",
       "    }\n",
       "\n",
       "    .dataframe tbody tr th {\n",
       "        vertical-align: top;\n",
       "    }\n",
       "\n",
       "    .dataframe thead th {\n",
       "        text-align: right;\n",
       "    }\n",
       "</style>\n",
       "<table border=\"1\" class=\"dataframe\">\n",
       "  <thead>\n",
       "    <tr style=\"text-align: right;\">\n",
       "      <th></th>\n",
       "      <th>waterfront</th>\n",
       "      <th>condition</th>\n",
       "      <th>grade</th>\n",
       "      <th>waterfront_missing</th>\n",
       "      <th>AVERAGE</th>\n",
       "      <th>View_Excellent</th>\n",
       "      <th>View_Fair</th>\n",
       "      <th>View_Good</th>\n",
       "      <th>No View</th>\n",
       "    </tr>\n",
       "  </thead>\n",
       "  <tbody>\n",
       "    <tr>\n",
       "      <th>0</th>\n",
       "      <td>0.0</td>\n",
       "      <td>Average</td>\n",
       "      <td>7 Average</td>\n",
       "      <td>True</td>\n",
       "      <td>0.0</td>\n",
       "      <td>0.0</td>\n",
       "      <td>0.0</td>\n",
       "      <td>0.0</td>\n",
       "      <td>1.0</td>\n",
       "    </tr>\n",
       "    <tr>\n",
       "      <th>1</th>\n",
       "      <td>0.0</td>\n",
       "      <td>Average</td>\n",
       "      <td>7 Average</td>\n",
       "      <td>False</td>\n",
       "      <td>0.0</td>\n",
       "      <td>0.0</td>\n",
       "      <td>0.0</td>\n",
       "      <td>0.0</td>\n",
       "      <td>1.0</td>\n",
       "    </tr>\n",
       "    <tr>\n",
       "      <th>2</th>\n",
       "      <td>0.0</td>\n",
       "      <td>Average</td>\n",
       "      <td>6 Low Average</td>\n",
       "      <td>False</td>\n",
       "      <td>0.0</td>\n",
       "      <td>0.0</td>\n",
       "      <td>0.0</td>\n",
       "      <td>0.0</td>\n",
       "      <td>1.0</td>\n",
       "    </tr>\n",
       "    <tr>\n",
       "      <th>3</th>\n",
       "      <td>0.0</td>\n",
       "      <td>Very Good</td>\n",
       "      <td>7 Average</td>\n",
       "      <td>False</td>\n",
       "      <td>0.0</td>\n",
       "      <td>0.0</td>\n",
       "      <td>0.0</td>\n",
       "      <td>0.0</td>\n",
       "      <td>1.0</td>\n",
       "    </tr>\n",
       "    <tr>\n",
       "      <th>4</th>\n",
       "      <td>0.0</td>\n",
       "      <td>Average</td>\n",
       "      <td>8 Good</td>\n",
       "      <td>False</td>\n",
       "      <td>0.0</td>\n",
       "      <td>0.0</td>\n",
       "      <td>0.0</td>\n",
       "      <td>0.0</td>\n",
       "      <td>1.0</td>\n",
       "    </tr>\n",
       "    <tr>\n",
       "      <th>...</th>\n",
       "      <td>...</td>\n",
       "      <td>...</td>\n",
       "      <td>...</td>\n",
       "      <td>...</td>\n",
       "      <td>...</td>\n",
       "      <td>...</td>\n",
       "      <td>...</td>\n",
       "      <td>...</td>\n",
       "      <td>...</td>\n",
       "    </tr>\n",
       "    <tr>\n",
       "      <th>21592</th>\n",
       "      <td>0.0</td>\n",
       "      <td>Average</td>\n",
       "      <td>8 Good</td>\n",
       "      <td>False</td>\n",
       "      <td>0.0</td>\n",
       "      <td>0.0</td>\n",
       "      <td>0.0</td>\n",
       "      <td>0.0</td>\n",
       "      <td>1.0</td>\n",
       "    </tr>\n",
       "    <tr>\n",
       "      <th>21593</th>\n",
       "      <td>0.0</td>\n",
       "      <td>Average</td>\n",
       "      <td>8 Good</td>\n",
       "      <td>False</td>\n",
       "      <td>0.0</td>\n",
       "      <td>0.0</td>\n",
       "      <td>0.0</td>\n",
       "      <td>0.0</td>\n",
       "      <td>1.0</td>\n",
       "    </tr>\n",
       "    <tr>\n",
       "      <th>21594</th>\n",
       "      <td>0.0</td>\n",
       "      <td>Average</td>\n",
       "      <td>7 Average</td>\n",
       "      <td>False</td>\n",
       "      <td>0.0</td>\n",
       "      <td>0.0</td>\n",
       "      <td>0.0</td>\n",
       "      <td>0.0</td>\n",
       "      <td>1.0</td>\n",
       "    </tr>\n",
       "    <tr>\n",
       "      <th>21595</th>\n",
       "      <td>0.0</td>\n",
       "      <td>Average</td>\n",
       "      <td>8 Good</td>\n",
       "      <td>True</td>\n",
       "      <td>0.0</td>\n",
       "      <td>0.0</td>\n",
       "      <td>0.0</td>\n",
       "      <td>0.0</td>\n",
       "      <td>1.0</td>\n",
       "    </tr>\n",
       "    <tr>\n",
       "      <th>21596</th>\n",
       "      <td>0.0</td>\n",
       "      <td>Average</td>\n",
       "      <td>7 Average</td>\n",
       "      <td>False</td>\n",
       "      <td>0.0</td>\n",
       "      <td>0.0</td>\n",
       "      <td>0.0</td>\n",
       "      <td>0.0</td>\n",
       "      <td>1.0</td>\n",
       "    </tr>\n",
       "  </tbody>\n",
       "</table>\n",
       "<p>21597 rows × 9 columns</p>\n",
       "</div>"
      ],
      "text/plain": [
       "       waterfront  condition          grade  waterfront_missing  AVERAGE  \\\n",
       "0             0.0    Average      7 Average                True      0.0   \n",
       "1             0.0    Average      7 Average               False      0.0   \n",
       "2             0.0    Average  6 Low Average               False      0.0   \n",
       "3             0.0  Very Good      7 Average               False      0.0   \n",
       "4             0.0    Average         8 Good               False      0.0   \n",
       "...           ...        ...            ...                 ...      ...   \n",
       "21592         0.0    Average         8 Good               False      0.0   \n",
       "21593         0.0    Average         8 Good               False      0.0   \n",
       "21594         0.0    Average      7 Average               False      0.0   \n",
       "21595         0.0    Average         8 Good                True      0.0   \n",
       "21596         0.0    Average      7 Average               False      0.0   \n",
       "\n",
       "       View_Excellent  View_Fair  View_Good  No View  \n",
       "0                 0.0        0.0        0.0      1.0  \n",
       "1                 0.0        0.0        0.0      1.0  \n",
       "2                 0.0        0.0        0.0      1.0  \n",
       "3                 0.0        0.0        0.0      1.0  \n",
       "4                 0.0        0.0        0.0      1.0  \n",
       "...               ...        ...        ...      ...  \n",
       "21592             0.0        0.0        0.0      1.0  \n",
       "21593             0.0        0.0        0.0      1.0  \n",
       "21594             0.0        0.0        0.0      1.0  \n",
       "21595             0.0        0.0        0.0      1.0  \n",
       "21596             0.0        0.0        0.0      1.0  \n",
       "\n",
       "[21597 rows x 9 columns]"
      ]
     },
     "execution_count": 224,
     "metadata": {},
     "output_type": "execute_result"
    }
   ],
   "source": [
    "# (5c) Drop original view column\n",
    "categoricals.drop(\"view\", axis=1, inplace=True)\n",
    "\n",
    "# Visually inspect X_train\n",
    "categoricals"
   ]
  },
  {
   "cell_type": "markdown",
   "metadata": {},
   "source": [
    "### ohe condition"
   ]
  },
  {
   "cell_type": "code",
   "execution_count": 225,
   "metadata": {
    "ExecuteTime": {
     "end_time": "2022-02-22T19:05:15.773776Z",
     "start_time": "2022-02-22T19:05:15.757246Z"
    }
   },
   "outputs": [
    {
     "data": {
      "text/plain": [
       "Average      14020\n",
       "Good          5677\n",
       "Very Good     1701\n",
       "Fair           170\n",
       "Poor            29\n",
       "Name: condition, dtype: int64"
      ]
     },
     "execution_count": 225,
     "metadata": {},
     "output_type": "execute_result"
    }
   ],
   "source": [
    "categoricals['condition'].value_counts()"
   ]
  },
  {
   "cell_type": "code",
   "execution_count": 226,
   "metadata": {
    "ExecuteTime": {
     "end_time": "2022-02-22T19:05:15.799632Z",
     "start_time": "2022-02-22T19:05:15.784768Z"
    }
   },
   "outputs": [
    {
     "data": {
      "text/plain": [
       "[array(['Average', 'Fair', 'Good', 'Poor', 'Very Good'], dtype=object)]"
      ]
     },
     "execution_count": 226,
     "metadata": {},
     "output_type": "execute_result"
    }
   ],
   "source": [
    "# (1) Create a variable condition_train\n",
    "# extracted from categoricals\n",
    "# (double brackets due to shape expected by OHE)\n",
    "condition_train = categoricals[[\"condition\"]]\n",
    "\n",
    "# (2) Fit the encoder on fireplace_qu_train\n",
    "ohe.fit(condition_train)\n",
    "\n",
    "# Inspect the categories of the fitted encoder\n",
    "ohe.categories_"
   ]
  },
  {
   "cell_type": "code",
   "execution_count": 227,
   "metadata": {
    "ExecuteTime": {
     "end_time": "2022-02-22T19:05:15.825659Z",
     "start_time": "2022-02-22T19:05:15.803627Z"
    }
   },
   "outputs": [
    {
     "data": {
      "text/plain": [
       "array([[1., 0., 0., 0., 0.],\n",
       "       [1., 0., 0., 0., 0.],\n",
       "       [1., 0., 0., 0., 0.],\n",
       "       ...,\n",
       "       [1., 0., 0., 0., 0.],\n",
       "       [1., 0., 0., 0., 0.],\n",
       "       [1., 0., 0., 0., 0.]])"
      ]
     },
     "execution_count": 227,
     "metadata": {},
     "output_type": "execute_result"
    }
   ],
   "source": [
    "# (3) Transform condition_train using the encoder and\n",
    "# assign the result to condition_encoded_train\n",
    "condition_encoded_train = ohe.transform(condition_train)\n",
    "\n",
    "# Visually inspect condition_encoded_train\n",
    "condition_encoded_train"
   ]
  },
  {
   "cell_type": "code",
   "execution_count": 228,
   "metadata": {
    "ExecuteTime": {
     "end_time": "2022-02-22T19:05:15.855889Z",
     "start_time": "2022-02-22T19:05:15.828542Z"
    }
   },
   "outputs": [
    {
     "data": {
      "text/html": [
       "<div>\n",
       "<style scoped>\n",
       "    .dataframe tbody tr th:only-of-type {\n",
       "        vertical-align: middle;\n",
       "    }\n",
       "\n",
       "    .dataframe tbody tr th {\n",
       "        vertical-align: top;\n",
       "    }\n",
       "\n",
       "    .dataframe thead th {\n",
       "        text-align: right;\n",
       "    }\n",
       "</style>\n",
       "<table border=\"1\" class=\"dataframe\">\n",
       "  <thead>\n",
       "    <tr style=\"text-align: right;\">\n",
       "      <th></th>\n",
       "      <th>Average</th>\n",
       "      <th>Fair</th>\n",
       "      <th>Good</th>\n",
       "      <th>Poor</th>\n",
       "      <th>Very Good</th>\n",
       "    </tr>\n",
       "  </thead>\n",
       "  <tbody>\n",
       "    <tr>\n",
       "      <th>0</th>\n",
       "      <td>1.0</td>\n",
       "      <td>0.0</td>\n",
       "      <td>0.0</td>\n",
       "      <td>0.0</td>\n",
       "      <td>0.0</td>\n",
       "    </tr>\n",
       "    <tr>\n",
       "      <th>1</th>\n",
       "      <td>1.0</td>\n",
       "      <td>0.0</td>\n",
       "      <td>0.0</td>\n",
       "      <td>0.0</td>\n",
       "      <td>0.0</td>\n",
       "    </tr>\n",
       "    <tr>\n",
       "      <th>2</th>\n",
       "      <td>1.0</td>\n",
       "      <td>0.0</td>\n",
       "      <td>0.0</td>\n",
       "      <td>0.0</td>\n",
       "      <td>0.0</td>\n",
       "    </tr>\n",
       "    <tr>\n",
       "      <th>3</th>\n",
       "      <td>0.0</td>\n",
       "      <td>0.0</td>\n",
       "      <td>0.0</td>\n",
       "      <td>0.0</td>\n",
       "      <td>1.0</td>\n",
       "    </tr>\n",
       "    <tr>\n",
       "      <th>4</th>\n",
       "      <td>1.0</td>\n",
       "      <td>0.0</td>\n",
       "      <td>0.0</td>\n",
       "      <td>0.0</td>\n",
       "      <td>0.0</td>\n",
       "    </tr>\n",
       "    <tr>\n",
       "      <th>...</th>\n",
       "      <td>...</td>\n",
       "      <td>...</td>\n",
       "      <td>...</td>\n",
       "      <td>...</td>\n",
       "      <td>...</td>\n",
       "    </tr>\n",
       "    <tr>\n",
       "      <th>21592</th>\n",
       "      <td>1.0</td>\n",
       "      <td>0.0</td>\n",
       "      <td>0.0</td>\n",
       "      <td>0.0</td>\n",
       "      <td>0.0</td>\n",
       "    </tr>\n",
       "    <tr>\n",
       "      <th>21593</th>\n",
       "      <td>1.0</td>\n",
       "      <td>0.0</td>\n",
       "      <td>0.0</td>\n",
       "      <td>0.0</td>\n",
       "      <td>0.0</td>\n",
       "    </tr>\n",
       "    <tr>\n",
       "      <th>21594</th>\n",
       "      <td>1.0</td>\n",
       "      <td>0.0</td>\n",
       "      <td>0.0</td>\n",
       "      <td>0.0</td>\n",
       "      <td>0.0</td>\n",
       "    </tr>\n",
       "    <tr>\n",
       "      <th>21595</th>\n",
       "      <td>1.0</td>\n",
       "      <td>0.0</td>\n",
       "      <td>0.0</td>\n",
       "      <td>0.0</td>\n",
       "      <td>0.0</td>\n",
       "    </tr>\n",
       "    <tr>\n",
       "      <th>21596</th>\n",
       "      <td>1.0</td>\n",
       "      <td>0.0</td>\n",
       "      <td>0.0</td>\n",
       "      <td>0.0</td>\n",
       "      <td>0.0</td>\n",
       "    </tr>\n",
       "  </tbody>\n",
       "</table>\n",
       "<p>21597 rows × 5 columns</p>\n",
       "</div>"
      ],
      "text/plain": [
       "       Average  Fair  Good  Poor  Very Good\n",
       "0          1.0   0.0   0.0   0.0        0.0\n",
       "1          1.0   0.0   0.0   0.0        0.0\n",
       "2          1.0   0.0   0.0   0.0        0.0\n",
       "3          0.0   0.0   0.0   0.0        1.0\n",
       "4          1.0   0.0   0.0   0.0        0.0\n",
       "...        ...   ...   ...   ...        ...\n",
       "21592      1.0   0.0   0.0   0.0        0.0\n",
       "21593      1.0   0.0   0.0   0.0        0.0\n",
       "21594      1.0   0.0   0.0   0.0        0.0\n",
       "21595      1.0   0.0   0.0   0.0        0.0\n",
       "21596      1.0   0.0   0.0   0.0        0.0\n",
       "\n",
       "[21597 rows x 5 columns]"
      ]
     },
     "execution_count": 228,
     "metadata": {},
     "output_type": "execute_result"
    }
   ],
   "source": [
    "# (4a) Make the transformed data into a dataframe\n",
    "condition_encoded_train = pd.DataFrame(\n",
    "    # Pass in NumPy array\n",
    "    condition_encoded_train,\n",
    "    # Set the column names to the categories found by OHE\n",
    "    columns=ohe.categories_[0],\n",
    "    # Set the index to match X_train's index\n",
    "    index=categoricals.index\n",
    ")\n",
    "\n",
    "# Visually inspect new dataframe\n",
    "condition_encoded_train"
   ]
  },
  {
   "cell_type": "code",
   "execution_count": 229,
   "metadata": {
    "ExecuteTime": {
     "end_time": "2022-02-22T19:05:15.887250Z",
     "start_time": "2022-02-22T19:05:15.860453Z"
    }
   },
   "outputs": [
    {
     "data": {
      "text/html": [
       "<div>\n",
       "<style scoped>\n",
       "    .dataframe tbody tr th:only-of-type {\n",
       "        vertical-align: middle;\n",
       "    }\n",
       "\n",
       "    .dataframe tbody tr th {\n",
       "        vertical-align: top;\n",
       "    }\n",
       "\n",
       "    .dataframe thead th {\n",
       "        text-align: right;\n",
       "    }\n",
       "</style>\n",
       "<table border=\"1\" class=\"dataframe\">\n",
       "  <thead>\n",
       "    <tr style=\"text-align: right;\">\n",
       "      <th></th>\n",
       "      <th>Condition_Average</th>\n",
       "      <th>Condition_Fair</th>\n",
       "      <th>Condition_Good</th>\n",
       "      <th>Condition_Poor</th>\n",
       "      <th>Condition_Very Good</th>\n",
       "    </tr>\n",
       "  </thead>\n",
       "  <tbody>\n",
       "    <tr>\n",
       "      <th>0</th>\n",
       "      <td>1.0</td>\n",
       "      <td>0.0</td>\n",
       "      <td>0.0</td>\n",
       "      <td>0.0</td>\n",
       "      <td>0.0</td>\n",
       "    </tr>\n",
       "    <tr>\n",
       "      <th>1</th>\n",
       "      <td>1.0</td>\n",
       "      <td>0.0</td>\n",
       "      <td>0.0</td>\n",
       "      <td>0.0</td>\n",
       "      <td>0.0</td>\n",
       "    </tr>\n",
       "    <tr>\n",
       "      <th>2</th>\n",
       "      <td>1.0</td>\n",
       "      <td>0.0</td>\n",
       "      <td>0.0</td>\n",
       "      <td>0.0</td>\n",
       "      <td>0.0</td>\n",
       "    </tr>\n",
       "    <tr>\n",
       "      <th>3</th>\n",
       "      <td>0.0</td>\n",
       "      <td>0.0</td>\n",
       "      <td>0.0</td>\n",
       "      <td>0.0</td>\n",
       "      <td>1.0</td>\n",
       "    </tr>\n",
       "    <tr>\n",
       "      <th>4</th>\n",
       "      <td>1.0</td>\n",
       "      <td>0.0</td>\n",
       "      <td>0.0</td>\n",
       "      <td>0.0</td>\n",
       "      <td>0.0</td>\n",
       "    </tr>\n",
       "    <tr>\n",
       "      <th>...</th>\n",
       "      <td>...</td>\n",
       "      <td>...</td>\n",
       "      <td>...</td>\n",
       "      <td>...</td>\n",
       "      <td>...</td>\n",
       "    </tr>\n",
       "    <tr>\n",
       "      <th>21592</th>\n",
       "      <td>1.0</td>\n",
       "      <td>0.0</td>\n",
       "      <td>0.0</td>\n",
       "      <td>0.0</td>\n",
       "      <td>0.0</td>\n",
       "    </tr>\n",
       "    <tr>\n",
       "      <th>21593</th>\n",
       "      <td>1.0</td>\n",
       "      <td>0.0</td>\n",
       "      <td>0.0</td>\n",
       "      <td>0.0</td>\n",
       "      <td>0.0</td>\n",
       "    </tr>\n",
       "    <tr>\n",
       "      <th>21594</th>\n",
       "      <td>1.0</td>\n",
       "      <td>0.0</td>\n",
       "      <td>0.0</td>\n",
       "      <td>0.0</td>\n",
       "      <td>0.0</td>\n",
       "    </tr>\n",
       "    <tr>\n",
       "      <th>21595</th>\n",
       "      <td>1.0</td>\n",
       "      <td>0.0</td>\n",
       "      <td>0.0</td>\n",
       "      <td>0.0</td>\n",
       "      <td>0.0</td>\n",
       "    </tr>\n",
       "    <tr>\n",
       "      <th>21596</th>\n",
       "      <td>1.0</td>\n",
       "      <td>0.0</td>\n",
       "      <td>0.0</td>\n",
       "      <td>0.0</td>\n",
       "      <td>0.0</td>\n",
       "    </tr>\n",
       "  </tbody>\n",
       "</table>\n",
       "<p>21597 rows × 5 columns</p>\n",
       "</div>"
      ],
      "text/plain": [
       "       Condition_Average  Condition_Fair  Condition_Good  Condition_Poor  \\\n",
       "0                    1.0             0.0             0.0             0.0   \n",
       "1                    1.0             0.0             0.0             0.0   \n",
       "2                    1.0             0.0             0.0             0.0   \n",
       "3                    0.0             0.0             0.0             0.0   \n",
       "4                    1.0             0.0             0.0             0.0   \n",
       "...                  ...             ...             ...             ...   \n",
       "21592                1.0             0.0             0.0             0.0   \n",
       "21593                1.0             0.0             0.0             0.0   \n",
       "21594                1.0             0.0             0.0             0.0   \n",
       "21595                1.0             0.0             0.0             0.0   \n",
       "21596                1.0             0.0             0.0             0.0   \n",
       "\n",
       "       Condition_Very Good  \n",
       "0                      0.0  \n",
       "1                      0.0  \n",
       "2                      0.0  \n",
       "3                      1.0  \n",
       "4                      0.0  \n",
       "...                    ...  \n",
       "21592                  0.0  \n",
       "21593                  0.0  \n",
       "21594                  0.0  \n",
       "21595                  0.0  \n",
       "21596                  0.0  \n",
       "\n",
       "[21597 rows x 5 columns]"
      ]
     },
     "execution_count": 229,
     "metadata": {},
     "output_type": "execute_result"
    }
   ],
   "source": [
    "condition_encoded_train = condition_encoded_train.rename(columns={'Average':'Condition_Average',\n",
    "                                        'Fair':'Condition_Fair',\n",
    "                                        'Good':'Condition_Good',\n",
    "                                        'Poor':'Condition_Poor',\n",
    "                                        'Very Good':'Condition_Very Good'})\n",
    "condition_encoded_train"
   ]
  },
  {
   "cell_type": "code",
   "execution_count": 230,
   "metadata": {
    "ExecuteTime": {
     "end_time": "2022-02-22T19:05:15.952722Z",
     "start_time": "2022-02-22T19:05:15.890413Z"
    }
   },
   "outputs": [
    {
     "data": {
      "text/html": [
       "<div>\n",
       "<style scoped>\n",
       "    .dataframe tbody tr th:only-of-type {\n",
       "        vertical-align: middle;\n",
       "    }\n",
       "\n",
       "    .dataframe tbody tr th {\n",
       "        vertical-align: top;\n",
       "    }\n",
       "\n",
       "    .dataframe thead th {\n",
       "        text-align: right;\n",
       "    }\n",
       "</style>\n",
       "<table border=\"1\" class=\"dataframe\">\n",
       "  <thead>\n",
       "    <tr style=\"text-align: right;\">\n",
       "      <th></th>\n",
       "      <th>waterfront</th>\n",
       "      <th>condition</th>\n",
       "      <th>grade</th>\n",
       "      <th>waterfront_missing</th>\n",
       "      <th>AVERAGE</th>\n",
       "      <th>View_Excellent</th>\n",
       "      <th>View_Fair</th>\n",
       "      <th>View_Good</th>\n",
       "      <th>No View</th>\n",
       "      <th>Condition_Average</th>\n",
       "      <th>Condition_Fair</th>\n",
       "      <th>Condition_Good</th>\n",
       "      <th>Condition_Poor</th>\n",
       "      <th>Condition_Very Good</th>\n",
       "    </tr>\n",
       "  </thead>\n",
       "  <tbody>\n",
       "    <tr>\n",
       "      <th>0</th>\n",
       "      <td>0.0</td>\n",
       "      <td>Average</td>\n",
       "      <td>7 Average</td>\n",
       "      <td>True</td>\n",
       "      <td>0.0</td>\n",
       "      <td>0.0</td>\n",
       "      <td>0.0</td>\n",
       "      <td>0.0</td>\n",
       "      <td>1.0</td>\n",
       "      <td>1.0</td>\n",
       "      <td>0.0</td>\n",
       "      <td>0.0</td>\n",
       "      <td>0.0</td>\n",
       "      <td>0.0</td>\n",
       "    </tr>\n",
       "    <tr>\n",
       "      <th>1</th>\n",
       "      <td>0.0</td>\n",
       "      <td>Average</td>\n",
       "      <td>7 Average</td>\n",
       "      <td>False</td>\n",
       "      <td>0.0</td>\n",
       "      <td>0.0</td>\n",
       "      <td>0.0</td>\n",
       "      <td>0.0</td>\n",
       "      <td>1.0</td>\n",
       "      <td>1.0</td>\n",
       "      <td>0.0</td>\n",
       "      <td>0.0</td>\n",
       "      <td>0.0</td>\n",
       "      <td>0.0</td>\n",
       "    </tr>\n",
       "    <tr>\n",
       "      <th>2</th>\n",
       "      <td>0.0</td>\n",
       "      <td>Average</td>\n",
       "      <td>6 Low Average</td>\n",
       "      <td>False</td>\n",
       "      <td>0.0</td>\n",
       "      <td>0.0</td>\n",
       "      <td>0.0</td>\n",
       "      <td>0.0</td>\n",
       "      <td>1.0</td>\n",
       "      <td>1.0</td>\n",
       "      <td>0.0</td>\n",
       "      <td>0.0</td>\n",
       "      <td>0.0</td>\n",
       "      <td>0.0</td>\n",
       "    </tr>\n",
       "    <tr>\n",
       "      <th>3</th>\n",
       "      <td>0.0</td>\n",
       "      <td>Very Good</td>\n",
       "      <td>7 Average</td>\n",
       "      <td>False</td>\n",
       "      <td>0.0</td>\n",
       "      <td>0.0</td>\n",
       "      <td>0.0</td>\n",
       "      <td>0.0</td>\n",
       "      <td>1.0</td>\n",
       "      <td>0.0</td>\n",
       "      <td>0.0</td>\n",
       "      <td>0.0</td>\n",
       "      <td>0.0</td>\n",
       "      <td>1.0</td>\n",
       "    </tr>\n",
       "    <tr>\n",
       "      <th>4</th>\n",
       "      <td>0.0</td>\n",
       "      <td>Average</td>\n",
       "      <td>8 Good</td>\n",
       "      <td>False</td>\n",
       "      <td>0.0</td>\n",
       "      <td>0.0</td>\n",
       "      <td>0.0</td>\n",
       "      <td>0.0</td>\n",
       "      <td>1.0</td>\n",
       "      <td>1.0</td>\n",
       "      <td>0.0</td>\n",
       "      <td>0.0</td>\n",
       "      <td>0.0</td>\n",
       "      <td>0.0</td>\n",
       "    </tr>\n",
       "    <tr>\n",
       "      <th>...</th>\n",
       "      <td>...</td>\n",
       "      <td>...</td>\n",
       "      <td>...</td>\n",
       "      <td>...</td>\n",
       "      <td>...</td>\n",
       "      <td>...</td>\n",
       "      <td>...</td>\n",
       "      <td>...</td>\n",
       "      <td>...</td>\n",
       "      <td>...</td>\n",
       "      <td>...</td>\n",
       "      <td>...</td>\n",
       "      <td>...</td>\n",
       "      <td>...</td>\n",
       "    </tr>\n",
       "    <tr>\n",
       "      <th>21592</th>\n",
       "      <td>0.0</td>\n",
       "      <td>Average</td>\n",
       "      <td>8 Good</td>\n",
       "      <td>False</td>\n",
       "      <td>0.0</td>\n",
       "      <td>0.0</td>\n",
       "      <td>0.0</td>\n",
       "      <td>0.0</td>\n",
       "      <td>1.0</td>\n",
       "      <td>1.0</td>\n",
       "      <td>0.0</td>\n",
       "      <td>0.0</td>\n",
       "      <td>0.0</td>\n",
       "      <td>0.0</td>\n",
       "    </tr>\n",
       "    <tr>\n",
       "      <th>21593</th>\n",
       "      <td>0.0</td>\n",
       "      <td>Average</td>\n",
       "      <td>8 Good</td>\n",
       "      <td>False</td>\n",
       "      <td>0.0</td>\n",
       "      <td>0.0</td>\n",
       "      <td>0.0</td>\n",
       "      <td>0.0</td>\n",
       "      <td>1.0</td>\n",
       "      <td>1.0</td>\n",
       "      <td>0.0</td>\n",
       "      <td>0.0</td>\n",
       "      <td>0.0</td>\n",
       "      <td>0.0</td>\n",
       "    </tr>\n",
       "    <tr>\n",
       "      <th>21594</th>\n",
       "      <td>0.0</td>\n",
       "      <td>Average</td>\n",
       "      <td>7 Average</td>\n",
       "      <td>False</td>\n",
       "      <td>0.0</td>\n",
       "      <td>0.0</td>\n",
       "      <td>0.0</td>\n",
       "      <td>0.0</td>\n",
       "      <td>1.0</td>\n",
       "      <td>1.0</td>\n",
       "      <td>0.0</td>\n",
       "      <td>0.0</td>\n",
       "      <td>0.0</td>\n",
       "      <td>0.0</td>\n",
       "    </tr>\n",
       "    <tr>\n",
       "      <th>21595</th>\n",
       "      <td>0.0</td>\n",
       "      <td>Average</td>\n",
       "      <td>8 Good</td>\n",
       "      <td>True</td>\n",
       "      <td>0.0</td>\n",
       "      <td>0.0</td>\n",
       "      <td>0.0</td>\n",
       "      <td>0.0</td>\n",
       "      <td>1.0</td>\n",
       "      <td>1.0</td>\n",
       "      <td>0.0</td>\n",
       "      <td>0.0</td>\n",
       "      <td>0.0</td>\n",
       "      <td>0.0</td>\n",
       "    </tr>\n",
       "    <tr>\n",
       "      <th>21596</th>\n",
       "      <td>0.0</td>\n",
       "      <td>Average</td>\n",
       "      <td>7 Average</td>\n",
       "      <td>False</td>\n",
       "      <td>0.0</td>\n",
       "      <td>0.0</td>\n",
       "      <td>0.0</td>\n",
       "      <td>0.0</td>\n",
       "      <td>1.0</td>\n",
       "      <td>1.0</td>\n",
       "      <td>0.0</td>\n",
       "      <td>0.0</td>\n",
       "      <td>0.0</td>\n",
       "      <td>0.0</td>\n",
       "    </tr>\n",
       "  </tbody>\n",
       "</table>\n",
       "<p>21597 rows × 14 columns</p>\n",
       "</div>"
      ],
      "text/plain": [
       "       waterfront  condition          grade  waterfront_missing  AVERAGE  \\\n",
       "0             0.0    Average      7 Average                True      0.0   \n",
       "1             0.0    Average      7 Average               False      0.0   \n",
       "2             0.0    Average  6 Low Average               False      0.0   \n",
       "3             0.0  Very Good      7 Average               False      0.0   \n",
       "4             0.0    Average         8 Good               False      0.0   \n",
       "...           ...        ...            ...                 ...      ...   \n",
       "21592         0.0    Average         8 Good               False      0.0   \n",
       "21593         0.0    Average         8 Good               False      0.0   \n",
       "21594         0.0    Average      7 Average               False      0.0   \n",
       "21595         0.0    Average         8 Good                True      0.0   \n",
       "21596         0.0    Average      7 Average               False      0.0   \n",
       "\n",
       "       View_Excellent  View_Fair  View_Good  No View  Condition_Average  \\\n",
       "0                 0.0        0.0        0.0      1.0                1.0   \n",
       "1                 0.0        0.0        0.0      1.0                1.0   \n",
       "2                 0.0        0.0        0.0      1.0                1.0   \n",
       "3                 0.0        0.0        0.0      1.0                0.0   \n",
       "4                 0.0        0.0        0.0      1.0                1.0   \n",
       "...               ...        ...        ...      ...                ...   \n",
       "21592             0.0        0.0        0.0      1.0                1.0   \n",
       "21593             0.0        0.0        0.0      1.0                1.0   \n",
       "21594             0.0        0.0        0.0      1.0                1.0   \n",
       "21595             0.0        0.0        0.0      1.0                1.0   \n",
       "21596             0.0        0.0        0.0      1.0                1.0   \n",
       "\n",
       "       Condition_Fair  Condition_Good  Condition_Poor  Condition_Very Good  \n",
       "0                 0.0             0.0             0.0                  0.0  \n",
       "1                 0.0             0.0             0.0                  0.0  \n",
       "2                 0.0             0.0             0.0                  0.0  \n",
       "3                 0.0             0.0             0.0                  1.0  \n",
       "4                 0.0             0.0             0.0                  0.0  \n",
       "...               ...             ...             ...                  ...  \n",
       "21592             0.0             0.0             0.0                  0.0  \n",
       "21593             0.0             0.0             0.0                  0.0  \n",
       "21594             0.0             0.0             0.0                  0.0  \n",
       "21595             0.0             0.0             0.0                  0.0  \n",
       "21596             0.0             0.0             0.0                  0.0  \n",
       "\n",
       "[21597 rows x 14 columns]"
      ]
     },
     "execution_count": 230,
     "metadata": {},
     "output_type": "execute_result"
    }
   ],
   "source": [
    "# (4b) Concatenate the new dataframe with current categoricals\n",
    "categoricals = pd.concat([categoricals, condition_encoded_train], axis=1)\n",
    "\n",
    "# Visually inspect categoricals\n",
    "categoricals"
   ]
  },
  {
   "cell_type": "code",
   "execution_count": 231,
   "metadata": {
    "ExecuteTime": {
     "end_time": "2022-02-22T19:05:16.001846Z",
     "start_time": "2022-02-22T19:05:15.956401Z"
    }
   },
   "outputs": [
    {
     "data": {
      "text/html": [
       "<div>\n",
       "<style scoped>\n",
       "    .dataframe tbody tr th:only-of-type {\n",
       "        vertical-align: middle;\n",
       "    }\n",
       "\n",
       "    .dataframe tbody tr th {\n",
       "        vertical-align: top;\n",
       "    }\n",
       "\n",
       "    .dataframe thead th {\n",
       "        text-align: right;\n",
       "    }\n",
       "</style>\n",
       "<table border=\"1\" class=\"dataframe\">\n",
       "  <thead>\n",
       "    <tr style=\"text-align: right;\">\n",
       "      <th></th>\n",
       "      <th>waterfront</th>\n",
       "      <th>grade</th>\n",
       "      <th>waterfront_missing</th>\n",
       "      <th>AVERAGE</th>\n",
       "      <th>View_Excellent</th>\n",
       "      <th>View_Fair</th>\n",
       "      <th>View_Good</th>\n",
       "      <th>No View</th>\n",
       "      <th>Condition_Average</th>\n",
       "      <th>Condition_Fair</th>\n",
       "      <th>Condition_Good</th>\n",
       "      <th>Condition_Poor</th>\n",
       "      <th>Condition_Very Good</th>\n",
       "    </tr>\n",
       "  </thead>\n",
       "  <tbody>\n",
       "    <tr>\n",
       "      <th>0</th>\n",
       "      <td>0.0</td>\n",
       "      <td>7 Average</td>\n",
       "      <td>True</td>\n",
       "      <td>0.0</td>\n",
       "      <td>0.0</td>\n",
       "      <td>0.0</td>\n",
       "      <td>0.0</td>\n",
       "      <td>1.0</td>\n",
       "      <td>1.0</td>\n",
       "      <td>0.0</td>\n",
       "      <td>0.0</td>\n",
       "      <td>0.0</td>\n",
       "      <td>0.0</td>\n",
       "    </tr>\n",
       "    <tr>\n",
       "      <th>1</th>\n",
       "      <td>0.0</td>\n",
       "      <td>7 Average</td>\n",
       "      <td>False</td>\n",
       "      <td>0.0</td>\n",
       "      <td>0.0</td>\n",
       "      <td>0.0</td>\n",
       "      <td>0.0</td>\n",
       "      <td>1.0</td>\n",
       "      <td>1.0</td>\n",
       "      <td>0.0</td>\n",
       "      <td>0.0</td>\n",
       "      <td>0.0</td>\n",
       "      <td>0.0</td>\n",
       "    </tr>\n",
       "    <tr>\n",
       "      <th>2</th>\n",
       "      <td>0.0</td>\n",
       "      <td>6 Low Average</td>\n",
       "      <td>False</td>\n",
       "      <td>0.0</td>\n",
       "      <td>0.0</td>\n",
       "      <td>0.0</td>\n",
       "      <td>0.0</td>\n",
       "      <td>1.0</td>\n",
       "      <td>1.0</td>\n",
       "      <td>0.0</td>\n",
       "      <td>0.0</td>\n",
       "      <td>0.0</td>\n",
       "      <td>0.0</td>\n",
       "    </tr>\n",
       "    <tr>\n",
       "      <th>3</th>\n",
       "      <td>0.0</td>\n",
       "      <td>7 Average</td>\n",
       "      <td>False</td>\n",
       "      <td>0.0</td>\n",
       "      <td>0.0</td>\n",
       "      <td>0.0</td>\n",
       "      <td>0.0</td>\n",
       "      <td>1.0</td>\n",
       "      <td>0.0</td>\n",
       "      <td>0.0</td>\n",
       "      <td>0.0</td>\n",
       "      <td>0.0</td>\n",
       "      <td>1.0</td>\n",
       "    </tr>\n",
       "    <tr>\n",
       "      <th>4</th>\n",
       "      <td>0.0</td>\n",
       "      <td>8 Good</td>\n",
       "      <td>False</td>\n",
       "      <td>0.0</td>\n",
       "      <td>0.0</td>\n",
       "      <td>0.0</td>\n",
       "      <td>0.0</td>\n",
       "      <td>1.0</td>\n",
       "      <td>1.0</td>\n",
       "      <td>0.0</td>\n",
       "      <td>0.0</td>\n",
       "      <td>0.0</td>\n",
       "      <td>0.0</td>\n",
       "    </tr>\n",
       "    <tr>\n",
       "      <th>...</th>\n",
       "      <td>...</td>\n",
       "      <td>...</td>\n",
       "      <td>...</td>\n",
       "      <td>...</td>\n",
       "      <td>...</td>\n",
       "      <td>...</td>\n",
       "      <td>...</td>\n",
       "      <td>...</td>\n",
       "      <td>...</td>\n",
       "      <td>...</td>\n",
       "      <td>...</td>\n",
       "      <td>...</td>\n",
       "      <td>...</td>\n",
       "    </tr>\n",
       "    <tr>\n",
       "      <th>21592</th>\n",
       "      <td>0.0</td>\n",
       "      <td>8 Good</td>\n",
       "      <td>False</td>\n",
       "      <td>0.0</td>\n",
       "      <td>0.0</td>\n",
       "      <td>0.0</td>\n",
       "      <td>0.0</td>\n",
       "      <td>1.0</td>\n",
       "      <td>1.0</td>\n",
       "      <td>0.0</td>\n",
       "      <td>0.0</td>\n",
       "      <td>0.0</td>\n",
       "      <td>0.0</td>\n",
       "    </tr>\n",
       "    <tr>\n",
       "      <th>21593</th>\n",
       "      <td>0.0</td>\n",
       "      <td>8 Good</td>\n",
       "      <td>False</td>\n",
       "      <td>0.0</td>\n",
       "      <td>0.0</td>\n",
       "      <td>0.0</td>\n",
       "      <td>0.0</td>\n",
       "      <td>1.0</td>\n",
       "      <td>1.0</td>\n",
       "      <td>0.0</td>\n",
       "      <td>0.0</td>\n",
       "      <td>0.0</td>\n",
       "      <td>0.0</td>\n",
       "    </tr>\n",
       "    <tr>\n",
       "      <th>21594</th>\n",
       "      <td>0.0</td>\n",
       "      <td>7 Average</td>\n",
       "      <td>False</td>\n",
       "      <td>0.0</td>\n",
       "      <td>0.0</td>\n",
       "      <td>0.0</td>\n",
       "      <td>0.0</td>\n",
       "      <td>1.0</td>\n",
       "      <td>1.0</td>\n",
       "      <td>0.0</td>\n",
       "      <td>0.0</td>\n",
       "      <td>0.0</td>\n",
       "      <td>0.0</td>\n",
       "    </tr>\n",
       "    <tr>\n",
       "      <th>21595</th>\n",
       "      <td>0.0</td>\n",
       "      <td>8 Good</td>\n",
       "      <td>True</td>\n",
       "      <td>0.0</td>\n",
       "      <td>0.0</td>\n",
       "      <td>0.0</td>\n",
       "      <td>0.0</td>\n",
       "      <td>1.0</td>\n",
       "      <td>1.0</td>\n",
       "      <td>0.0</td>\n",
       "      <td>0.0</td>\n",
       "      <td>0.0</td>\n",
       "      <td>0.0</td>\n",
       "    </tr>\n",
       "    <tr>\n",
       "      <th>21596</th>\n",
       "      <td>0.0</td>\n",
       "      <td>7 Average</td>\n",
       "      <td>False</td>\n",
       "      <td>0.0</td>\n",
       "      <td>0.0</td>\n",
       "      <td>0.0</td>\n",
       "      <td>0.0</td>\n",
       "      <td>1.0</td>\n",
       "      <td>1.0</td>\n",
       "      <td>0.0</td>\n",
       "      <td>0.0</td>\n",
       "      <td>0.0</td>\n",
       "      <td>0.0</td>\n",
       "    </tr>\n",
       "  </tbody>\n",
       "</table>\n",
       "<p>21597 rows × 13 columns</p>\n",
       "</div>"
      ],
      "text/plain": [
       "       waterfront          grade  waterfront_missing  AVERAGE  View_Excellent  \\\n",
       "0             0.0      7 Average                True      0.0             0.0   \n",
       "1             0.0      7 Average               False      0.0             0.0   \n",
       "2             0.0  6 Low Average               False      0.0             0.0   \n",
       "3             0.0      7 Average               False      0.0             0.0   \n",
       "4             0.0         8 Good               False      0.0             0.0   \n",
       "...           ...            ...                 ...      ...             ...   \n",
       "21592         0.0         8 Good               False      0.0             0.0   \n",
       "21593         0.0         8 Good               False      0.0             0.0   \n",
       "21594         0.0      7 Average               False      0.0             0.0   \n",
       "21595         0.0         8 Good                True      0.0             0.0   \n",
       "21596         0.0      7 Average               False      0.0             0.0   \n",
       "\n",
       "       View_Fair  View_Good  No View  Condition_Average  Condition_Fair  \\\n",
       "0            0.0        0.0      1.0                1.0             0.0   \n",
       "1            0.0        0.0      1.0                1.0             0.0   \n",
       "2            0.0        0.0      1.0                1.0             0.0   \n",
       "3            0.0        0.0      1.0                0.0             0.0   \n",
       "4            0.0        0.0      1.0                1.0             0.0   \n",
       "...          ...        ...      ...                ...             ...   \n",
       "21592        0.0        0.0      1.0                1.0             0.0   \n",
       "21593        0.0        0.0      1.0                1.0             0.0   \n",
       "21594        0.0        0.0      1.0                1.0             0.0   \n",
       "21595        0.0        0.0      1.0                1.0             0.0   \n",
       "21596        0.0        0.0      1.0                1.0             0.0   \n",
       "\n",
       "       Condition_Good  Condition_Poor  Condition_Very Good  \n",
       "0                 0.0             0.0                  0.0  \n",
       "1                 0.0             0.0                  0.0  \n",
       "2                 0.0             0.0                  0.0  \n",
       "3                 0.0             0.0                  1.0  \n",
       "4                 0.0             0.0                  0.0  \n",
       "...               ...             ...                  ...  \n",
       "21592             0.0             0.0                  0.0  \n",
       "21593             0.0             0.0                  0.0  \n",
       "21594             0.0             0.0                  0.0  \n",
       "21595             0.0             0.0                  0.0  \n",
       "21596             0.0             0.0                  0.0  \n",
       "\n",
       "[21597 rows x 13 columns]"
      ]
     },
     "execution_count": 231,
     "metadata": {},
     "output_type": "execute_result"
    }
   ],
   "source": [
    "# (4c) Drop original condition column\n",
    "categoricals.drop(\"condition\", axis=1, inplace=True)\n",
    "\n",
    "# Visually inspect X_train\n",
    "categoricals"
   ]
  },
  {
   "cell_type": "code",
   "execution_count": 232,
   "metadata": {
    "ExecuteTime": {
     "end_time": "2022-02-22T19:05:16.016290Z",
     "start_time": "2022-02-22T19:05:16.011625Z"
    }
   },
   "outputs": [],
   "source": [
    "# This is where I left off 2/21 - need to do ohe for grade\n",
    "# need to remove 1 column for each ohe variable due to \n",
    "# multicollinearity\n",
    "# next add these to baseline model\n",
    "# move into train, test, split for model to check how well\n",
    "# it performs.\n",
    "\n",
    "# not too many other categories to add, but could do some\n",
    "# engineering/modification of numerical columns to adjust\n",
    "# for outliers\n",
    "\n",
    "# then establish recommendations for renovations."
   ]
  },
  {
   "cell_type": "markdown",
   "metadata": {},
   "source": [
    "### ohe grade"
   ]
  },
  {
   "cell_type": "code",
   "execution_count": 233,
   "metadata": {
    "ExecuteTime": {
     "end_time": "2022-02-22T19:05:16.049345Z",
     "start_time": "2022-02-22T19:05:16.034759Z"
    }
   },
   "outputs": [
    {
     "data": {
      "text/plain": [
       "7 Average        8974\n",
       "8 Good           6065\n",
       "9 Better         2615\n",
       "6 Low Average    2038\n",
       "10 Very Good     1134\n",
       "11 Excellent      399\n",
       "5 Fair            242\n",
       "12 Luxury          89\n",
       "4 Low              27\n",
       "13 Mansion         13\n",
       "3 Poor              1\n",
       "Name: grade, dtype: int64"
      ]
     },
     "execution_count": 233,
     "metadata": {},
     "output_type": "execute_result"
    }
   ],
   "source": [
    "categoricals['grade'].value_counts(dropna=False)"
   ]
  },
  {
   "cell_type": "markdown",
   "metadata": {},
   "source": [
    "### Try ohe an easier way."
   ]
  },
  {
   "cell_type": "markdown",
   "metadata": {},
   "source": [
    "## ohe Simplified\n",
    "* For waterfront, view, condition, and grade."
   ]
  },
  {
   "cell_type": "code",
   "execution_count": 234,
   "metadata": {
    "ExecuteTime": {
     "end_time": "2022-02-22T19:05:16.071243Z",
     "start_time": "2022-02-22T19:05:16.054136Z"
    }
   },
   "outputs": [
    {
     "data": {
      "text/plain": [
       "waterfront            0\n",
       "view                  0\n",
       "condition             0\n",
       "grade                 0\n",
       "waterfront_missing    0\n",
       "dtype: int64"
      ]
     },
     "execution_count": 234,
     "metadata": {},
     "output_type": "execute_result"
    }
   ],
   "source": [
    "# use preprocessed categoricals data frame\n",
    "cats = preprocessed\n",
    "\n",
    "cats.isnull().sum()"
   ]
  },
  {
   "cell_type": "code",
   "execution_count": 235,
   "metadata": {
    "ExecuteTime": {
     "end_time": "2022-02-22T19:05:16.111782Z",
     "start_time": "2022-02-22T19:05:16.074232Z"
    }
   },
   "outputs": [],
   "source": [
    "water_dummies = pd.get_dummies(cats['waterfront'], prefix='water', drop_first=True)\n",
    "view_dummies = pd.get_dummies(cats['view'], prefix='view', drop_first=True)\n",
    "condition_dummies = pd.get_dummies(cats['condition'], prefix='condition', drop_first=True)\n",
    "grade_dummies = pd.get_dummies(cats['grade'], prefix='grade', drop_first=True)"
   ]
  },
  {
   "cell_type": "code",
   "execution_count": 236,
   "metadata": {
    "ExecuteTime": {
     "end_time": "2022-02-22T19:05:16.126817Z",
     "start_time": "2022-02-22T19:05:16.118605Z"
    }
   },
   "outputs": [],
   "source": [
    "cats = cats.drop(['waterfront','view','condition','grade'], axis=1)"
   ]
  },
  {
   "cell_type": "code",
   "execution_count": 237,
   "metadata": {
    "ExecuteTime": {
     "end_time": "2022-02-22T19:05:16.167363Z",
     "start_time": "2022-02-22T19:05:16.131940Z"
    }
   },
   "outputs": [
    {
     "data": {
      "text/html": [
       "<div>\n",
       "<style scoped>\n",
       "    .dataframe tbody tr th:only-of-type {\n",
       "        vertical-align: middle;\n",
       "    }\n",
       "\n",
       "    .dataframe tbody tr th {\n",
       "        vertical-align: top;\n",
       "    }\n",
       "\n",
       "    .dataframe thead th {\n",
       "        text-align: right;\n",
       "    }\n",
       "</style>\n",
       "<table border=\"1\" class=\"dataframe\">\n",
       "  <thead>\n",
       "    <tr style=\"text-align: right;\">\n",
       "      <th></th>\n",
       "      <th>sqft_living_log</th>\n",
       "      <th>bathrooms_log</th>\n",
       "      <th>bedrooms_log</th>\n",
       "      <th>price_log</th>\n",
       "      <th>water_1.0</th>\n",
       "      <th>view_EXCELLENT</th>\n",
       "      <th>view_FAIR</th>\n",
       "      <th>view_GOOD</th>\n",
       "      <th>view_NONE</th>\n",
       "      <th>condition_Fair</th>\n",
       "      <th>...</th>\n",
       "      <th>grade_11 Excellent</th>\n",
       "      <th>grade_12 Luxury</th>\n",
       "      <th>grade_13 Mansion</th>\n",
       "      <th>grade_3 Poor</th>\n",
       "      <th>grade_4 Low</th>\n",
       "      <th>grade_5 Fair</th>\n",
       "      <th>grade_6 Low Average</th>\n",
       "      <th>grade_7 Average</th>\n",
       "      <th>grade_8 Good</th>\n",
       "      <th>grade_9 Better</th>\n",
       "    </tr>\n",
       "  </thead>\n",
       "  <tbody>\n",
       "    <tr>\n",
       "      <th>0</th>\n",
       "      <td>-1.125556</td>\n",
       "      <td>-1.726509</td>\n",
       "      <td>-0.279718</td>\n",
       "      <td>-1.401998</td>\n",
       "      <td>0</td>\n",
       "      <td>0</td>\n",
       "      <td>0</td>\n",
       "      <td>0</td>\n",
       "      <td>1</td>\n",
       "      <td>0</td>\n",
       "      <td>...</td>\n",
       "      <td>0</td>\n",
       "      <td>0</td>\n",
       "      <td>0</td>\n",
       "      <td>0</td>\n",
       "      <td>0</td>\n",
       "      <td>0</td>\n",
       "      <td>0</td>\n",
       "      <td>1</td>\n",
       "      <td>0</td>\n",
       "      <td>0</td>\n",
       "    </tr>\n",
       "    <tr>\n",
       "      <th>1</th>\n",
       "      <td>0.709446</td>\n",
       "      <td>0.339653</td>\n",
       "      <td>-0.279718</td>\n",
       "      <td>0.279938</td>\n",
       "      <td>0</td>\n",
       "      <td>0</td>\n",
       "      <td>0</td>\n",
       "      <td>0</td>\n",
       "      <td>1</td>\n",
       "      <td>0</td>\n",
       "      <td>...</td>\n",
       "      <td>0</td>\n",
       "      <td>0</td>\n",
       "      <td>0</td>\n",
       "      <td>0</td>\n",
       "      <td>0</td>\n",
       "      <td>0</td>\n",
       "      <td>0</td>\n",
       "      <td>1</td>\n",
       "      <td>0</td>\n",
       "      <td>0</td>\n",
       "    </tr>\n",
       "    <tr>\n",
       "      <th>2</th>\n",
       "      <td>-2.131893</td>\n",
       "      <td>-1.726509</td>\n",
       "      <td>-1.711611</td>\n",
       "      <td>-1.799430</td>\n",
       "      <td>0</td>\n",
       "      <td>0</td>\n",
       "      <td>0</td>\n",
       "      <td>0</td>\n",
       "      <td>1</td>\n",
       "      <td>0</td>\n",
       "      <td>...</td>\n",
       "      <td>0</td>\n",
       "      <td>0</td>\n",
       "      <td>0</td>\n",
       "      <td>0</td>\n",
       "      <td>0</td>\n",
       "      <td>0</td>\n",
       "      <td>1</td>\n",
       "      <td>0</td>\n",
       "      <td>0</td>\n",
       "      <td>0</td>\n",
       "    </tr>\n",
       "    <tr>\n",
       "      <th>3</th>\n",
       "      <td>0.070674</td>\n",
       "      <td>1.072635</td>\n",
       "      <td>0.736226</td>\n",
       "      <td>0.499698</td>\n",
       "      <td>0</td>\n",
       "      <td>0</td>\n",
       "      <td>0</td>\n",
       "      <td>0</td>\n",
       "      <td>1</td>\n",
       "      <td>0</td>\n",
       "      <td>...</td>\n",
       "      <td>0</td>\n",
       "      <td>0</td>\n",
       "      <td>0</td>\n",
       "      <td>0</td>\n",
       "      <td>0</td>\n",
       "      <td>0</td>\n",
       "      <td>0</td>\n",
       "      <td>1</td>\n",
       "      <td>0</td>\n",
       "      <td>0</td>\n",
       "    </tr>\n",
       "    <tr>\n",
       "      <th>4</th>\n",
       "      <td>-0.292725</td>\n",
       "      <td>0.039555</td>\n",
       "      <td>-0.279718</td>\n",
       "      <td>0.178434</td>\n",
       "      <td>0</td>\n",
       "      <td>0</td>\n",
       "      <td>0</td>\n",
       "      <td>0</td>\n",
       "      <td>1</td>\n",
       "      <td>0</td>\n",
       "      <td>...</td>\n",
       "      <td>0</td>\n",
       "      <td>0</td>\n",
       "      <td>0</td>\n",
       "      <td>0</td>\n",
       "      <td>0</td>\n",
       "      <td>0</td>\n",
       "      <td>0</td>\n",
       "      <td>0</td>\n",
       "      <td>1</td>\n",
       "      <td>0</td>\n",
       "    </tr>\n",
       "  </tbody>\n",
       "</table>\n",
       "<p>5 rows × 23 columns</p>\n",
       "</div>"
      ],
      "text/plain": [
       "   sqft_living_log  bathrooms_log  bedrooms_log  price_log  water_1.0  \\\n",
       "0        -1.125556      -1.726509     -0.279718  -1.401998          0   \n",
       "1         0.709446       0.339653     -0.279718   0.279938          0   \n",
       "2        -2.131893      -1.726509     -1.711611  -1.799430          0   \n",
       "3         0.070674       1.072635      0.736226   0.499698          0   \n",
       "4        -0.292725       0.039555     -0.279718   0.178434          0   \n",
       "\n",
       "   view_EXCELLENT  view_FAIR  view_GOOD  view_NONE  condition_Fair  ...  \\\n",
       "0               0          0          0          1               0  ...   \n",
       "1               0          0          0          1               0  ...   \n",
       "2               0          0          0          1               0  ...   \n",
       "3               0          0          0          1               0  ...   \n",
       "4               0          0          0          1               0  ...   \n",
       "\n",
       "   grade_11 Excellent  grade_12 Luxury  grade_13 Mansion  grade_3 Poor  \\\n",
       "0                   0                0                 0             0   \n",
       "1                   0                0                 0             0   \n",
       "2                   0                0                 0             0   \n",
       "3                   0                0                 0             0   \n",
       "4                   0                0                 0             0   \n",
       "\n",
       "   grade_4 Low  grade_5 Fair  grade_6 Low Average  grade_7 Average  \\\n",
       "0            0             0                    0                1   \n",
       "1            0             0                    0                1   \n",
       "2            0             0                    1                0   \n",
       "3            0             0                    0                1   \n",
       "4            0             0                    0                0   \n",
       "\n",
       "   grade_8 Good  grade_9 Better  \n",
       "0             0               0  \n",
       "1             0               0  \n",
       "2             0               0  \n",
       "3             0               0  \n",
       "4             1               0  \n",
       "\n",
       "[5 rows x 23 columns]"
      ]
     },
     "execution_count": 237,
     "metadata": {},
     "output_type": "execute_result"
    }
   ],
   "source": [
    "cats_added = pd.concat([features_final, \n",
    "                  water_dummies, \n",
    "                  view_dummies, \n",
    "                  condition_dummies,\n",
    "                  grade_dummies], axis=1)\n",
    "cats_added.head()"
   ]
  },
  {
   "cell_type": "code",
   "execution_count": 238,
   "metadata": {
    "ExecuteTime": {
     "end_time": "2022-02-22T19:05:16.195789Z",
     "start_time": "2022-02-22T19:05:16.170882Z"
    }
   },
   "outputs": [
    {
     "name": "stdout",
     "output_type": "stream",
     "text": [
      "<class 'pandas.core.frame.DataFrame'>\n",
      "RangeIndex: 21597 entries, 0 to 21596\n",
      "Data columns (total 23 columns):\n",
      " #   Column               Non-Null Count  Dtype  \n",
      "---  ------               --------------  -----  \n",
      " 0   sqft_living_log      21597 non-null  float64\n",
      " 1   bathrooms_log        21597 non-null  float64\n",
      " 2   bedrooms_log         21597 non-null  float64\n",
      " 3   price_log            21597 non-null  float64\n",
      " 4   water_1.0            21597 non-null  uint8  \n",
      " 5   view_EXCELLENT       21597 non-null  uint8  \n",
      " 6   view_FAIR            21597 non-null  uint8  \n",
      " 7   view_GOOD            21597 non-null  uint8  \n",
      " 8   view_NONE            21597 non-null  uint8  \n",
      " 9   condition_Fair       21597 non-null  uint8  \n",
      " 10  condition_Good       21597 non-null  uint8  \n",
      " 11  condition_Poor       21597 non-null  uint8  \n",
      " 12  condition_Very Good  21597 non-null  uint8  \n",
      " 13  grade_11 Excellent   21597 non-null  uint8  \n",
      " 14  grade_12 Luxury      21597 non-null  uint8  \n",
      " 15  grade_13 Mansion     21597 non-null  uint8  \n",
      " 16  grade_3 Poor         21597 non-null  uint8  \n",
      " 17  grade_4 Low          21597 non-null  uint8  \n",
      " 18  grade_5 Fair         21597 non-null  uint8  \n",
      " 19  grade_6 Low Average  21597 non-null  uint8  \n",
      " 20  grade_7 Average      21597 non-null  uint8  \n",
      " 21  grade_8 Good         21597 non-null  uint8  \n",
      " 22  grade_9 Better       21597 non-null  uint8  \n",
      "dtypes: float64(4), uint8(19)\n",
      "memory usage: 1.1 MB\n"
     ]
    }
   ],
   "source": [
    "cats_added.info()"
   ]
  },
  {
   "cell_type": "markdown",
   "metadata": {},
   "source": [
    "# Second Model - Add Preprocessed Categoricals"
   ]
  },
  {
   "cell_type": "code",
   "execution_count": 239,
   "metadata": {
    "ExecuteTime": {
     "end_time": "2022-02-22T19:05:16.390236Z",
     "start_time": "2022-02-22T19:05:16.199014Z"
    }
   },
   "outputs": [
    {
     "data": {
      "text/html": [
       "<table class=\"simpletable\">\n",
       "<caption>OLS Regression Results</caption>\n",
       "<tr>\n",
       "  <th>Dep. Variable:</th>        <td>price_log</td>    <th>  R-squared:         </th> <td>   0.593</td> \n",
       "</tr>\n",
       "<tr>\n",
       "  <th>Model:</th>                   <td>OLS</td>       <th>  Adj. R-squared:    </th> <td>   0.592</td> \n",
       "</tr>\n",
       "<tr>\n",
       "  <th>Method:</th>             <td>Least Squares</td>  <th>  F-statistic:       </th> <td>   1428.</td> \n",
       "</tr>\n",
       "<tr>\n",
       "  <th>Date:</th>             <td>Tue, 22 Feb 2022</td> <th>  Prob (F-statistic):</th>  <td>  0.00</td>  \n",
       "</tr>\n",
       "<tr>\n",
       "  <th>Time:</th>                 <td>12:05:16</td>     <th>  Log-Likelihood:    </th> <td> -20940.</td> \n",
       "</tr>\n",
       "<tr>\n",
       "  <th>No. Observations:</th>      <td> 21597</td>      <th>  AIC:               </th> <td>4.193e+04</td>\n",
       "</tr>\n",
       "<tr>\n",
       "  <th>Df Residuals:</th>          <td> 21574</td>      <th>  BIC:               </th> <td>4.211e+04</td>\n",
       "</tr>\n",
       "<tr>\n",
       "  <th>Df Model:</th>              <td>    22</td>      <th>                     </th>     <td> </td>    \n",
       "</tr>\n",
       "<tr>\n",
       "  <th>Covariance Type:</th>      <td>nonrobust</td>    <th>                     </th>     <td> </td>    \n",
       "</tr>\n",
       "</table>\n",
       "<table class=\"simpletable\">\n",
       "<tr>\n",
       "           <td></td>              <th>coef</th>     <th>std err</th>      <th>t</th>      <th>P>|t|</th>  <th>[0.025</th>    <th>0.975]</th>  \n",
       "</tr>\n",
       "<tr>\n",
       "  <th>const</th>               <td>    1.1265</td> <td>    0.029</td> <td>   38.395</td> <td> 0.000</td> <td>    1.069</td> <td>    1.184</td>\n",
       "</tr>\n",
       "<tr>\n",
       "  <th>sqft_living_log</th>     <td>    0.3743</td> <td>    0.009</td> <td>   41.457</td> <td> 0.000</td> <td>    0.357</td> <td>    0.392</td>\n",
       "</tr>\n",
       "<tr>\n",
       "  <th>bathrooms_log</th>       <td>   -0.0248</td> <td>    0.007</td> <td>   -3.487</td> <td> 0.000</td> <td>   -0.039</td> <td>   -0.011</td>\n",
       "</tr>\n",
       "<tr>\n",
       "  <th>bedrooms_log</th>        <td>   -0.0633</td> <td>    0.006</td> <td>  -10.621</td> <td> 0.000</td> <td>   -0.075</td> <td>   -0.052</td>\n",
       "</tr>\n",
       "<tr>\n",
       "  <th>water_1.0</th>           <td>    0.6641</td> <td>    0.065</td> <td>   10.268</td> <td> 0.000</td> <td>    0.537</td> <td>    0.791</td>\n",
       "</tr>\n",
       "<tr>\n",
       "  <th>view_EXCELLENT</th>      <td>    0.3396</td> <td>    0.048</td> <td>    7.021</td> <td> 0.000</td> <td>    0.245</td> <td>    0.434</td>\n",
       "</tr>\n",
       "<tr>\n",
       "  <th>view_FAIR</th>           <td>    0.1434</td> <td>    0.041</td> <td>    3.516</td> <td> 0.000</td> <td>    0.063</td> <td>    0.223</td>\n",
       "</tr>\n",
       "<tr>\n",
       "  <th>view_GOOD</th>           <td>    0.0916</td> <td>    0.035</td> <td>    2.607</td> <td> 0.009</td> <td>    0.023</td> <td>    0.160</td>\n",
       "</tr>\n",
       "<tr>\n",
       "  <th>view_NONE</th>           <td>   -0.3136</td> <td>    0.021</td> <td>  -14.618</td> <td> 0.000</td> <td>   -0.356</td> <td>   -0.272</td>\n",
       "</tr>\n",
       "<tr>\n",
       "  <th>condition_Fair</th>      <td>   -0.2067</td> <td>    0.050</td> <td>   -4.156</td> <td> 0.000</td> <td>   -0.304</td> <td>   -0.109</td>\n",
       "</tr>\n",
       "<tr>\n",
       "  <th>condition_Good</th>      <td>    0.1387</td> <td>    0.010</td> <td>   13.405</td> <td> 0.000</td> <td>    0.118</td> <td>    0.159</td>\n",
       "</tr>\n",
       "<tr>\n",
       "  <th>condition_Poor</th>      <td>   -0.0726</td> <td>    0.120</td> <td>   -0.607</td> <td> 0.544</td> <td>   -0.307</td> <td>    0.162</td>\n",
       "</tr>\n",
       "<tr>\n",
       "  <th>condition_Very Good</th> <td>    0.4080</td> <td>    0.017</td> <td>   24.539</td> <td> 0.000</td> <td>    0.375</td> <td>    0.441</td>\n",
       "</tr>\n",
       "<tr>\n",
       "  <th>grade_11 Excellent</th>  <td>    0.3832</td> <td>    0.037</td> <td>   10.248</td> <td> 0.000</td> <td>    0.310</td> <td>    0.456</td>\n",
       "</tr>\n",
       "<tr>\n",
       "  <th>grade_12 Luxury</th>     <td>    0.8017</td> <td>    0.071</td> <td>   11.299</td> <td> 0.000</td> <td>    0.663</td> <td>    0.941</td>\n",
       "</tr>\n",
       "<tr>\n",
       "  <th>grade_13 Mansion</th>    <td>    1.6063</td> <td>    0.179</td> <td>    8.987</td> <td> 0.000</td> <td>    1.256</td> <td>    1.957</td>\n",
       "</tr>\n",
       "<tr>\n",
       "  <th>grade_3 Poor</th>        <td>   -1.4873</td> <td>    0.640</td> <td>   -2.325</td> <td> 0.020</td> <td>   -2.741</td> <td>   -0.234</td>\n",
       "</tr>\n",
       "<tr>\n",
       "  <th>grade_4 Low</th>         <td>   -1.8405</td> <td>    0.127</td> <td>  -14.451</td> <td> 0.000</td> <td>   -2.090</td> <td>   -1.591</td>\n",
       "</tr>\n",
       "<tr>\n",
       "  <th>grade_5 Fair</th>        <td>   -1.8029</td> <td>    0.050</td> <td>  -35.809</td> <td> 0.000</td> <td>   -1.902</td> <td>   -1.704</td>\n",
       "</tr>\n",
       "<tr>\n",
       "  <th>grade_6 Low Average</th> <td>   -1.5096</td> <td>    0.030</td> <td>  -49.974</td> <td> 0.000</td> <td>   -1.569</td> <td>   -1.450</td>\n",
       "</tr>\n",
       "<tr>\n",
       "  <th>grade_7 Average</th>     <td>   -1.1863</td> <td>    0.024</td> <td>  -49.453</td> <td> 0.000</td> <td>   -1.233</td> <td>   -1.139</td>\n",
       "</tr>\n",
       "<tr>\n",
       "  <th>grade_8 Good</th>        <td>   -0.8201</td> <td>    0.022</td> <td>  -36.777</td> <td> 0.000</td> <td>   -0.864</td> <td>   -0.776</td>\n",
       "</tr>\n",
       "<tr>\n",
       "  <th>grade_9 Better</th>      <td>   -0.3903</td> <td>    0.023</td> <td>  -16.964</td> <td> 0.000</td> <td>   -0.435</td> <td>   -0.345</td>\n",
       "</tr>\n",
       "</table>\n",
       "<table class=\"simpletable\">\n",
       "<tr>\n",
       "  <th>Omnibus:</th>       <td>21.045</td> <th>  Durbin-Watson:     </th> <td>   1.973</td>\n",
       "</tr>\n",
       "<tr>\n",
       "  <th>Prob(Omnibus):</th> <td> 0.000</td> <th>  Jarque-Bera (JB):  </th> <td>  20.154</td>\n",
       "</tr>\n",
       "<tr>\n",
       "  <th>Skew:</th>          <td> 0.055</td> <th>  Prob(JB):          </th> <td>4.20e-05</td>\n",
       "</tr>\n",
       "<tr>\n",
       "  <th>Kurtosis:</th>      <td> 2.898</td> <th>  Cond. No.          </th> <td>    229.</td>\n",
       "</tr>\n",
       "</table><br/><br/>Notes:<br/>[1] Standard Errors assume that the covariance matrix of the errors is correctly specified."
      ],
      "text/plain": [
       "<class 'statsmodels.iolib.summary.Summary'>\n",
       "\"\"\"\n",
       "                            OLS Regression Results                            \n",
       "==============================================================================\n",
       "Dep. Variable:              price_log   R-squared:                       0.593\n",
       "Model:                            OLS   Adj. R-squared:                  0.592\n",
       "Method:                 Least Squares   F-statistic:                     1428.\n",
       "Date:                Tue, 22 Feb 2022   Prob (F-statistic):               0.00\n",
       "Time:                        12:05:16   Log-Likelihood:                -20940.\n",
       "No. Observations:               21597   AIC:                         4.193e+04\n",
       "Df Residuals:                   21574   BIC:                         4.211e+04\n",
       "Df Model:                          22                                         \n",
       "Covariance Type:            nonrobust                                         \n",
       "=======================================================================================\n",
       "                          coef    std err          t      P>|t|      [0.025      0.975]\n",
       "---------------------------------------------------------------------------------------\n",
       "const                   1.1265      0.029     38.395      0.000       1.069       1.184\n",
       "sqft_living_log         0.3743      0.009     41.457      0.000       0.357       0.392\n",
       "bathrooms_log          -0.0248      0.007     -3.487      0.000      -0.039      -0.011\n",
       "bedrooms_log           -0.0633      0.006    -10.621      0.000      -0.075      -0.052\n",
       "water_1.0               0.6641      0.065     10.268      0.000       0.537       0.791\n",
       "view_EXCELLENT          0.3396      0.048      7.021      0.000       0.245       0.434\n",
       "view_FAIR               0.1434      0.041      3.516      0.000       0.063       0.223\n",
       "view_GOOD               0.0916      0.035      2.607      0.009       0.023       0.160\n",
       "view_NONE              -0.3136      0.021    -14.618      0.000      -0.356      -0.272\n",
       "condition_Fair         -0.2067      0.050     -4.156      0.000      -0.304      -0.109\n",
       "condition_Good          0.1387      0.010     13.405      0.000       0.118       0.159\n",
       "condition_Poor         -0.0726      0.120     -0.607      0.544      -0.307       0.162\n",
       "condition_Very Good     0.4080      0.017     24.539      0.000       0.375       0.441\n",
       "grade_11 Excellent      0.3832      0.037     10.248      0.000       0.310       0.456\n",
       "grade_12 Luxury         0.8017      0.071     11.299      0.000       0.663       0.941\n",
       "grade_13 Mansion        1.6063      0.179      8.987      0.000       1.256       1.957\n",
       "grade_3 Poor           -1.4873      0.640     -2.325      0.020      -2.741      -0.234\n",
       "grade_4 Low            -1.8405      0.127    -14.451      0.000      -2.090      -1.591\n",
       "grade_5 Fair           -1.8029      0.050    -35.809      0.000      -1.902      -1.704\n",
       "grade_6 Low Average    -1.5096      0.030    -49.974      0.000      -1.569      -1.450\n",
       "grade_7 Average        -1.1863      0.024    -49.453      0.000      -1.233      -1.139\n",
       "grade_8 Good           -0.8201      0.022    -36.777      0.000      -0.864      -0.776\n",
       "grade_9 Better         -0.3903      0.023    -16.964      0.000      -0.435      -0.345\n",
       "==============================================================================\n",
       "Omnibus:                       21.045   Durbin-Watson:                   1.973\n",
       "Prob(Omnibus):                  0.000   Jarque-Bera (JB):               20.154\n",
       "Skew:                           0.055   Prob(JB):                     4.20e-05\n",
       "Kurtosis:                       2.898   Cond. No.                         229.\n",
       "==============================================================================\n",
       "\n",
       "Notes:\n",
       "[1] Standard Errors assume that the covariance matrix of the errors is correctly specified.\n",
       "\"\"\""
      ]
     },
     "execution_count": 239,
     "metadata": {},
     "output_type": "execute_result"
    }
   ],
   "source": [
    "# Model Summary\n",
    "X = cats_added.drop(['price_log'], axis=1)\n",
    "y = cats_added['price_log']\n",
    "\n",
    "X_int = sm.add_constant(X)\n",
    "model = sm.OLS(y,X_int).fit()\n",
    "model.summary()"
   ]
  },
  {
   "cell_type": "markdown",
   "metadata": {},
   "source": [
    "## Results of adding Categoricals\n",
    "* Improved R-squared with only slightly lower Adjusted R-squared.\n",
    "* Need to drop condition_poor due to high p-value.  This is probably a result of only having one data point for condition_poor.\n",
    "* Can drop grade_3 Poor due to p-value over 1% to check if it improves the model's accuracy."
   ]
  },
  {
   "cell_type": "code",
   "execution_count": 240,
   "metadata": {
    "ExecuteTime": {
     "end_time": "2022-02-22T19:05:16.518612Z",
     "start_time": "2022-02-22T19:05:16.392905Z"
    }
   },
   "outputs": [
    {
     "data": {
      "text/html": [
       "<table class=\"simpletable\">\n",
       "<caption>OLS Regression Results</caption>\n",
       "<tr>\n",
       "  <th>Dep. Variable:</th>        <td>price_log</td>    <th>  R-squared:         </th> <td>   0.593</td> \n",
       "</tr>\n",
       "<tr>\n",
       "  <th>Model:</th>                   <td>OLS</td>       <th>  Adj. R-squared:    </th> <td>   0.592</td> \n",
       "</tr>\n",
       "<tr>\n",
       "  <th>Method:</th>             <td>Least Squares</td>  <th>  F-statistic:       </th> <td>   1570.</td> \n",
       "</tr>\n",
       "<tr>\n",
       "  <th>Date:</th>             <td>Tue, 22 Feb 2022</td> <th>  Prob (F-statistic):</th>  <td>  0.00</td>  \n",
       "</tr>\n",
       "<tr>\n",
       "  <th>Time:</th>                 <td>12:05:16</td>     <th>  Log-Likelihood:    </th> <td> -20943.</td> \n",
       "</tr>\n",
       "<tr>\n",
       "  <th>No. Observations:</th>      <td> 21597</td>      <th>  AIC:               </th> <td>4.193e+04</td>\n",
       "</tr>\n",
       "<tr>\n",
       "  <th>Df Residuals:</th>          <td> 21576</td>      <th>  BIC:               </th> <td>4.210e+04</td>\n",
       "</tr>\n",
       "<tr>\n",
       "  <th>Df Model:</th>              <td>    20</td>      <th>                     </th>     <td> </td>    \n",
       "</tr>\n",
       "<tr>\n",
       "  <th>Covariance Type:</th>      <td>nonrobust</td>    <th>                     </th>     <td> </td>    \n",
       "</tr>\n",
       "</table>\n",
       "<table class=\"simpletable\">\n",
       "<tr>\n",
       "           <td></td>              <th>coef</th>     <th>std err</th>      <th>t</th>      <th>P>|t|</th>  <th>[0.025</th>    <th>0.975]</th>  \n",
       "</tr>\n",
       "<tr>\n",
       "  <th>const</th>               <td>    1.1244</td> <td>    0.029</td> <td>   38.339</td> <td> 0.000</td> <td>    1.067</td> <td>    1.182</td>\n",
       "</tr>\n",
       "<tr>\n",
       "  <th>sqft_living_log</th>     <td>    0.3747</td> <td>    0.009</td> <td>   41.521</td> <td> 0.000</td> <td>    0.357</td> <td>    0.392</td>\n",
       "</tr>\n",
       "<tr>\n",
       "  <th>bathrooms_log</th>       <td>   -0.0246</td> <td>    0.007</td> <td>   -3.463</td> <td> 0.001</td> <td>   -0.039</td> <td>   -0.011</td>\n",
       "</tr>\n",
       "<tr>\n",
       "  <th>bedrooms_log</th>        <td>   -0.0631</td> <td>    0.006</td> <td>  -10.590</td> <td> 0.000</td> <td>   -0.075</td> <td>   -0.051</td>\n",
       "</tr>\n",
       "<tr>\n",
       "  <th>water_1.0</th>           <td>    0.6640</td> <td>    0.065</td> <td>   10.266</td> <td> 0.000</td> <td>    0.537</td> <td>    0.791</td>\n",
       "</tr>\n",
       "<tr>\n",
       "  <th>view_EXCELLENT</th>      <td>    0.3393</td> <td>    0.048</td> <td>    7.015</td> <td> 0.000</td> <td>    0.245</td> <td>    0.434</td>\n",
       "</tr>\n",
       "<tr>\n",
       "  <th>view_FAIR</th>           <td>    0.1431</td> <td>    0.041</td> <td>    3.509</td> <td> 0.000</td> <td>    0.063</td> <td>    0.223</td>\n",
       "</tr>\n",
       "<tr>\n",
       "  <th>view_GOOD</th>           <td>    0.0916</td> <td>    0.035</td> <td>    2.607</td> <td> 0.009</td> <td>    0.023</td> <td>    0.160</td>\n",
       "</tr>\n",
       "<tr>\n",
       "  <th>view_NONE</th>           <td>   -0.3138</td> <td>    0.021</td> <td>  -14.624</td> <td> 0.000</td> <td>   -0.356</td> <td>   -0.272</td>\n",
       "</tr>\n",
       "<tr>\n",
       "  <th>condition_Fair</th>      <td>   -0.2061</td> <td>    0.050</td> <td>   -4.145</td> <td> 0.000</td> <td>   -0.304</td> <td>   -0.109</td>\n",
       "</tr>\n",
       "<tr>\n",
       "  <th>condition_Good</th>      <td>    0.1388</td> <td>    0.010</td> <td>   13.422</td> <td> 0.000</td> <td>    0.119</td> <td>    0.159</td>\n",
       "</tr>\n",
       "<tr>\n",
       "  <th>condition_Very Good</th> <td>    0.4071</td> <td>    0.017</td> <td>   24.501</td> <td> 0.000</td> <td>    0.375</td> <td>    0.440</td>\n",
       "</tr>\n",
       "<tr>\n",
       "  <th>grade_11 Excellent</th>  <td>    0.3841</td> <td>    0.037</td> <td>   10.273</td> <td> 0.000</td> <td>    0.311</td> <td>    0.457</td>\n",
       "</tr>\n",
       "<tr>\n",
       "  <th>grade_12 Luxury</th>     <td>    0.8024</td> <td>    0.071</td> <td>   11.307</td> <td> 0.000</td> <td>    0.663</td> <td>    0.941</td>\n",
       "</tr>\n",
       "<tr>\n",
       "  <th>grade_13 Mansion</th>    <td>    1.6063</td> <td>    0.179</td> <td>    8.987</td> <td> 0.000</td> <td>    1.256</td> <td>    1.957</td>\n",
       "</tr>\n",
       "<tr>\n",
       "  <th>grade_4 Low</th>         <td>   -1.8390</td> <td>    0.127</td> <td>  -14.449</td> <td> 0.000</td> <td>   -2.088</td> <td>   -1.590</td>\n",
       "</tr>\n",
       "<tr>\n",
       "  <th>grade_5 Fair</th>        <td>   -1.8020</td> <td>    0.050</td> <td>  -35.953</td> <td> 0.000</td> <td>   -1.900</td> <td>   -1.704</td>\n",
       "</tr>\n",
       "<tr>\n",
       "  <th>grade_6 Low Average</th> <td>   -1.5067</td> <td>    0.030</td> <td>  -49.945</td> <td> 0.000</td> <td>   -1.566</td> <td>   -1.448</td>\n",
       "</tr>\n",
       "<tr>\n",
       "  <th>grade_7 Average</th>     <td>   -1.1839</td> <td>    0.024</td> <td>  -49.401</td> <td> 0.000</td> <td>   -1.231</td> <td>   -1.137</td>\n",
       "</tr>\n",
       "<tr>\n",
       "  <th>grade_8 Good</th>        <td>   -0.8180</td> <td>    0.022</td> <td>  -36.714</td> <td> 0.000</td> <td>   -0.862</td> <td>   -0.774</td>\n",
       "</tr>\n",
       "<tr>\n",
       "  <th>grade_9 Better</th>      <td>   -0.3887</td> <td>    0.023</td> <td>  -16.900</td> <td> 0.000</td> <td>   -0.434</td> <td>   -0.344</td>\n",
       "</tr>\n",
       "</table>\n",
       "<table class=\"simpletable\">\n",
       "<tr>\n",
       "  <th>Omnibus:</th>       <td>20.889</td> <th>  Durbin-Watson:     </th> <td>   1.973</td>\n",
       "</tr>\n",
       "<tr>\n",
       "  <th>Prob(Omnibus):</th> <td> 0.000</td> <th>  Jarque-Bera (JB):  </th> <td>  19.974</td>\n",
       "</tr>\n",
       "<tr>\n",
       "  <th>Skew:</th>          <td> 0.054</td> <th>  Prob(JB):          </th> <td>4.60e-05</td>\n",
       "</tr>\n",
       "<tr>\n",
       "  <th>Kurtosis:</th>      <td> 2.897</td> <th>  Cond. No.          </th> <td>    63.9</td>\n",
       "</tr>\n",
       "</table><br/><br/>Notes:<br/>[1] Standard Errors assume that the covariance matrix of the errors is correctly specified."
      ],
      "text/plain": [
       "<class 'statsmodels.iolib.summary.Summary'>\n",
       "\"\"\"\n",
       "                            OLS Regression Results                            \n",
       "==============================================================================\n",
       "Dep. Variable:              price_log   R-squared:                       0.593\n",
       "Model:                            OLS   Adj. R-squared:                  0.592\n",
       "Method:                 Least Squares   F-statistic:                     1570.\n",
       "Date:                Tue, 22 Feb 2022   Prob (F-statistic):               0.00\n",
       "Time:                        12:05:16   Log-Likelihood:                -20943.\n",
       "No. Observations:               21597   AIC:                         4.193e+04\n",
       "Df Residuals:                   21576   BIC:                         4.210e+04\n",
       "Df Model:                          20                                         \n",
       "Covariance Type:            nonrobust                                         \n",
       "=======================================================================================\n",
       "                          coef    std err          t      P>|t|      [0.025      0.975]\n",
       "---------------------------------------------------------------------------------------\n",
       "const                   1.1244      0.029     38.339      0.000       1.067       1.182\n",
       "sqft_living_log         0.3747      0.009     41.521      0.000       0.357       0.392\n",
       "bathrooms_log          -0.0246      0.007     -3.463      0.001      -0.039      -0.011\n",
       "bedrooms_log           -0.0631      0.006    -10.590      0.000      -0.075      -0.051\n",
       "water_1.0               0.6640      0.065     10.266      0.000       0.537       0.791\n",
       "view_EXCELLENT          0.3393      0.048      7.015      0.000       0.245       0.434\n",
       "view_FAIR               0.1431      0.041      3.509      0.000       0.063       0.223\n",
       "view_GOOD               0.0916      0.035      2.607      0.009       0.023       0.160\n",
       "view_NONE              -0.3138      0.021    -14.624      0.000      -0.356      -0.272\n",
       "condition_Fair         -0.2061      0.050     -4.145      0.000      -0.304      -0.109\n",
       "condition_Good          0.1388      0.010     13.422      0.000       0.119       0.159\n",
       "condition_Very Good     0.4071      0.017     24.501      0.000       0.375       0.440\n",
       "grade_11 Excellent      0.3841      0.037     10.273      0.000       0.311       0.457\n",
       "grade_12 Luxury         0.8024      0.071     11.307      0.000       0.663       0.941\n",
       "grade_13 Mansion        1.6063      0.179      8.987      0.000       1.256       1.957\n",
       "grade_4 Low            -1.8390      0.127    -14.449      0.000      -2.088      -1.590\n",
       "grade_5 Fair           -1.8020      0.050    -35.953      0.000      -1.900      -1.704\n",
       "grade_6 Low Average    -1.5067      0.030    -49.945      0.000      -1.566      -1.448\n",
       "grade_7 Average        -1.1839      0.024    -49.401      0.000      -1.231      -1.137\n",
       "grade_8 Good           -0.8180      0.022    -36.714      0.000      -0.862      -0.774\n",
       "grade_9 Better         -0.3887      0.023    -16.900      0.000      -0.434      -0.344\n",
       "==============================================================================\n",
       "Omnibus:                       20.889   Durbin-Watson:                   1.973\n",
       "Prob(Omnibus):                  0.000   Jarque-Bera (JB):               19.974\n",
       "Skew:                           0.054   Prob(JB):                     4.60e-05\n",
       "Kurtosis:                       2.897   Cond. No.                         63.9\n",
       "==============================================================================\n",
       "\n",
       "Notes:\n",
       "[1] Standard Errors assume that the covariance matrix of the errors is correctly specified.\n",
       "\"\"\""
      ]
     },
     "execution_count": 240,
     "metadata": {},
     "output_type": "execute_result"
    }
   ],
   "source": [
    "# Run model summary again without condition_Poor\n",
    "\n",
    "# Model Summary\n",
    "X = cats_added.drop(['price_log', 'condition_Poor', 'grade_3 Poor'], axis=1)\n",
    "y = cats_added['price_log']\n",
    "\n",
    "X_int = sm.add_constant(X)\n",
    "model = sm.OLS(y,X_int).fit()\n",
    "model.summary()"
   ]
  },
  {
   "cell_type": "markdown",
   "metadata": {},
   "source": [
    "### Dropping condition_Poor and grade_3 Poor did not change the R-squared value.  \n",
    "* This is likely because both categories represented a very small portion of the data."
   ]
  },
  {
   "cell_type": "markdown",
   "metadata": {},
   "source": [
    "### How does this compare with using sqft_living_log as the only predictor?"
   ]
  },
  {
   "cell_type": "code",
   "execution_count": 241,
   "metadata": {
    "ExecuteTime": {
     "end_time": "2022-02-22T19:05:16.583515Z",
     "start_time": "2022-02-22T19:05:16.521236Z"
    }
   },
   "outputs": [
    {
     "data": {
      "text/html": [
       "<table class=\"simpletable\">\n",
       "<caption>OLS Regression Results</caption>\n",
       "<tr>\n",
       "  <th>Dep. Variable:</th>        <td>price_log</td>    <th>  R-squared:         </th> <td>   0.455</td> \n",
       "</tr>\n",
       "<tr>\n",
       "  <th>Model:</th>                   <td>OLS</td>       <th>  Adj. R-squared:    </th> <td>   0.455</td> \n",
       "</tr>\n",
       "<tr>\n",
       "  <th>Method:</th>             <td>Least Squares</td>  <th>  F-statistic:       </th> <td>1.805e+04</td>\n",
       "</tr>\n",
       "<tr>\n",
       "  <th>Date:</th>             <td>Tue, 22 Feb 2022</td> <th>  Prob (F-statistic):</th>  <td>  0.00</td>  \n",
       "</tr>\n",
       "<tr>\n",
       "  <th>Time:</th>                 <td>12:05:16</td>     <th>  Log-Likelihood:    </th> <td> -24083.</td> \n",
       "</tr>\n",
       "<tr>\n",
       "  <th>No. Observations:</th>      <td> 21597</td>      <th>  AIC:               </th> <td>4.817e+04</td>\n",
       "</tr>\n",
       "<tr>\n",
       "  <th>Df Residuals:</th>          <td> 21595</td>      <th>  BIC:               </th> <td>4.819e+04</td>\n",
       "</tr>\n",
       "<tr>\n",
       "  <th>Df Model:</th>              <td>     1</td>      <th>                     </th>     <td> </td>    \n",
       "</tr>\n",
       "<tr>\n",
       "  <th>Covariance Type:</th>      <td>nonrobust</td>    <th>                     </th>     <td> </td>    \n",
       "</tr>\n",
       "</table>\n",
       "<table class=\"simpletable\">\n",
       "<tr>\n",
       "         <td></td>            <th>coef</th>     <th>std err</th>      <th>t</th>      <th>P>|t|</th>  <th>[0.025</th>    <th>0.975]</th>  \n",
       "</tr>\n",
       "<tr>\n",
       "  <th>const</th>           <td> 1.327e-15</td> <td>    0.005</td> <td> 2.64e-13</td> <td> 1.000</td> <td>   -0.010</td> <td>    0.010</td>\n",
       "</tr>\n",
       "<tr>\n",
       "  <th>sqft_living_log</th> <td>    0.6748</td> <td>    0.005</td> <td>  134.368</td> <td> 0.000</td> <td>    0.665</td> <td>    0.685</td>\n",
       "</tr>\n",
       "</table>\n",
       "<table class=\"simpletable\">\n",
       "<tr>\n",
       "  <th>Omnibus:</th>       <td>123.577</td> <th>  Durbin-Watson:     </th> <td>   1.977</td>\n",
       "</tr>\n",
       "<tr>\n",
       "  <th>Prob(Omnibus):</th> <td> 0.000</td>  <th>  Jarque-Bera (JB):  </th> <td> 114.096</td>\n",
       "</tr>\n",
       "<tr>\n",
       "  <th>Skew:</th>          <td> 0.143</td>  <th>  Prob(JB):          </th> <td>1.68e-25</td>\n",
       "</tr>\n",
       "<tr>\n",
       "  <th>Kurtosis:</th>      <td> 2.787</td>  <th>  Cond. No.          </th> <td>    1.00</td>\n",
       "</tr>\n",
       "</table><br/><br/>Notes:<br/>[1] Standard Errors assume that the covariance matrix of the errors is correctly specified."
      ],
      "text/plain": [
       "<class 'statsmodels.iolib.summary.Summary'>\n",
       "\"\"\"\n",
       "                            OLS Regression Results                            \n",
       "==============================================================================\n",
       "Dep. Variable:              price_log   R-squared:                       0.455\n",
       "Model:                            OLS   Adj. R-squared:                  0.455\n",
       "Method:                 Least Squares   F-statistic:                 1.805e+04\n",
       "Date:                Tue, 22 Feb 2022   Prob (F-statistic):               0.00\n",
       "Time:                        12:05:16   Log-Likelihood:                -24083.\n",
       "No. Observations:               21597   AIC:                         4.817e+04\n",
       "Df Residuals:                   21595   BIC:                         4.819e+04\n",
       "Df Model:                           1                                         \n",
       "Covariance Type:            nonrobust                                         \n",
       "===================================================================================\n",
       "                      coef    std err          t      P>|t|      [0.025      0.975]\n",
       "-----------------------------------------------------------------------------------\n",
       "const            1.327e-15      0.005   2.64e-13      1.000      -0.010       0.010\n",
       "sqft_living_log     0.6748      0.005    134.368      0.000       0.665       0.685\n",
       "==============================================================================\n",
       "Omnibus:                      123.577   Durbin-Watson:                   1.977\n",
       "Prob(Omnibus):                  0.000   Jarque-Bera (JB):              114.096\n",
       "Skew:                           0.143   Prob(JB):                     1.68e-25\n",
       "Kurtosis:                       2.787   Cond. No.                         1.00\n",
       "==============================================================================\n",
       "\n",
       "Notes:\n",
       "[1] Standard Errors assume that the covariance matrix of the errors is correctly specified.\n",
       "\"\"\""
      ]
     },
     "execution_count": 241,
     "metadata": {},
     "output_type": "execute_result"
    }
   ],
   "source": [
    "# Run model summary with only sqft_living_log\n",
    "\n",
    "# Model Summary\n",
    "X = cats_added['sqft_living_log']\n",
    "y = cats_added['price_log']\n",
    "\n",
    "X_int = sm.add_constant(X)\n",
    "model = sm.OLS(y,X_int).fit()\n",
    "model.summary()"
   ]
  },
  {
   "cell_type": "markdown",
   "metadata": {},
   "source": [
    "#### The model with bedrooms and bathrooms as numerical predictors and waterfront, view, condition, and grade as categorical predictors produces more accurate predictions than sqft_living alone."
   ]
  },
  {
   "cell_type": "code",
   "execution_count": null,
   "metadata": {},
   "outputs": [],
   "source": []
  },
  {
   "cell_type": "markdown",
   "metadata": {},
   "source": [
    "# Clean up numerical data\n",
    "* Improve predictive capacity of the model by removing outliers.\n",
    "* In terms of inferential capacity, the model is pointing towards an increase in square footage"
   ]
  },
  {
   "cell_type": "code",
   "execution_count": 242,
   "metadata": {
    "ExecuteTime": {
     "end_time": "2022-02-22T19:05:16.645606Z",
     "start_time": "2022-02-22T19:05:16.587859Z"
    }
   },
   "outputs": [
    {
     "data": {
      "text/html": [
       "<div>\n",
       "<style scoped>\n",
       "    .dataframe tbody tr th:only-of-type {\n",
       "        vertical-align: middle;\n",
       "    }\n",
       "\n",
       "    .dataframe tbody tr th {\n",
       "        vertical-align: top;\n",
       "    }\n",
       "\n",
       "    .dataframe thead th {\n",
       "        text-align: right;\n",
       "    }\n",
       "</style>\n",
       "<table border=\"1\" class=\"dataframe\">\n",
       "  <thead>\n",
       "    <tr style=\"text-align: right;\">\n",
       "      <th></th>\n",
       "      <th>sqft_living_log</th>\n",
       "      <th>bathrooms_log</th>\n",
       "      <th>bedrooms_log</th>\n",
       "      <th>price_log</th>\n",
       "    </tr>\n",
       "  </thead>\n",
       "  <tbody>\n",
       "    <tr>\n",
       "      <th>count</th>\n",
       "      <td>2.159700e+04</td>\n",
       "      <td>2.159700e+04</td>\n",
       "      <td>2.159700e+04</td>\n",
       "      <td>2.159700e+04</td>\n",
       "    </tr>\n",
       "    <tr>\n",
       "      <th>mean</th>\n",
       "      <td>-1.518667e-15</td>\n",
       "      <td>-9.475219e-17</td>\n",
       "      <td>-1.026482e-16</td>\n",
       "      <td>1.342323e-15</td>\n",
       "    </tr>\n",
       "    <tr>\n",
       "      <th>std</th>\n",
       "      <td>1.000000e+00</td>\n",
       "      <td>1.000000e+00</td>\n",
       "      <td>1.000000e+00</td>\n",
       "      <td>1.000000e+00</td>\n",
       "    </tr>\n",
       "    <tr>\n",
       "      <th>min</th>\n",
       "      <td>-3.859623e+00</td>\n",
       "      <td>-3.492572e+00</td>\n",
       "      <td>-4.159448e+00</td>\n",
       "      <td>-3.387580e+00</td>\n",
       "    </tr>\n",
       "    <tr>\n",
       "      <th>25%</th>\n",
       "      <td>-6.725525e-01</td>\n",
       "      <td>-3.006689e-01</td>\n",
       "      <td>-2.797180e-01</td>\n",
       "      <td>-6.949022e-01</td>\n",
       "    </tr>\n",
       "    <tr>\n",
       "      <th>50%</th>\n",
       "      <td>9.755245e-03</td>\n",
       "      <td>3.396529e-01</td>\n",
       "      <td>-2.797180e-01</td>\n",
       "      <td>-5.926843e-02</td>\n",
       "    </tr>\n",
       "    <tr>\n",
       "      <th>75%</th>\n",
       "      <td>6.910288e-01</td>\n",
       "      <td>6.081000e-01</td>\n",
       "      <td>7.362261e-01</td>\n",
       "      <td>6.244262e-01</td>\n",
       "    </tr>\n",
       "    <tr>\n",
       "      <th>max</th>\n",
       "      <td>4.626885e+00</td>\n",
       "      <td>3.571681e+00</td>\n",
       "      <td>8.188407e+00</td>\n",
       "      <td>5.333765e+00</td>\n",
       "    </tr>\n",
       "  </tbody>\n",
       "</table>\n",
       "</div>"
      ],
      "text/plain": [
       "       sqft_living_log  bathrooms_log  bedrooms_log     price_log\n",
       "count     2.159700e+04   2.159700e+04  2.159700e+04  2.159700e+04\n",
       "mean     -1.518667e-15  -9.475219e-17 -1.026482e-16  1.342323e-15\n",
       "std       1.000000e+00   1.000000e+00  1.000000e+00  1.000000e+00\n",
       "min      -3.859623e+00  -3.492572e+00 -4.159448e+00 -3.387580e+00\n",
       "25%      -6.725525e-01  -3.006689e-01 -2.797180e-01 -6.949022e-01\n",
       "50%       9.755245e-03   3.396529e-01 -2.797180e-01 -5.926843e-02\n",
       "75%       6.910288e-01   6.081000e-01  7.362261e-01  6.244262e-01\n",
       "max       4.626885e+00   3.571681e+00  8.188407e+00  5.333765e+00"
      ]
     },
     "execution_count": 242,
     "metadata": {},
     "output_type": "execute_result"
    }
   ],
   "source": [
    "remove_outliers = features_final\n",
    "\n",
    "remove_outliers.describe()"
   ]
  },
  {
   "cell_type": "code",
   "execution_count": 243,
   "metadata": {
    "ExecuteTime": {
     "end_time": "2022-02-22T19:05:16.941413Z",
     "start_time": "2022-02-22T19:05:16.650633Z"
    }
   },
   "outputs": [
    {
     "data": {
      "text/plain": [
       "<AxesSubplot:>"
      ]
     },
     "execution_count": 243,
     "metadata": {},
     "output_type": "execute_result"
    },
    {
     "data": {
      "image/png": "[encoded data removed]",
      "text/plain": [
       "<Figure size 432x288 with 1 Axes>"
      ]
     },
     "metadata": {
      "needs_background": "light"
     },
     "output_type": "display_data"
    }
   ],
   "source": [
    "remove_outliers['sqft_living_log'].hist(bins=25)"
   ]
  },
  {
   "cell_type": "code",
   "execution_count": 244,
   "metadata": {
    "ExecuteTime": {
     "end_time": "2022-02-22T19:05:16.957595Z",
     "start_time": "2022-02-22T19:05:16.944642Z"
    }
   },
   "outputs": [
    {
     "data": {
      "text/plain": [
       "sqft_living_log    1.606479\n",
       "bathrooms_log      1.465394\n",
       "bedrooms_log       1.524254\n",
       "price_log          1.739077\n",
       "Name: 0.95, dtype: float64"
      ]
     },
     "execution_count": 244,
     "metadata": {},
     "output_type": "execute_result"
    }
   ],
   "source": [
    "# find cut-off for top 95% of data\n",
    "remove_outliers.quantile(q=.95)"
   ]
  },
  {
   "cell_type": "code",
   "execution_count": 245,
   "metadata": {
    "ExecuteTime": {
     "end_time": "2022-02-22T19:05:16.979220Z",
     "start_time": "2022-02-22T19:05:16.960795Z"
    }
   },
   "outputs": [
    {
     "data": {
      "text/plain": [
       "sqft_living_log   -1.661611\n",
       "bathrooms_log     -1.726509\n",
       "bedrooms_log      -1.711611\n",
       "price_log         -1.506677\n",
       "Name: 0.05, dtype: float64"
      ]
     },
     "execution_count": 245,
     "metadata": {},
     "output_type": "execute_result"
    }
   ],
   "source": [
    "# find cut-off for bottom 5% of data\n",
    "remove_outliers.quantile(q=.05)"
   ]
  },
  {
   "cell_type": "code",
   "execution_count": 246,
   "metadata": {
    "ExecuteTime": {
     "end_time": "2022-02-22T19:05:17.259332Z",
     "start_time": "2022-02-22T19:05:16.981426Z"
    }
   },
   "outputs": [
    {
     "data": {
      "text/plain": [
       "<AxesSubplot:>"
      ]
     },
     "execution_count": 246,
     "metadata": {},
     "output_type": "execute_result"
    },
    {
     "data": {
      "image/png": "[encoded data removed]",
      "text/plain": [
       "<Figure size 432x288 with 1 Axes>"
      ]
     },
     "metadata": {
      "needs_background": "light"
     },
     "output_type": "display_data"
    }
   ],
   "source": [
    "remove_outliers['price_log'].hist(bins=25)"
   ]
  },
  {
   "cell_type": "code",
   "execution_count": 247,
   "metadata": {
    "ExecuteTime": {
     "end_time": "2022-02-22T19:05:17.288978Z",
     "start_time": "2022-02-22T19:05:17.275999Z"
    }
   },
   "outputs": [
    {
     "data": {
      "text/plain": [
       "0.674801656673277"
      ]
     },
     "execution_count": 247,
     "metadata": {},
     "output_type": "execute_result"
    }
   ],
   "source": [
    "remove_outliers.corr()['price_log']['sqft_living_log']"
   ]
  },
  {
   "cell_type": "code",
   "execution_count": 248,
   "metadata": {
    "ExecuteTime": {
     "end_time": "2022-02-22T19:05:17.309212Z",
     "start_time": "2022-02-22T19:05:17.296673Z"
    }
   },
   "outputs": [],
   "source": [
    "remove_outliers['rem_out_sqft_living_log'] = (remove_outliers['sqft_living_log'] < 1.606479\n",
    "                                      ) & (remove_outliers['sqft_living_log'] > -1.661611) "
   ]
  },
  {
   "cell_type": "code",
   "execution_count": 249,
   "metadata": {
    "ExecuteTime": {
     "end_time": "2022-02-22T19:05:17.333838Z",
     "start_time": "2022-02-22T19:05:17.313780Z"
    }
   },
   "outputs": [],
   "source": [
    "remove_outliers['rem_out_price_log'] = (remove_outliers['price_log'] < 1.739077\n",
    "                                ) & (remove_outliers['price_log'] > -1.506677)"
   ]
  },
  {
   "cell_type": "code",
   "execution_count": 250,
   "metadata": {
    "ExecuteTime": {
     "end_time": "2022-02-22T19:05:17.373233Z",
     "start_time": "2022-02-22T19:05:17.346433Z"
    }
   },
   "outputs": [
    {
     "data": {
      "text/plain": [
       "0.3302422200705392"
      ]
     },
     "execution_count": 250,
     "metadata": {},
     "output_type": "execute_result"
    }
   ],
   "source": [
    "remove_outliers.corr()['rem_out_price_log']['rem_out_sqft_living_log']"
   ]
  },
  {
   "cell_type": "code",
   "execution_count": 251,
   "metadata": {
    "ExecuteTime": {
     "end_time": "2022-02-22T19:05:17.429518Z",
     "start_time": "2022-02-22T19:05:17.377261Z"
    }
   },
   "outputs": [
    {
     "data": {
      "text/html": [
       "<div>\n",
       "<style scoped>\n",
       "    .dataframe tbody tr th:only-of-type {\n",
       "        vertical-align: middle;\n",
       "    }\n",
       "\n",
       "    .dataframe tbody tr th {\n",
       "        vertical-align: top;\n",
       "    }\n",
       "\n",
       "    .dataframe thead th {\n",
       "        text-align: right;\n",
       "    }\n",
       "</style>\n",
       "<table border=\"1\" class=\"dataframe\">\n",
       "  <thead>\n",
       "    <tr style=\"text-align: right;\">\n",
       "      <th></th>\n",
       "      <th>sqft_living_log</th>\n",
       "      <th>bathrooms_log</th>\n",
       "      <th>bedrooms_log</th>\n",
       "      <th>price_log</th>\n",
       "    </tr>\n",
       "  </thead>\n",
       "  <tbody>\n",
       "    <tr>\n",
       "      <th>count</th>\n",
       "      <td>2.159700e+04</td>\n",
       "      <td>2.159700e+04</td>\n",
       "      <td>2.159700e+04</td>\n",
       "      <td>2.159700e+04</td>\n",
       "    </tr>\n",
       "    <tr>\n",
       "      <th>mean</th>\n",
       "      <td>-1.518667e-15</td>\n",
       "      <td>-9.475219e-17</td>\n",
       "      <td>-1.026482e-16</td>\n",
       "      <td>1.342323e-15</td>\n",
       "    </tr>\n",
       "    <tr>\n",
       "      <th>std</th>\n",
       "      <td>1.000000e+00</td>\n",
       "      <td>1.000000e+00</td>\n",
       "      <td>1.000000e+00</td>\n",
       "      <td>1.000000e+00</td>\n",
       "    </tr>\n",
       "    <tr>\n",
       "      <th>min</th>\n",
       "      <td>-3.859623e+00</td>\n",
       "      <td>-3.492572e+00</td>\n",
       "      <td>-4.159448e+00</td>\n",
       "      <td>-3.387580e+00</td>\n",
       "    </tr>\n",
       "    <tr>\n",
       "      <th>25%</th>\n",
       "      <td>-6.725525e-01</td>\n",
       "      <td>-3.006689e-01</td>\n",
       "      <td>-2.797180e-01</td>\n",
       "      <td>-6.949022e-01</td>\n",
       "    </tr>\n",
       "    <tr>\n",
       "      <th>50%</th>\n",
       "      <td>9.755245e-03</td>\n",
       "      <td>3.396529e-01</td>\n",
       "      <td>-2.797180e-01</td>\n",
       "      <td>-5.926843e-02</td>\n",
       "    </tr>\n",
       "    <tr>\n",
       "      <th>75%</th>\n",
       "      <td>6.910288e-01</td>\n",
       "      <td>6.081000e-01</td>\n",
       "      <td>7.362261e-01</td>\n",
       "      <td>6.244262e-01</td>\n",
       "    </tr>\n",
       "    <tr>\n",
       "      <th>max</th>\n",
       "      <td>4.626885e+00</td>\n",
       "      <td>3.571681e+00</td>\n",
       "      <td>8.188407e+00</td>\n",
       "      <td>5.333765e+00</td>\n",
       "    </tr>\n",
       "  </tbody>\n",
       "</table>\n",
       "</div>"
      ],
      "text/plain": [
       "       sqft_living_log  bathrooms_log  bedrooms_log     price_log\n",
       "count     2.159700e+04   2.159700e+04  2.159700e+04  2.159700e+04\n",
       "mean     -1.518667e-15  -9.475219e-17 -1.026482e-16  1.342323e-15\n",
       "std       1.000000e+00   1.000000e+00  1.000000e+00  1.000000e+00\n",
       "min      -3.859623e+00  -3.492572e+00 -4.159448e+00 -3.387580e+00\n",
       "25%      -6.725525e-01  -3.006689e-01 -2.797180e-01 -6.949022e-01\n",
       "50%       9.755245e-03   3.396529e-01 -2.797180e-01 -5.926843e-02\n",
       "75%       6.910288e-01   6.081000e-01  7.362261e-01  6.244262e-01\n",
       "max       4.626885e+00   3.571681e+00  8.188407e+00  5.333765e+00"
      ]
     },
     "execution_count": 251,
     "metadata": {},
     "output_type": "execute_result"
    }
   ],
   "source": [
    "remove_outliers.describe()"
   ]
  },
  {
   "cell_type": "markdown",
   "metadata": {},
   "source": [
    "## Dropping Outliers reduces predictive capacity of model."
   ]
  },
  {
   "cell_type": "markdown",
   "metadata": {},
   "source": [
    "## Clean up bedrooms_log\n",
    "* Has skewed data in the first quartile"
   ]
  },
  {
   "cell_type": "code",
   "execution_count": 252,
   "metadata": {
    "ExecuteTime": {
     "end_time": "2022-02-22T19:05:18.105616Z",
     "start_time": "2022-02-22T19:05:17.432535Z"
    }
   },
   "outputs": [
    {
     "data": {
      "text/plain": [
       "<AxesSubplot:>"
      ]
     },
     "execution_count": 252,
     "metadata": {},
     "output_type": "execute_result"
    },
    {
     "data": {
      "image/png": "[encoded data removed]",
      "text/plain": [
       "<Figure size 432x288 with 1 Axes>"
      ]
     },
     "metadata": {
      "needs_background": "light"
     },
     "output_type": "display_data"
    }
   ],
   "source": [
    "remove_outliers['bedrooms_log'].hist(bins=25)"
   ]
  },
  {
   "cell_type": "code",
   "execution_count": 253,
   "metadata": {
    "ExecuteTime": {
     "end_time": "2022-02-22T19:05:18.128962Z",
     "start_time": "2022-02-22T19:05:18.111854Z"
    }
   },
   "outputs": [
    {
     "data": {
      "text/plain": [
       "0.3428502794669042"
      ]
     },
     "execution_count": 253,
     "metadata": {},
     "output_type": "execute_result"
    }
   ],
   "source": [
    "remove_outliers.corr()['price_log']['bedrooms_log']"
   ]
  },
  {
   "cell_type": "code",
   "execution_count": 254,
   "metadata": {
    "ExecuteTime": {
     "end_time": "2022-02-22T19:05:18.149576Z",
     "start_time": "2022-02-22T19:05:18.139706Z"
    }
   },
   "outputs": [],
   "source": [
    "# remove lowest 25% of bedrooms data\n",
    "remove_outliers['high_bedrooms_log'] = (remove_outliers['bedrooms_log'] > -2.8) "
   ]
  },
  {
   "cell_type": "code",
   "execution_count": 255,
   "metadata": {
    "ExecuteTime": {
     "end_time": "2022-02-22T19:05:18.169889Z",
     "start_time": "2022-02-22T19:05:18.152920Z"
    }
   },
   "outputs": [
    {
     "data": {
      "text/plain": [
       "0.08732165466471511"
      ]
     },
     "execution_count": 255,
     "metadata": {},
     "output_type": "execute_result"
    }
   ],
   "source": [
    "remove_outliers.corr()['price_log']['high_bedrooms_log']"
   ]
  },
  {
   "cell_type": "markdown",
   "metadata": {},
   "source": [
    "### Removing low bedroom data reduces predictive capacity of model."
   ]
  },
  {
   "cell_type": "markdown",
   "metadata": {},
   "source": [
    "## Product features\n",
    "* What would correlation be for product of bedrooms and bathrooms with price?"
   ]
  },
  {
   "cell_type": "code",
   "execution_count": 256,
   "metadata": {
    "ExecuteTime": {
     "end_time": "2022-02-22T19:05:18.188463Z",
     "start_time": "2022-02-22T19:05:18.175471Z"
    }
   },
   "outputs": [],
   "source": [
    "# product of bedrooms and bathrooms\n",
    "remove_outliers['bd*ba'\n",
    "                ] = remove_outliers['bedrooms_log'\n",
    "                ] * remove_outliers['bathrooms_log']\n"
   ]
  },
  {
   "cell_type": "code",
   "execution_count": 257,
   "metadata": {
    "ExecuteTime": {
     "end_time": "2022-02-22T19:05:18.216637Z",
     "start_time": "2022-02-22T19:05:18.191756Z"
    }
   },
   "outputs": [
    {
     "data": {
      "text/plain": [
       "-0.004944805972521416"
      ]
     },
     "execution_count": 257,
     "metadata": {},
     "output_type": "execute_result"
    }
   ],
   "source": [
    "# R-squared for product of bedrooms and bathrooms with price\n",
    "remove_outliers.corr()['price_log']['bd*ba']"
   ]
  },
  {
   "cell_type": "code",
   "execution_count": 258,
   "metadata": {
    "ExecuteTime": {
     "end_time": "2022-02-22T19:05:18.244532Z",
     "start_time": "2022-02-22T19:05:18.223479Z"
    }
   },
   "outputs": [
    {
     "data": {
      "text/plain": [
       "0.3428502794669042"
      ]
     },
     "execution_count": 258,
     "metadata": {},
     "output_type": "execute_result"
    }
   ],
   "source": [
    "# R-squared for bedrooms and price\n",
    "remove_outliers.corr()['price_log']['bedrooms_log']"
   ]
  },
  {
   "cell_type": "code",
   "execution_count": 259,
   "metadata": {
    "ExecuteTime": {
     "end_time": "2022-02-22T19:05:18.266301Z",
     "start_time": "2022-02-22T19:05:18.247384Z"
    }
   },
   "outputs": [
    {
     "data": {
      "text/plain": [
       "0.5202783301430879"
      ]
     },
     "execution_count": 259,
     "metadata": {},
     "output_type": "execute_result"
    }
   ],
   "source": [
    "# R-squared for bathrooms and price\n",
    "remove_outliers.corr()['price_log']['bathrooms_log']"
   ]
  },
  {
   "cell_type": "markdown",
   "metadata": {},
   "source": [
    "### Product of bedrooms and bathrooms reduces predictive capacity of model."
   ]
  },
  {
   "cell_type": "markdown",
   "metadata": {},
   "source": [
    "# Train, Test, Split\n",
    "* Use cats_added, the most predictive model, to train, test, and split."
   ]
  },
  {
   "cell_type": "code",
   "execution_count": 260,
   "metadata": {
    "ExecuteTime": {
     "end_time": "2022-02-22T19:05:34.985663Z",
     "start_time": "2022-02-22T19:05:34.976500Z"
    }
   },
   "outputs": [],
   "source": [
    "first_model = features_final\n",
    "second_model = cats_added"
   ]
  },
  {
   "cell_type": "markdown",
   "metadata": {},
   "source": [
    "## First Model - Train, Test, Split"
   ]
  },
  {
   "cell_type": "code",
   "execution_count": 299,
   "metadata": {
    "ExecuteTime": {
     "end_time": "2022-02-22T19:20:46.883012Z",
     "start_time": "2022-02-22T19:20:46.874726Z"
    }
   },
   "outputs": [],
   "source": [
    "X = first_model.drop('price_log', axis=1)\n",
    "y = first_model['price_log']"
   ]
  },
  {
   "cell_type": "code",
   "execution_count": 300,
   "metadata": {
    "ExecuteTime": {
     "end_time": "2022-02-22T19:20:47.243928Z",
     "start_time": "2022-02-22T19:20:47.230839Z"
    }
   },
   "outputs": [
    {
     "name": "stdout",
     "output_type": "stream",
     "text": [
      "12958 8639 12958 8639\n"
     ]
    }
   ],
   "source": [
    "# Split the data into training and test sets. Changed split size based on \n",
    "# the evaluation of train-test-split size below.  40% test size had a lower\n",
    "# average variance than 25% or 30%.\n",
    "\n",
    "X_train, X_test, y_train, y_test = train_test_split(X,y, test_size=0.4)\n",
    "\n",
    "# A brief preview of tts\n",
    "print(len(X_train), len(X_test), len(y_train), len(y_test))"
   ]
  },
  {
   "cell_type": "code",
   "execution_count": 301,
   "metadata": {
    "ExecuteTime": {
     "end_time": "2022-02-22T19:20:47.530281Z",
     "start_time": "2022-02-22T19:20:47.523488Z"
    }
   },
   "outputs": [],
   "source": [
    "linreg = LinearRegression()"
   ]
  },
  {
   "cell_type": "code",
   "execution_count": 302,
   "metadata": {
    "ExecuteTime": {
     "end_time": "2022-02-22T19:20:47.858491Z",
     "start_time": "2022-02-22T19:20:47.825705Z"
    }
   },
   "outputs": [
    {
     "data": {
      "text/plain": [
       "LinearRegression()"
      ]
     },
     "execution_count": 302,
     "metadata": {},
     "output_type": "execute_result"
    }
   ],
   "source": [
    "# Fit the model to train data\n",
    "linreg.fit(X_train, y_train)\n",
    "\n",
    "LinearRegression(copy_X=True, fit_intercept=True, n_jobs=None, normalize=False)"
   ]
  },
  {
   "cell_type": "code",
   "execution_count": 303,
   "metadata": {
    "ExecuteTime": {
     "end_time": "2022-02-22T19:20:48.135667Z",
     "start_time": "2022-02-22T19:20:48.109374Z"
    }
   },
   "outputs": [],
   "source": [
    "# Calculate predictions on training and test sets\n",
    "y_hat_train = linreg.predict(X_train)\n",
    "y_hat_test = linreg.predict(X_test)"
   ]
  },
  {
   "cell_type": "code",
   "execution_count": 304,
   "metadata": {
    "ExecuteTime": {
     "end_time": "2022-02-22T19:20:48.369424Z",
     "start_time": "2022-02-22T19:20:48.364282Z"
    }
   },
   "outputs": [],
   "source": [
    "# Calculate residuals\n",
    "train_residuals = y_hat_train - y_train\n",
    "test_residuals = y_hat_test - y_test"
   ]
  },
  {
   "cell_type": "code",
   "execution_count": 305,
   "metadata": {
    "ExecuteTime": {
     "end_time": "2022-02-22T19:20:48.831009Z",
     "start_time": "2022-02-22T19:20:48.819537Z"
    }
   },
   "outputs": [
    {
     "name": "stdout",
     "output_type": "stream",
     "text": [
      "Train Mean Squared Error: 0.5158539831622894\n",
      "Test Mean Squared Error: 0.5071074220729939\n"
     ]
    }
   ],
   "source": [
    "# Calculate training and test MSE\n",
    "train_mse = mean_squared_error(y_train, y_hat_train)\n",
    "test_mse = mean_squared_error(y_test, y_hat_test)\n",
    "print('Train Mean Squared Error:', train_mse)\n",
    "print('Test Mean Squared Error:', test_mse)"
   ]
  },
  {
   "cell_type": "markdown",
   "metadata": {},
   "source": [
    "## Second Model - Train, Test, Split"
   ]
  },
  {
   "cell_type": "code",
   "execution_count": 272,
   "metadata": {
    "ExecuteTime": {
     "end_time": "2022-02-22T19:11:12.375930Z",
     "start_time": "2022-02-22T19:11:12.370103Z"
    }
   },
   "outputs": [],
   "source": [
    "X2 = second_model.drop('price_log', axis=1)\n",
    "y2 = second_model['price_log']"
   ]
  },
  {
   "cell_type": "code",
   "execution_count": 282,
   "metadata": {
    "ExecuteTime": {
     "end_time": "2022-02-22T19:17:57.998563Z",
     "start_time": "2022-02-22T19:17:57.978716Z"
    }
   },
   "outputs": [
    {
     "name": "stdout",
     "output_type": "stream",
     "text": [
      "12958 8639 12958 8639\n"
     ]
    }
   ],
   "source": [
    "# Split the data into training and test sets. Use the default split size\n",
    "\n",
    "X_train, X_test, y_train, y_test = train_test_split(X2,y2, test_size=.4)\n",
    "\n",
    "# A brief preview of tts\n",
    "print(len(X_train), len(X_test), len(y_train), len(y_test))"
   ]
  },
  {
   "cell_type": "code",
   "execution_count": 283,
   "metadata": {
    "ExecuteTime": {
     "end_time": "2022-02-22T19:17:59.605110Z",
     "start_time": "2022-02-22T19:17:59.564730Z"
    }
   },
   "outputs": [
    {
     "data": {
      "text/plain": [
       "LinearRegression()"
      ]
     },
     "execution_count": 283,
     "metadata": {},
     "output_type": "execute_result"
    }
   ],
   "source": [
    "# Fit the model to train data\n",
    "linreg.fit(X_train, y_train)\n",
    "\n",
    "LinearRegression(copy_X=True, fit_intercept=True, n_jobs=None, normalize=False)"
   ]
  },
  {
   "cell_type": "code",
   "execution_count": 284,
   "metadata": {
    "ExecuteTime": {
     "end_time": "2022-02-22T19:18:00.900571Z",
     "start_time": "2022-02-22T19:18:00.884488Z"
    }
   },
   "outputs": [],
   "source": [
    "# Calculate predictions on training and test sets\n",
    "y_hat_train = linreg.predict(X_train)\n",
    "y_hat_test = linreg.predict(X_test)"
   ]
  },
  {
   "cell_type": "code",
   "execution_count": 285,
   "metadata": {
    "ExecuteTime": {
     "end_time": "2022-02-22T19:18:04.247519Z",
     "start_time": "2022-02-22T19:18:04.231202Z"
    }
   },
   "outputs": [],
   "source": [
    "# Calculate residuals\n",
    "train_residuals = y_hat_train - y_train\n",
    "test_residuals = y_hat_test - y_test"
   ]
  },
  {
   "cell_type": "code",
   "execution_count": 286,
   "metadata": {
    "ExecuteTime": {
     "end_time": "2022-02-22T19:18:04.722201Z",
     "start_time": "2022-02-22T19:18:04.712877Z"
    }
   },
   "outputs": [
    {
     "name": "stdout",
     "output_type": "stream",
     "text": [
      "Train Mean Squared Error: 0.40352098847500384\n",
      "Test Mean Squared Error: 0.4129980359408024\n"
     ]
    }
   ],
   "source": [
    "# Calculate training and test MSE\n",
    "train_mse = mean_squared_error(y_train, y_hat_train)\n",
    "test_mse = mean_squared_error(y_test, y_hat_test)\n",
    "print('Train Mean Squared Error:', train_mse)\n",
    "print('Test Mean Squared Error:', test_mse)"
   ]
  },
  {
   "cell_type": "markdown",
   "metadata": {},
   "source": [
    "## Evaluate the effect of train-test split size."
   ]
  },
  {
   "cell_type": "code",
   "execution_count": 281,
   "metadata": {
    "ExecuteTime": {
     "end_time": "2022-02-22T19:15:54.975128Z",
     "start_time": "2022-02-22T19:15:49.398414Z"
    }
   },
   "outputs": [
    {
     "data": {
      "text/plain": [
       "<matplotlib.legend.Legend at 0x133082cd0>"
      ]
     },
     "execution_count": 281,
     "metadata": {},
     "output_type": "execute_result"
    },
    {
     "data": {
      "image/png": "[encoded data removed]",
      "text/plain": [
       "<Figure size 432x288 with 1 Axes>"
      ]
     },
     "metadata": {
      "needs_background": "light"
     },
     "output_type": "display_data"
    }
   ],
   "source": [
    "random.seed(900)\n",
    "\n",
    "train_err = []\n",
    "test_err = []\n",
    "t_sizes = range(5,100,5)\n",
    "for t_size in t_sizes:\n",
    "    temp_train_err = []\n",
    "    temp_test_err = []\n",
    "    for i in range(10):\n",
    "        X_train, X_test, y_train, y_test = train_test_split(X, y, test_size=t_size/100)\n",
    "        linreg.fit(X_train, y_train)\n",
    "        y_hat_train = linreg.predict(X_train)\n",
    "        y_hat_test = linreg.predict(X_test)\n",
    "        temp_train_err.append(mean_squared_error(y_train, y_hat_train))\n",
    "        temp_test_err.append(mean_squared_error(y_test, y_hat_test))\n",
    "    train_err.append(np.mean(temp_train_err))\n",
    "    test_err.append(np.mean(temp_test_err))\n",
    "plt.scatter(t_sizes, train_err, label='Training Error')\n",
    "plt.scatter(t_sizes, test_err, label='Testing Error')\n",
    "plt.legend()"
   ]
  },
  {
   "cell_type": "markdown",
   "metadata": {},
   "source": [
    "## Model improvements from first to second models.\n",
    "* Lower variance and lower bias present in second_model compared to first_model\n",
    "    * Adjusted R-squared improved from 0.471 to 0.592\n",
    "    * Mean Squared Error improved from 0.507/0.516 to 0.404/0.413 (train/test).\n",
    "***\n",
    "* Mean squared error similar in train and test splits for both first and second models.\n",
    "    * first_model train = 0.507, test = 0.516\n",
    "    * second_model train = 0.404, test = 0.413"
   ]
  },
  {
   "cell_type": "code",
   "execution_count": null,
   "metadata": {},
   "outputs": [],
   "source": []
  },
  {
   "cell_type": "code",
   "execution_count": null,
   "metadata": {},
   "outputs": [],
   "source": []
  },
  {
   "cell_type": "code",
   "execution_count": null,
   "metadata": {},
   "outputs": [],
   "source": []
  },
  {
   "cell_type": "code",
   "execution_count": 106,
   "metadata": {
    "ExecuteTime": {
     "end_time": "2022-02-22T16:19:12.191983Z",
     "start_time": "2022-02-22T16:19:11.547681Z"
    },
    "scrolled": false
   },
   "outputs": [
    {
     "ename": "NameError",
     "evalue": "name 'view_df' is not defined",
     "output_type": "error",
     "traceback": [
      "\u001b[0;31m---------------------------------------------------------------------------\u001b[0m",
      "\u001b[0;31mNameError\u001b[0m                                 Traceback (most recent call last)",
      "\u001b[0;32m<ipython-input-106-fab0e745304b>\u001b[0m in \u001b[0;36m<module>\u001b[0;34m\u001b[0m\n\u001b[0;32m----> 1\u001b[0;31m \u001b[0mview_df\u001b[0m\u001b[0;34m.\u001b[0m\u001b[0mvalue_counts\u001b[0m\u001b[0;34m(\u001b[0m\u001b[0mdropna\u001b[0m\u001b[0;34m=\u001b[0m\u001b[0;32mFalse\u001b[0m\u001b[0;34m)\u001b[0m\u001b[0;34m\u001b[0m\u001b[0;34m\u001b[0m\u001b[0m\n\u001b[0m",
      "\u001b[0;31mNameError\u001b[0m: name 'view_df' is not defined"
     ]
    }
   ],
   "source": [
    "view_df.value_counts(dropna=False)"
   ]
  },
  {
   "cell_type": "code",
   "execution_count": null,
   "metadata": {
    "ExecuteTime": {
     "end_time": "2022-02-22T16:19:12.197483Z",
     "start_time": "2022-02-22T16:19:01.305Z"
    }
   },
   "outputs": [],
   "source": [
    "# failing to drop nan values from categoricals['view']\n",
    "# categoricals.dropna(subset=['view'], inplace=True)"
   ]
  },
  {
   "cell_type": "code",
   "execution_count": null,
   "metadata": {
    "ExecuteTime": {
     "end_time": "2022-02-22T16:19:12.200874Z",
     "start_time": "2022-02-22T16:19:01.309Z"
    }
   },
   "outputs": [],
   "source": [
    "# Trying to use default dict to replace values \n",
    "\n",
    "# import collections\n",
    "# d = collections.defaultdict(lambda:0)\n",
    "# d[\"NONE\"] = 0\n",
    "# d[\"AVERAGE\"] = 1\n",
    "# d[\"GOOD\"] = 2\n",
    "# d[\"FAIR\"] = 3\n",
    "# d[\"EXCELLENT\"] = 4\n",
    "\n",
    "# print(d[\"NONE\"])"
   ]
  },
  {
   "cell_type": "code",
   "execution_count": null,
   "metadata": {
    "ExecuteTime": {
     "end_time": "2022-02-22T16:19:12.202731Z",
     "start_time": "2022-02-22T16:19:01.315Z"
    }
   },
   "outputs": [],
   "source": [
    "view_df.replace(to_replace =\"NONE\", \n",
    "\n",
    "view_df.replace(to_replace =[\"NONE\"], value =\"0\")"
   ]
  },
  {
   "cell_type": "code",
   "execution_count": null,
   "metadata": {
    "ExecuteTime": {
     "end_time": "2022-02-22T16:19:12.205941Z",
     "start_time": "2022-02-22T16:19:01.321Z"
    }
   },
   "outputs": [],
   "source": [
    "view_df = categoricals['view'].astype('str')\n",
    "\n",
    "view_df.replace({\"NONE\": \"0\", \n",
    "                            \"AVERAGE\": 1,\n",
    "                            \"GOOD\": 2, \n",
    "                            \"FAIR\": 3, \n",
    "                            \"EXCELLENT\": 4})\n",
    "\n",
    "view_df.value_counts(dropna=False)"
   ]
  },
  {
   "cell_type": "code",
   "execution_count": null,
   "metadata": {
    "ExecuteTime": {
     "end_time": "2022-02-22T16:19:12.209762Z",
     "start_time": "2022-02-22T16:19:01.328Z"
    }
   },
   "outputs": [],
   "source": [
    "cat_new.head()"
   ]
  },
  {
   "cell_type": "code",
   "execution_count": null,
   "metadata": {
    "ExecuteTime": {
     "end_time": "2022-02-22T16:19:12.211862Z",
     "start_time": "2022-02-22T16:19:01.334Z"
    }
   },
   "outputs": [],
   "source": [
    "cat_new.to_frame()"
   ]
  },
  {
   "cell_type": "code",
   "execution_count": null,
   "metadata": {
    "ExecuteTime": {
     "end_time": "2022-02-22T16:19:12.214823Z",
     "start_time": "2022-02-22T16:19:01.339Z"
    }
   },
   "outputs": [],
   "source": [
    "categoricals.info()"
   ]
  },
  {
   "cell_type": "code",
   "execution_count": null,
   "metadata": {
    "ExecuteTime": {
     "end_time": "2022-02-22T16:19:12.217310Z",
     "start_time": "2022-02-22T16:19:01.344Z"
    }
   },
   "outputs": [],
   "source": [
    "d_frames = [cat_new, categoricals]\n",
    "\n",
    "# all_cats = pd.concat(d_frames, axis=0, join='outer')\n",
    "categoricals.join(cat_new, lsuffix='grade', rsuffix='view')\n",
    "\n",
    "all_cats.head()"
   ]
  },
  {
   "cell_type": "code",
   "execution_count": null,
   "metadata": {
    "ExecuteTime": {
     "end_time": "2022-02-22T16:19:12.219400Z",
     "start_time": "2022-02-22T16:19:01.348Z"
    }
   },
   "outputs": [],
   "source": [
    "all_cats.shape"
   ]
  },
  {
   "cell_type": "code",
   "execution_count": null,
   "metadata": {
    "ExecuteTime": {
     "end_time": "2022-02-22T16:19:12.221292Z",
     "start_time": "2022-02-22T16:19:01.354Z"
    }
   },
   "outputs": [],
   "source": [
    "categoricals.head()"
   ]
  },
  {
   "cell_type": "code",
   "execution_count": null,
   "metadata": {
    "ExecuteTime": {
     "end_time": "2022-02-22T16:19:12.223686Z",
     "start_time": "2022-02-22T16:19:01.359Z"
    }
   },
   "outputs": [],
   "source": [
    "le = LabelEncoder()\n",
    "\n",
    "cat_view = categoricals['view'].astype('str')\n",
    "\n",
    "le.fit(cat_view)\n",
    "le.transform(cat_view)\n"
   ]
  },
  {
   "cell_type": "code",
   "execution_count": null,
   "metadata": {
    "ExecuteTime": {
     "end_time": "2022-02-22T16:19:12.225582Z",
     "start_time": "2022-02-22T16:19:01.367Z"
    }
   },
   "outputs": [],
   "source": [
    "# Remove nan values from cat_view\n",
    "cat_view.dropna()\n",
    "cat_view.value_counts()"
   ]
  },
  {
   "cell_type": "code",
   "execution_count": null,
   "metadata": {
    "ExecuteTime": {
     "end_time": "2022-02-22T16:19:12.227627Z",
     "start_time": "2022-02-22T16:19:01.373Z"
    }
   },
   "outputs": [],
   "source": [
    "# Encode view categories to numericals\n",
    "view_encoded = lb_make.fit_transform(cat_view)\n",
    "\n",
    "view_encoded"
   ]
  },
  {
   "cell_type": "code",
   "execution_count": null,
   "metadata": {
    "ExecuteTime": {
     "end_time": "2022-02-22T16:19:12.229957Z",
     "start_time": "2022-02-22T16:19:01.378Z"
    }
   },
   "outputs": [],
   "source": [
    "cat_view.value_counts()"
   ]
  },
  {
   "cell_type": "code",
   "execution_count": null,
   "metadata": {
    "ExecuteTime": {
     "end_time": "2022-02-22T16:19:12.232092Z",
     "start_time": "2022-02-22T16:19:01.384Z"
    }
   },
   "outputs": [],
   "source": [
    "view_df = pd.DataFrame(view_encoded)\n",
    "view_df.value_counts()"
   ]
  },
  {
   "cell_type": "code",
   "execution_count": null,
   "metadata": {},
   "outputs": [],
   "source": []
  }
 ],
 "metadata": {
  "kernelspec": {
   "display_name": "Python 3",
   "language": "python",
   "name": "python3"
  },
  "language_info": {
   "codemirror_mode": {
    "name": "ipython",
    "version": 3
   },
   "file_extension": ".py",
   "mimetype": "text/x-python",
   "name": "python",
   "nbconvert_exporter": "python",
   "pygments_lexer": "ipython3",
   "version": "3.8.5"
  },
  "toc": {
   "base_numbering": 1,
   "nav_menu": {},
   "number_sections": true,
   "sideBar": true,
   "skip_h1_title": false,
   "title_cell": "Table of Contents",
   "title_sidebar": "Contents",
   "toc_cell": false,
   "toc_position": {
    "height": "calc(100% - 180px)",
    "left": "10px",
    "top": "150px",
    "width": "165px"
   },
   "toc_section_display": true,
   "toc_window_display": true
  }
 },
 "nbformat": 4,
 "nbformat_minor": 2
}
